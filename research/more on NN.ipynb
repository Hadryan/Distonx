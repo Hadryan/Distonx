{
 "cells": [
  {
   "cell_type": "code",
   "execution_count": 1,
   "metadata": {},
   "outputs": [],
   "source": [
    "import warnings\n",
    "warnings.filterwarnings('ignore')\n",
    "\n",
    "import pandas as pd\n",
    "import numpy as np\n",
    "import matplotlib.pyplot as plt\n",
    "import datetime\n",
    "import seaborn as sns\n",
    "sns.set()\n",
    "import tensorflow as tf\n",
    "import sys\n",
    "sys.path.append('..')"
   ]
  },
  {
   "cell_type": "code",
   "execution_count": 3,
   "metadata": {},
   "outputs": [],
   "source": [
    "from stonks.DataCatcher import DB\n",
    "from stonks.auxiliary.data_preprocessing import make_x_y"
   ]
  },
  {
   "cell_type": "code",
   "execution_count": 7,
   "metadata": {},
   "outputs": [],
   "source": [
    "db = DB()"
   ]
  },
  {
   "cell_type": "code",
   "execution_count": 8,
   "metadata": {},
   "outputs": [],
   "source": [
    "start = (datetime.datetime(2020, 3, 23) - datetime.datetime(1970,1,1)).total_seconds()\n",
    "end = (datetime.datetime(2020, 3, 30) - datetime.datetime(1970,1,1)).total_seconds()\n",
    "week_data = db.fetch_pandas(start, end, {'btcusdt'})\n",
    "\n",
    "data = week_data.copy()"
   ]
  },
  {
   "cell_type": "code",
   "execution_count": 9,
   "metadata": {},
   "outputs": [],
   "source": [
    "target = (week_data['depth_bid_price_1'] + week_data['depth_ask_price_1']) / 2.\n",
    "target.index = week_data['time'].apply(datetime.datetime.fromtimestamp)"
   ]
  },
  {
   "cell_type": "code",
   "execution_count": 41,
   "metadata": {},
   "outputs": [],
   "source": [
    "from stonks.auxiliary.data_preprocessing import basic_clean, get_kline_info, construct_order_names, get_state_fast\n",
    "from stonks.auxiliary.data_preprocessing import count_some, rolling, plot_state"
   ]
  },
  {
   "cell_type": "code",
   "execution_count": 12,
   "metadata": {},
   "outputs": [],
   "source": [
    "data = basic_clean(data)"
   ]
  },
  {
   "cell_type": "code",
   "execution_count": 13,
   "metadata": {},
   "outputs": [],
   "source": [
    "orders = data[construct_order_names(5)]\n",
    "some = count_some(orders, 5)\n",
    "some.drop(construct_order_names(5), axis=1, inplace=True)"
   ]
  },
  {
   "cell_type": "code",
   "execution_count": 14,
   "metadata": {},
   "outputs": [],
   "source": [
    "some.drop('mid_price', axis=1, inplace=True)"
   ]
  },
  {
   "cell_type": "code",
   "execution_count": 18,
   "metadata": {},
   "outputs": [],
   "source": [
    "kline_cols = []\n",
    "for el in data.columns:\n",
    "    if 'kline_' in el:\n",
    "        kline_cols.append(el)"
   ]
  },
  {
   "cell_type": "code",
   "execution_count": 21,
   "metadata": {},
   "outputs": [
    {
     "data": {
      "text/html": [
       "<div>\n",
       "<style scoped>\n",
       "    .dataframe tbody tr th:only-of-type {\n",
       "        vertical-align: middle;\n",
       "    }\n",
       "\n",
       "    .dataframe tbody tr th {\n",
       "        vertical-align: top;\n",
       "    }\n",
       "\n",
       "    .dataframe thead th {\n",
       "        text-align: right;\n",
       "    }\n",
       "</style>\n",
       "<table border=\"1\" class=\"dataframe\">\n",
       "  <thead>\n",
       "    <tr style=\"text-align: right;\">\n",
       "      <th></th>\n",
       "      <th>kline_trade_number</th>\n",
       "      <th>kline_open_price</th>\n",
       "      <th>kline_close_price</th>\n",
       "      <th>kline_high_price</th>\n",
       "      <th>kline_low_price</th>\n",
       "      <th>kline_base_volume</th>\n",
       "      <th>kline_quote_volume</th>\n",
       "      <th>kline_taker_base_volume</th>\n",
       "      <th>kline_taker_quote_volume</th>\n",
       "      <th>kline_time_since_update</th>\n",
       "      <th>kline_update_time</th>\n",
       "    </tr>\n",
       "    <tr>\n",
       "      <th>normal_time</th>\n",
       "      <th></th>\n",
       "      <th></th>\n",
       "      <th></th>\n",
       "      <th></th>\n",
       "      <th></th>\n",
       "      <th></th>\n",
       "      <th></th>\n",
       "      <th></th>\n",
       "      <th></th>\n",
       "      <th></th>\n",
       "      <th></th>\n",
       "    </tr>\n",
       "  </thead>\n",
       "  <tbody>\n",
       "    <tr>\n",
       "      <th>2020-03-23 03:00:00.118062</th>\n",
       "      <td>604</td>\n",
       "      <td>5816.79</td>\n",
       "      <td>5816.19</td>\n",
       "      <td>5828.57</td>\n",
       "      <td>5813.0</td>\n",
       "      <td>95.30708</td>\n",
       "      <td>554568.084893</td>\n",
       "      <td>31.87913</td>\n",
       "      <td>185457.192356</td>\n",
       "      <td>60116.780029</td>\n",
       "      <td>1.584922e+12</td>\n",
       "    </tr>\n",
       "    <tr>\n",
       "      <th>2020-03-23 03:00:01.260521</th>\n",
       "      <td>604</td>\n",
       "      <td>5816.79</td>\n",
       "      <td>5816.19</td>\n",
       "      <td>5828.57</td>\n",
       "      <td>5813.0</td>\n",
       "      <td>95.30708</td>\n",
       "      <td>554568.084893</td>\n",
       "      <td>31.87913</td>\n",
       "      <td>185457.192356</td>\n",
       "      <td>1259.923096</td>\n",
       "      <td>1.584922e+12</td>\n",
       "    </tr>\n",
       "    <tr>\n",
       "      <th>2020-03-23 03:00:02.658440</th>\n",
       "      <td>604</td>\n",
       "      <td>5816.79</td>\n",
       "      <td>5816.19</td>\n",
       "      <td>5828.57</td>\n",
       "      <td>5813.0</td>\n",
       "      <td>95.30708</td>\n",
       "      <td>554568.084893</td>\n",
       "      <td>31.87913</td>\n",
       "      <td>185457.192356</td>\n",
       "      <td>2652.394775</td>\n",
       "      <td>1.584922e+12</td>\n",
       "    </tr>\n",
       "    <tr>\n",
       "      <th>2020-03-23 03:00:04.553246</th>\n",
       "      <td>604</td>\n",
       "      <td>5816.79</td>\n",
       "      <td>5816.19</td>\n",
       "      <td>5828.57</td>\n",
       "      <td>5813.0</td>\n",
       "      <td>95.30708</td>\n",
       "      <td>554568.084893</td>\n",
       "      <td>31.87913</td>\n",
       "      <td>185457.192356</td>\n",
       "      <td>4551.988281</td>\n",
       "      <td>1.584922e+12</td>\n",
       "    </tr>\n",
       "    <tr>\n",
       "      <th>2020-03-23 03:00:05.798263</th>\n",
       "      <td>604</td>\n",
       "      <td>5816.79</td>\n",
       "      <td>5816.19</td>\n",
       "      <td>5828.57</td>\n",
       "      <td>5813.0</td>\n",
       "      <td>95.30708</td>\n",
       "      <td>554568.084893</td>\n",
       "      <td>31.87913</td>\n",
       "      <td>185457.192356</td>\n",
       "      <td>5797.824219</td>\n",
       "      <td>1.584922e+12</td>\n",
       "    </tr>\n",
       "  </tbody>\n",
       "</table>\n",
       "</div>"
      ],
      "text/plain": [
       "                            kline_trade_number  kline_open_price  \\\n",
       "normal_time                                                        \n",
       "2020-03-23 03:00:00.118062                 604           5816.79   \n",
       "2020-03-23 03:00:01.260521                 604           5816.79   \n",
       "2020-03-23 03:00:02.658440                 604           5816.79   \n",
       "2020-03-23 03:00:04.553246                 604           5816.79   \n",
       "2020-03-23 03:00:05.798263                 604           5816.79   \n",
       "\n",
       "                            kline_close_price  kline_high_price  \\\n",
       "normal_time                                                       \n",
       "2020-03-23 03:00:00.118062            5816.19           5828.57   \n",
       "2020-03-23 03:00:01.260521            5816.19           5828.57   \n",
       "2020-03-23 03:00:02.658440            5816.19           5828.57   \n",
       "2020-03-23 03:00:04.553246            5816.19           5828.57   \n",
       "2020-03-23 03:00:05.798263            5816.19           5828.57   \n",
       "\n",
       "                            kline_low_price  kline_base_volume  \\\n",
       "normal_time                                                      \n",
       "2020-03-23 03:00:00.118062           5813.0           95.30708   \n",
       "2020-03-23 03:00:01.260521           5813.0           95.30708   \n",
       "2020-03-23 03:00:02.658440           5813.0           95.30708   \n",
       "2020-03-23 03:00:04.553246           5813.0           95.30708   \n",
       "2020-03-23 03:00:05.798263           5813.0           95.30708   \n",
       "\n",
       "                            kline_quote_volume  kline_taker_base_volume  \\\n",
       "normal_time                                                               \n",
       "2020-03-23 03:00:00.118062       554568.084893                 31.87913   \n",
       "2020-03-23 03:00:01.260521       554568.084893                 31.87913   \n",
       "2020-03-23 03:00:02.658440       554568.084893                 31.87913   \n",
       "2020-03-23 03:00:04.553246       554568.084893                 31.87913   \n",
       "2020-03-23 03:00:05.798263       554568.084893                 31.87913   \n",
       "\n",
       "                            kline_taker_quote_volume  kline_time_since_update  \\\n",
       "normal_time                                                                     \n",
       "2020-03-23 03:00:00.118062             185457.192356             60116.780029   \n",
       "2020-03-23 03:00:01.260521             185457.192356              1259.923096   \n",
       "2020-03-23 03:00:02.658440             185457.192356              2652.394775   \n",
       "2020-03-23 03:00:04.553246             185457.192356              4551.988281   \n",
       "2020-03-23 03:00:05.798263             185457.192356              5797.824219   \n",
       "\n",
       "                            kline_update_time  \n",
       "normal_time                                    \n",
       "2020-03-23 03:00:00.118062       1.584922e+12  \n",
       "2020-03-23 03:00:01.260521       1.584922e+12  \n",
       "2020-03-23 03:00:02.658440       1.584922e+12  \n",
       "2020-03-23 03:00:04.553246       1.584922e+12  \n",
       "2020-03-23 03:00:05.798263       1.584922e+12  "
      ]
     },
     "execution_count": 21,
     "metadata": {},
     "output_type": "execute_result"
    }
   ],
   "source": [
    "klines = data[kline_cols]\n",
    "klines.head()"
   ]
  },
  {
   "cell_type": "code",
   "execution_count": 22,
   "metadata": {},
   "outputs": [],
   "source": [
    "klines.drop('kline_update_time', axis=1, inplace=True)\n",
    "klines['kline_delta'] = klines['kline_close_price'] - klines['kline_open_price']\n",
    "klines['kline_volatility'] = klines['kline_high_price'] - klines['kline_low_price']"
   ]
  },
  {
   "cell_type": "code",
   "execution_count": 23,
   "metadata": {},
   "outputs": [],
   "source": [
    "kline_id = 0\n",
    "\n",
    "\n",
    "def get_id(x):\n",
    "    global kline_id\n",
    "    if x:\n",
    "        kline_id += 1\n",
    "    return x * kline_id"
   ]
  },
  {
   "cell_type": "code",
   "execution_count": 25,
   "metadata": {},
   "outputs": [],
   "source": [
    "global kline_id\n",
    "kline_id = 0\n",
    "\n",
    "shifted_update = klines['kline_time_since_update'].shift(1)\n",
    "klines['new_kline'] = klines['kline_time_since_update'] < shifted_update\n",
    "\n",
    "klines['kline_id'] = klines['new_kline'].apply(get_id)\n",
    "\n",
    "klines['kline_id'].replace({0: np.NaN}, inplace=True)\n",
    "klines['kline_id'].ffill(inplace=True)\n",
    "\n",
    "klines.dropna(inplace=True)\n",
    "klines.drop('new_kline', axis=1, inplace=True)\n",
    "off = klines[['kline_id', 'kline_trade_number', 'kline_open_price', 'kline_close_price',\n",
    "                   'kline_high_price', 'kline_low_price', 'kline_base_volume',\n",
    "                   'kline_quote_volume', 'kline_taker_base_volume',\n",
    "                   'kline_taker_quote_volume', 'kline_time_since_update']].groupby(\n",
    "        'kline_id').mean()"
   ]
  },
  {
   "cell_type": "code",
   "execution_count": 40,
   "metadata": {},
   "outputs": [],
   "source": [
    "state = get_state_fast(off['kline_close_price'].reset_index(drop=True), 0.001)\n",
    "state.index = off.index"
   ]
  },
  {
   "cell_type": "code",
   "execution_count": 46,
   "metadata": {},
   "outputs": [
    {
     "data": {
      "text/plain": [
       "<matplotlib.collections.PathCollection at 0x7ff1d01e4da0>"
      ]
     },
     "execution_count": 46,
     "metadata": {},
     "output_type": "execute_result"
    },
    {
     "data": {
      "image/png": "[encoded data removed]",
      "text/plain": [
       "<Figure size 1080x360 with 1 Axes>"
      ]
     },
     "metadata": {
      "needs_background": "light"
     },
     "output_type": "display_data"
    }
   ],
   "source": [
    "plt.figure(figsize=(15, 5))\n",
    "off1 = off.iloc[-60:]\n",
    "plt.plot(off1.index, off1['kline_close_price'])\n",
    "plt.scatter(off1[state == 0].index, off1[state == 0]['kline_close_price'])\n",
    "plt.scatter(off1[state == 1].index, off1[state == 1]['kline_close_price'])"
   ]
  },
  {
   "cell_type": "markdown",
   "metadata": {},
   "source": [
    "### Что насчет LSTM?"
   ]
  },
  {
   "cell_type": "code",
   "execution_count": 47,
   "metadata": {},
   "outputs": [],
   "source": [
    "from sklearn.preprocessing import StandardScaler\n",
    "\n",
    "x = off.copy()\n",
    "y = state\n",
    "\n",
    "scaler = StandardScaler()\n",
    "scaler.fit(x)\n",
    "x = pd.DataFrame(scaler.transform(x), index=x.index, columns=x.columns)\n",
    "\n",
    "x = x[y != -1]\n",
    "y = y[y != -1]"
   ]
  },
  {
   "cell_type": "code",
   "execution_count": 50,
   "metadata": {},
   "outputs": [],
   "source": [
    "from sklearn.model_selection import train_test_split\n",
    "from tensorflow.keras.preprocessing.sequence import TimeseriesGenerator\n",
    "\n",
    "y_cat = tf.keras.utils.to_categorical(y)\n",
    "\n",
    "X_train, X_test, y_train, y_test = train_test_split(x, y_cat, shuffle=False)\n",
    "y_not = y_test[:,1]\n",
    "\n",
    "train_gen = TimeseriesGenerator(X_train.values, y_train, 60, batch_size=64, shuffle=True)\n",
    "val_gen = TimeseriesGenerator(X_test.values, y_test, 60, batch_size=64)"
   ]
  },
  {
   "cell_type": "code",
   "execution_count": 57,
   "metadata": {},
   "outputs": [
    {
     "name": "stdout",
     "output_type": "stream",
     "text": [
      "Model: \"model\"\n",
      "_________________________________________________________________\n",
      "Layer (type)                 Output Shape              Param #   \n",
      "=================================================================\n",
      "lstm_1 (LSTM)                (None, 64)                19200     \n",
      "_________________________________________________________________\n",
      "dense_3 (Dense)              (None, 32)                2080      \n",
      "_________________________________________________________________\n",
      "dense_4 (Dense)              (None, 16)                528       \n",
      "_________________________________________________________________\n",
      "dense_5 (Dense)              (None, 2)                 34        \n",
      "=================================================================\n",
      "Total params: 21,842\n",
      "Trainable params: 21,842\n",
      "Non-trainable params: 0\n",
      "_________________________________________________________________\n"
     ]
    }
   ],
   "source": [
    "model = tf.keras.Sequential(name='model')\n",
    "model.add(tf.keras.layers.LSTM(64, input_shape=(None, 10)))\n",
    "model.add(tf.keras.layers.Dense(32, activation='relu'))\n",
    "model.add(tf.keras.layers.Dense(16, activation='relu'))\n",
    "model.add(tf.keras.layers.Dense(2, activation='softmax'))\n",
    "\n",
    "model.compile('adam', loss='binary_crossentropy', metrics=['accuracy'])\n",
    "\n",
    "model.summary()"
   ]
  },
  {
   "cell_type": "code",
   "execution_count": 59,
   "metadata": {},
   "outputs": [
    {
     "name": "stderr",
     "output_type": "stream",
     "text": [
      "W0410 18:34:54.422444 140681546692416 data_adapter.py:1091] sample_weight modes were coerced from\n",
      "  ...\n",
      "    to  \n",
      "  ['...']\n"
     ]
    },
    {
     "name": "stdout",
     "output_type": "stream",
     "text": [
      "Train for 117 steps\n",
      "Epoch 1/10\n",
      "117/117 [==============================] - 3s 25ms/step - loss: 0.6898 - accuracy: 0.5306\n",
      "Epoch 2/10\n",
      "117/117 [==============================] - 3s 25ms/step - loss: 0.6894 - accuracy: 0.5343\n",
      "Epoch 3/10\n",
      "117/117 [==============================] - 3s 26ms/step - loss: 0.6886 - accuracy: 0.5369\n",
      "Epoch 4/10\n",
      "117/117 [==============================] - 3s 26ms/step - loss: 0.6874 - accuracy: 0.5414\n",
      "Epoch 5/10\n",
      "117/117 [==============================] - 3s 26ms/step - loss: 0.6884 - accuracy: 0.5299\n",
      "Epoch 6/10\n",
      "117/117 [==============================] - 3s 28ms/step - loss: 0.6859 - accuracy: 0.5419\n",
      "Epoch 7/10\n",
      "117/117 [==============================] - 3s 25ms/step - loss: 0.6852 - accuracy: 0.5482\n",
      "Epoch 8/10\n",
      "117/117 [==============================] - 3s 24ms/step - loss: 0.6841 - accuracy: 0.5505\n",
      "Epoch 9/10\n",
      "117/117 [==============================] - 3s 26ms/step - loss: 0.6853 - accuracy: 0.5494\n",
      "Epoch 10/10\n",
      "117/117 [==============================] - 3s 25ms/step - loss: 0.6796 - accuracy: 0.5634\n"
     ]
    },
    {
     "data": {
      "text/plain": [
       "<tensorflow.python.keras.callbacks.History at 0x7ff1d25ed978>"
      ]
     },
     "execution_count": 59,
     "metadata": {},
     "output_type": "execute_result"
    }
   ],
   "source": [
    "model.fit_generator(train_gen, epochs=10)"
   ]
  },
  {
   "cell_type": "code",
   "execution_count": 63,
   "metadata": {},
   "outputs": [
    {
     "data": {
      "text/plain": [
       "1    1308\n",
       "0    1147\n",
       "dtype: int64"
      ]
     },
     "execution_count": 63,
     "metadata": {},
     "output_type": "execute_result"
    }
   ],
   "source": [
    "proba = model.predict_generator(val_gen)\n",
    "probas = pd.DataFrame(proba, columns=['goes_down', 'goes_up'])\n",
    "y_pred = (probas['goes_up'] > probas['goes_down']).apply(int)\n",
    "y_pred.value_counts()"
   ]
  },
  {
   "cell_type": "code",
   "execution_count": 69,
   "metadata": {},
   "outputs": [
    {
     "name": "stdout",
     "output_type": "stream",
     "text": [
      "0.4912423625254583 0.49372957873611484\n",
      "Probabilities: (0.5, 0.5)\n",
      "Precision: 0.45565749235474007\n"
     ]
    }
   ],
   "source": [
    "from sklearn.metrics import accuracy_score, roc_auc_score\n",
    "from stonks.auxiliary.model_selection import choose_prob, plot_predictions\n",
    "y_not = y_test[:,1]\n",
    "print(accuracy_score(y_not[60:], y_pred), roc_auc_score(y_not[60:], y_pred))\n",
    "choose_prob(y_test[60:], probas, 100)"
   ]
  },
  {
   "cell_type": "code",
   "execution_count": 71,
   "metadata": {},
   "outputs": [
    {
     "data": {
      "image/png": "[encoded data removed]",
      "text/plain": [
       "<Figure size 1080x360 with 1 Axes>"
      ]
     },
     "metadata": {},
     "output_type": "display_data"
    },
    {
     "ename": "IndexingError",
     "evalue": "Unalignable boolean Series provided as indexer (index of the boolean Series and of the indexed object do not match).",
     "output_type": "error",
     "traceback": [
      "\u001b[0;31m---------------------------------------------------------------------------\u001b[0m",
      "\u001b[0;31mIndexingError\u001b[0m                             Traceback (most recent call last)",
      "\u001b[0;32m<ipython-input-71-425358d4bc9b>\u001b[0m in \u001b[0;36m<module>\u001b[0;34m\u001b[0m\n\u001b[1;32m      1\u001b[0m \u001b[0mstart\u001b[0m \u001b[0;34m=\u001b[0m \u001b[0;36m0\u001b[0m\u001b[0;34m\u001b[0m\u001b[0;34m\u001b[0m\u001b[0m\n\u001b[1;32m      2\u001b[0m \u001b[0mend\u001b[0m \u001b[0;34m=\u001b[0m \u001b[0;36m100000\u001b[0m\u001b[0;34m\u001b[0m\u001b[0;34m\u001b[0m\u001b[0m\n\u001b[0;32m----> 3\u001b[0;31m \u001b[0mplot_predictions\u001b[0m\u001b[0;34m(\u001b[0m\u001b[0mX_test\u001b[0m\u001b[0;34m[\u001b[0m\u001b[0mstart\u001b[0m\u001b[0;34m:\u001b[0m\u001b[0mend\u001b[0m\u001b[0;34m]\u001b[0m\u001b[0;34m,\u001b[0m \u001b[0my_not\u001b[0m\u001b[0;34m[\u001b[0m\u001b[0mstart\u001b[0m\u001b[0;34m:\u001b[0m\u001b[0mend\u001b[0m\u001b[0;34m]\u001b[0m\u001b[0;34m,\u001b[0m \u001b[0mtarget\u001b[0m\u001b[0;34m[\u001b[0m\u001b[0mX_test\u001b[0m\u001b[0;34m[\u001b[0m\u001b[0mstart\u001b[0m\u001b[0;34m:\u001b[0m\u001b[0mend\u001b[0m\u001b[0;34m]\u001b[0m\u001b[0;34m.\u001b[0m\u001b[0mindex\u001b[0m\u001b[0;34m]\u001b[0m\u001b[0;34m,\u001b[0m \u001b[0mprobas\u001b[0m\u001b[0;34m,\u001b[0m \u001b[0;36m0.5\u001b[0m\u001b[0;34m,\u001b[0m \u001b[0;36m0.5\u001b[0m\u001b[0;34m)\u001b[0m\u001b[0;34m\u001b[0m\u001b[0;34m\u001b[0m\u001b[0m\n\u001b[0m",
      "\u001b[0;32m~/programs/projects/Distonx/stonks/auxiliary/model_selection.py\u001b[0m in \u001b[0;36mplot_predictions\u001b[0;34m(X_test, y_test, target, probas, prob_up, prob_down)\u001b[0m\n\u001b[1;32m     53\u001b[0m     \u001b[0mplt\u001b[0m\u001b[0;34m.\u001b[0m\u001b[0mfigure\u001b[0m\u001b[0;34m(\u001b[0m\u001b[0mfigsize\u001b[0m\u001b[0;34m=\u001b[0m\u001b[0;34m(\u001b[0m\u001b[0;36m15\u001b[0m\u001b[0;34m,\u001b[0m \u001b[0;36m5\u001b[0m\u001b[0;34m)\u001b[0m\u001b[0;34m)\u001b[0m\u001b[0;34m\u001b[0m\u001b[0;34m\u001b[0m\u001b[0m\n\u001b[1;32m     54\u001b[0m     \u001b[0mplt\u001b[0m\u001b[0;34m.\u001b[0m\u001b[0mplot\u001b[0m\u001b[0;34m(\u001b[0m\u001b[0mX_test\u001b[0m\u001b[0;34m.\u001b[0m\u001b[0mindex\u001b[0m\u001b[0;34m,\u001b[0m \u001b[0mtarget\u001b[0m\u001b[0;34m)\u001b[0m\u001b[0;34m\u001b[0m\u001b[0;34m\u001b[0m\u001b[0m\n\u001b[0;32m---> 55\u001b[0;31m     \u001b[0mplt\u001b[0m\u001b[0;34m.\u001b[0m\u001b[0mscatter\u001b[0m\u001b[0;34m(\u001b[0m\u001b[0mX_test\u001b[0m\u001b[0;34m[\u001b[0m\u001b[0mups\u001b[0m\u001b[0;34m]\u001b[0m\u001b[0;34m.\u001b[0m\u001b[0mindex\u001b[0m\u001b[0;34m,\u001b[0m \u001b[0mtarget\u001b[0m\u001b[0;34m[\u001b[0m\u001b[0mups\u001b[0m\u001b[0;34m]\u001b[0m\u001b[0;34m,\u001b[0m \u001b[0mcolor\u001b[0m\u001b[0;34m=\u001b[0m\u001b[0;34m'r'\u001b[0m\u001b[0;34m)\u001b[0m\u001b[0;34m\u001b[0m\u001b[0;34m\u001b[0m\u001b[0m\n\u001b[0m\u001b[1;32m     56\u001b[0m     \u001b[0mplt\u001b[0m\u001b[0;34m.\u001b[0m\u001b[0mscatter\u001b[0m\u001b[0;34m(\u001b[0m\u001b[0mX_test\u001b[0m\u001b[0;34m[\u001b[0m\u001b[0mdowns\u001b[0m\u001b[0;34m]\u001b[0m\u001b[0;34m.\u001b[0m\u001b[0mindex\u001b[0m\u001b[0;34m,\u001b[0m \u001b[0mtarget\u001b[0m\u001b[0;34m[\u001b[0m\u001b[0mdowns\u001b[0m\u001b[0;34m]\u001b[0m\u001b[0;34m,\u001b[0m \u001b[0mcolor\u001b[0m\u001b[0;34m=\u001b[0m\u001b[0;34m'g'\u001b[0m\u001b[0;34m)\u001b[0m\u001b[0;34m\u001b[0m\u001b[0;34m\u001b[0m\u001b[0m\n\u001b[1;32m     57\u001b[0m \u001b[0;34m\u001b[0m\u001b[0m\n",
      "\u001b[0;32m~/.local/lib/python3.7/site-packages/pandas/core/frame.py\u001b[0m in \u001b[0;36m__getitem__\u001b[0;34m(self, key)\u001b[0m\n\u001b[1;32m   2789\u001b[0m         \u001b[0;31m# Do we have a (boolean) 1d indexer?\u001b[0m\u001b[0;34m\u001b[0m\u001b[0;34m\u001b[0m\u001b[0;34m\u001b[0m\u001b[0m\n\u001b[1;32m   2790\u001b[0m         \u001b[0;32mif\u001b[0m \u001b[0mcom\u001b[0m\u001b[0;34m.\u001b[0m\u001b[0mis_bool_indexer\u001b[0m\u001b[0;34m(\u001b[0m\u001b[0mkey\u001b[0m\u001b[0;34m)\u001b[0m\u001b[0;34m:\u001b[0m\u001b[0;34m\u001b[0m\u001b[0;34m\u001b[0m\u001b[0m\n\u001b[0;32m-> 2791\u001b[0;31m             \u001b[0;32mreturn\u001b[0m \u001b[0mself\u001b[0m\u001b[0;34m.\u001b[0m\u001b[0m_getitem_bool_array\u001b[0m\u001b[0;34m(\u001b[0m\u001b[0mkey\u001b[0m\u001b[0;34m)\u001b[0m\u001b[0;34m\u001b[0m\u001b[0;34m\u001b[0m\u001b[0m\n\u001b[0m\u001b[1;32m   2792\u001b[0m \u001b[0;34m\u001b[0m\u001b[0m\n\u001b[1;32m   2793\u001b[0m         \u001b[0;31m# We are left with two options: a single key, and a collection of keys,\u001b[0m\u001b[0;34m\u001b[0m\u001b[0;34m\u001b[0m\u001b[0;34m\u001b[0m\u001b[0m\n",
      "\u001b[0;32m~/.local/lib/python3.7/site-packages/pandas/core/frame.py\u001b[0m in \u001b[0;36m_getitem_bool_array\u001b[0;34m(self, key)\u001b[0m\n\u001b[1;32m   2841\u001b[0m         \u001b[0;31m# check_bool_indexer will throw exception if Series key cannot\u001b[0m\u001b[0;34m\u001b[0m\u001b[0;34m\u001b[0m\u001b[0;34m\u001b[0m\u001b[0m\n\u001b[1;32m   2842\u001b[0m         \u001b[0;31m# be reindexed to match DataFrame rows\u001b[0m\u001b[0;34m\u001b[0m\u001b[0;34m\u001b[0m\u001b[0;34m\u001b[0m\u001b[0m\n\u001b[0;32m-> 2843\u001b[0;31m         \u001b[0mkey\u001b[0m \u001b[0;34m=\u001b[0m \u001b[0mcheck_bool_indexer\u001b[0m\u001b[0;34m(\u001b[0m\u001b[0mself\u001b[0m\u001b[0;34m.\u001b[0m\u001b[0mindex\u001b[0m\u001b[0;34m,\u001b[0m \u001b[0mkey\u001b[0m\u001b[0;34m)\u001b[0m\u001b[0;34m\u001b[0m\u001b[0;34m\u001b[0m\u001b[0m\n\u001b[0m\u001b[1;32m   2844\u001b[0m         \u001b[0mindexer\u001b[0m \u001b[0;34m=\u001b[0m \u001b[0mkey\u001b[0m\u001b[0;34m.\u001b[0m\u001b[0mnonzero\u001b[0m\u001b[0;34m(\u001b[0m\u001b[0;34m)\u001b[0m\u001b[0;34m[\u001b[0m\u001b[0;36m0\u001b[0m\u001b[0;34m]\u001b[0m\u001b[0;34m\u001b[0m\u001b[0;34m\u001b[0m\u001b[0m\n\u001b[1;32m   2845\u001b[0m         \u001b[0;32mreturn\u001b[0m \u001b[0mself\u001b[0m\u001b[0;34m.\u001b[0m\u001b[0m_take_with_is_copy\u001b[0m\u001b[0;34m(\u001b[0m\u001b[0mindexer\u001b[0m\u001b[0;34m,\u001b[0m \u001b[0maxis\u001b[0m\u001b[0;34m=\u001b[0m\u001b[0;36m0\u001b[0m\u001b[0;34m)\u001b[0m\u001b[0;34m\u001b[0m\u001b[0;34m\u001b[0m\u001b[0m\n",
      "\u001b[0;32m~/.local/lib/python3.7/site-packages/pandas/core/indexing.py\u001b[0m in \u001b[0;36mcheck_bool_indexer\u001b[0;34m(index, key)\u001b[0m\n\u001b[1;32m   2316\u001b[0m         \u001b[0;32mif\u001b[0m \u001b[0mmask\u001b[0m\u001b[0;34m.\u001b[0m\u001b[0many\u001b[0m\u001b[0;34m(\u001b[0m\u001b[0;34m)\u001b[0m\u001b[0;34m:\u001b[0m\u001b[0;34m\u001b[0m\u001b[0;34m\u001b[0m\u001b[0m\n\u001b[1;32m   2317\u001b[0m             raise IndexingError(\n\u001b[0;32m-> 2318\u001b[0;31m                 \u001b[0;34m\"Unalignable boolean Series provided as \"\u001b[0m\u001b[0;34m\u001b[0m\u001b[0;34m\u001b[0m\u001b[0m\n\u001b[0m\u001b[1;32m   2319\u001b[0m                 \u001b[0;34m\"indexer (index of the boolean Series and of \"\u001b[0m\u001b[0;34m\u001b[0m\u001b[0;34m\u001b[0m\u001b[0m\n\u001b[1;32m   2320\u001b[0m                 \u001b[0;34m\"the indexed object do not match).\"\u001b[0m\u001b[0;34m\u001b[0m\u001b[0;34m\u001b[0m\u001b[0m\n",
      "\u001b[0;31mIndexingError\u001b[0m: Unalignable boolean Series provided as indexer (index of the boolean Series and of the indexed object do not match)."
     ]
    },
    {
     "data": {
      "image/png": "[encoded data removed]",
      "text/plain": [
       "<Figure size 1080x360 with 1 Axes>"
      ]
     },
     "metadata": {},
     "output_type": "display_data"
    }
   ],
   "source": []
  },
  {
   "cell_type": "code",
   "execution_count": 74,
   "metadata": {},
   "outputs": [
    {
     "data": {
      "text/html": [
       "<div>\n",
       "<style scoped>\n",
       "    .dataframe tbody tr th:only-of-type {\n",
       "        vertical-align: middle;\n",
       "    }\n",
       "\n",
       "    .dataframe tbody tr th {\n",
       "        vertical-align: top;\n",
       "    }\n",
       "\n",
       "    .dataframe thead th {\n",
       "        text-align: right;\n",
       "    }\n",
       "</style>\n",
       "<table border=\"1\" class=\"dataframe\">\n",
       "  <thead>\n",
       "    <tr style=\"text-align: right;\">\n",
       "      <th></th>\n",
       "      <th>kline_trade_number</th>\n",
       "      <th>kline_open_price</th>\n",
       "      <th>kline_close_price</th>\n",
       "      <th>kline_high_price</th>\n",
       "      <th>kline_low_price</th>\n",
       "      <th>kline_base_volume</th>\n",
       "      <th>kline_quote_volume</th>\n",
       "      <th>kline_taker_base_volume</th>\n",
       "      <th>kline_taker_quote_volume</th>\n",
       "      <th>kline_time_since_update</th>\n",
       "    </tr>\n",
       "    <tr>\n",
       "      <th>kline_id</th>\n",
       "      <th></th>\n",
       "      <th></th>\n",
       "      <th></th>\n",
       "      <th></th>\n",
       "      <th></th>\n",
       "      <th></th>\n",
       "      <th></th>\n",
       "      <th></th>\n",
       "      <th></th>\n",
       "      <th></th>\n",
       "    </tr>\n",
       "  </thead>\n",
       "  <tbody>\n",
       "    <tr>\n",
       "      <th>7546.0</th>\n",
       "      <td>0.104722</td>\n",
       "      <td>-0.973798</td>\n",
       "      <td>-0.989704</td>\n",
       "      <td>-0.988082</td>\n",
       "      <td>-0.969677</td>\n",
       "      <td>-0.437376</td>\n",
       "      <td>-0.450397</td>\n",
       "      <td>-0.457657</td>\n",
       "      <td>-0.466605</td>\n",
       "      <td>-0.072936</td>\n",
       "    </tr>\n",
       "    <tr>\n",
       "      <th>7547.0</th>\n",
       "      <td>0.284096</td>\n",
       "      <td>-0.989702</td>\n",
       "      <td>-0.949049</td>\n",
       "      <td>-0.960792</td>\n",
       "      <td>-0.968285</td>\n",
       "      <td>-0.352365</td>\n",
       "      <td>-0.368671</td>\n",
       "      <td>-0.259435</td>\n",
       "      <td>-0.276839</td>\n",
       "      <td>-0.048745</td>\n",
       "    </tr>\n",
       "    <tr>\n",
       "      <th>7548.0</th>\n",
       "      <td>0.126515</td>\n",
       "      <td>-0.949085</td>\n",
       "      <td>-0.943664</td>\n",
       "      <td>-0.961932</td>\n",
       "      <td>-0.938701</td>\n",
       "      <td>-0.412411</td>\n",
       "      <td>-0.426178</td>\n",
       "      <td>-0.336986</td>\n",
       "      <td>-0.350911</td>\n",
       "      <td>-0.057755</td>\n",
       "    </tr>\n",
       "    <tr>\n",
       "      <th>7549.0</th>\n",
       "      <td>0.342770</td>\n",
       "      <td>-0.953222</td>\n",
       "      <td>-0.943736</td>\n",
       "      <td>-0.889144</td>\n",
       "      <td>-0.938345</td>\n",
       "      <td>0.352697</td>\n",
       "      <td>0.309953</td>\n",
       "      <td>0.798699</td>\n",
       "      <td>0.738151</td>\n",
       "      <td>-0.077999</td>\n",
       "    </tr>\n",
       "    <tr>\n",
       "      <th>7550.0</th>\n",
       "      <td>-0.121591</td>\n",
       "      <td>-0.943736</td>\n",
       "      <td>-0.941953</td>\n",
       "      <td>-0.948714</td>\n",
       "      <td>-0.924070</td>\n",
       "      <td>-0.501472</td>\n",
       "      <td>-0.511638</td>\n",
       "      <td>-0.479013</td>\n",
       "      <td>-0.486767</td>\n",
       "      <td>-0.067169</td>\n",
       "    </tr>\n",
       "    <tr>\n",
       "      <th>...</th>\n",
       "      <td>...</td>\n",
       "      <td>...</td>\n",
       "      <td>...</td>\n",
       "      <td>...</td>\n",
       "      <td>...</td>\n",
       "      <td>...</td>\n",
       "      <td>...</td>\n",
       "      <td>...</td>\n",
       "      <td>...</td>\n",
       "      <td>...</td>\n",
       "    </tr>\n",
       "    <tr>\n",
       "      <th>10056.0</th>\n",
       "      <td>-0.476986</td>\n",
       "      <td>-1.838775</td>\n",
       "      <td>-1.845202</td>\n",
       "      <td>-1.847283</td>\n",
       "      <td>-1.825752</td>\n",
       "      <td>-0.256210</td>\n",
       "      <td>-0.292917</td>\n",
       "      <td>-0.285165</td>\n",
       "      <td>-0.315431</td>\n",
       "      <td>-0.056250</td>\n",
       "    </tr>\n",
       "    <tr>\n",
       "      <th>10057.0</th>\n",
       "      <td>-0.351257</td>\n",
       "      <td>-1.845407</td>\n",
       "      <td>-1.855544</td>\n",
       "      <td>-1.856440</td>\n",
       "      <td>-1.838813</td>\n",
       "      <td>-0.379816</td>\n",
       "      <td>-0.407075</td>\n",
       "      <td>-0.194695</td>\n",
       "      <td>-0.232605</td>\n",
       "      <td>-0.072008</td>\n",
       "    </tr>\n",
       "    <tr>\n",
       "      <th>10058.0</th>\n",
       "      <td>-0.419989</td>\n",
       "      <td>-1.852325</td>\n",
       "      <td>-1.873054</td>\n",
       "      <td>-1.872401</td>\n",
       "      <td>-1.866006</td>\n",
       "      <td>-0.427125</td>\n",
       "      <td>-0.450854</td>\n",
       "      <td>-0.420727</td>\n",
       "      <td>-0.440283</td>\n",
       "      <td>-0.076570</td>\n",
       "    </tr>\n",
       "    <tr>\n",
       "      <th>10059.0</th>\n",
       "      <td>-0.396519</td>\n",
       "      <td>-1.873008</td>\n",
       "      <td>-1.886855</td>\n",
       "      <td>-1.888897</td>\n",
       "      <td>-1.869682</td>\n",
       "      <td>-0.369126</td>\n",
       "      <td>-0.397628</td>\n",
       "      <td>-0.316331</td>\n",
       "      <td>-0.344688</td>\n",
       "      <td>-0.081029</td>\n",
       "    </tr>\n",
       "    <tr>\n",
       "      <th>10060.0</th>\n",
       "      <td>0.854970</td>\n",
       "      <td>-1.887512</td>\n",
       "      <td>-1.930661</td>\n",
       "      <td>-1.899104</td>\n",
       "      <td>-1.927016</td>\n",
       "      <td>0.772631</td>\n",
       "      <td>0.650828</td>\n",
       "      <td>0.328659</td>\n",
       "      <td>0.245247</td>\n",
       "      <td>-0.069806</td>\n",
       "    </tr>\n",
       "  </tbody>\n",
       "</table>\n",
       "<p>2515 rows × 10 columns</p>\n",
       "</div>"
      ],
      "text/plain": [
       "          kline_trade_number  kline_open_price  kline_close_price  \\\n",
       "kline_id                                                            \n",
       "7546.0              0.104722         -0.973798          -0.989704   \n",
       "7547.0              0.284096         -0.989702          -0.949049   \n",
       "7548.0              0.126515         -0.949085          -0.943664   \n",
       "7549.0              0.342770         -0.953222          -0.943736   \n",
       "7550.0             -0.121591         -0.943736          -0.941953   \n",
       "...                      ...               ...                ...   \n",
       "10056.0            -0.476986         -1.838775          -1.845202   \n",
       "10057.0            -0.351257         -1.845407          -1.855544   \n",
       "10058.0            -0.419989         -1.852325          -1.873054   \n",
       "10059.0            -0.396519         -1.873008          -1.886855   \n",
       "10060.0             0.854970         -1.887512          -1.930661   \n",
       "\n",
       "          kline_high_price  kline_low_price  kline_base_volume  \\\n",
       "kline_id                                                         \n",
       "7546.0           -0.988082        -0.969677          -0.437376   \n",
       "7547.0           -0.960792        -0.968285          -0.352365   \n",
       "7548.0           -0.961932        -0.938701          -0.412411   \n",
       "7549.0           -0.889144        -0.938345           0.352697   \n",
       "7550.0           -0.948714        -0.924070          -0.501472   \n",
       "...                    ...              ...                ...   \n",
       "10056.0          -1.847283        -1.825752          -0.256210   \n",
       "10057.0          -1.856440        -1.838813          -0.379816   \n",
       "10058.0          -1.872401        -1.866006          -0.427125   \n",
       "10059.0          -1.888897        -1.869682          -0.369126   \n",
       "10060.0          -1.899104        -1.927016           0.772631   \n",
       "\n",
       "          kline_quote_volume  kline_taker_base_volume  \\\n",
       "kline_id                                                \n",
       "7546.0             -0.450397                -0.457657   \n",
       "7547.0             -0.368671                -0.259435   \n",
       "7548.0             -0.426178                -0.336986   \n",
       "7549.0              0.309953                 0.798699   \n",
       "7550.0             -0.511638                -0.479013   \n",
       "...                      ...                      ...   \n",
       "10056.0            -0.292917                -0.285165   \n",
       "10057.0            -0.407075                -0.194695   \n",
       "10058.0            -0.450854                -0.420727   \n",
       "10059.0            -0.397628                -0.316331   \n",
       "10060.0             0.650828                 0.328659   \n",
       "\n",
       "          kline_taker_quote_volume  kline_time_since_update  \n",
       "kline_id                                                     \n",
       "7546.0                   -0.466605                -0.072936  \n",
       "7547.0                   -0.276839                -0.048745  \n",
       "7548.0                   -0.350911                -0.057755  \n",
       "7549.0                    0.738151                -0.077999  \n",
       "7550.0                   -0.486767                -0.067169  \n",
       "...                            ...                      ...  \n",
       "10056.0                  -0.315431                -0.056250  \n",
       "10057.0                  -0.232605                -0.072008  \n",
       "10058.0                  -0.440283                -0.076570  \n",
       "10059.0                  -0.344688                -0.081029  \n",
       "10060.0                   0.245247                -0.069806  \n",
       "\n",
       "[2515 rows x 10 columns]"
      ]
     },
     "execution_count": 74,
     "metadata": {},
     "output_type": "execute_result"
    }
   ],
   "source": [
    "X_test"
   ]
  },
  {
   "cell_type": "code",
   "execution_count": 73,
   "metadata": {},
   "outputs": [
    {
     "data": {
      "text/html": [
       "<div>\n",
       "<style scoped>\n",
       "    .dataframe tbody tr th:only-of-type {\n",
       "        vertical-align: middle;\n",
       "    }\n",
       "\n",
       "    .dataframe tbody tr th {\n",
       "        vertical-align: top;\n",
       "    }\n",
       "\n",
       "    .dataframe thead th {\n",
       "        text-align: right;\n",
       "    }\n",
       "</style>\n",
       "<table border=\"1\" class=\"dataframe\">\n",
       "  <thead>\n",
       "    <tr style=\"text-align: right;\">\n",
       "      <th></th>\n",
       "      <th>goes_down</th>\n",
       "      <th>goes_up</th>\n",
       "    </tr>\n",
       "  </thead>\n",
       "  <tbody>\n",
       "    <tr>\n",
       "      <th>0</th>\n",
       "      <td>0.495173</td>\n",
       "      <td>0.504827</td>\n",
       "    </tr>\n",
       "    <tr>\n",
       "      <th>1</th>\n",
       "      <td>0.469550</td>\n",
       "      <td>0.530450</td>\n",
       "    </tr>\n",
       "    <tr>\n",
       "      <th>2</th>\n",
       "      <td>0.466228</td>\n",
       "      <td>0.533772</td>\n",
       "    </tr>\n",
       "    <tr>\n",
       "      <th>3</th>\n",
       "      <td>0.628538</td>\n",
       "      <td>0.371462</td>\n",
       "    </tr>\n",
       "    <tr>\n",
       "      <th>4</th>\n",
       "      <td>0.597909</td>\n",
       "      <td>0.402091</td>\n",
       "    </tr>\n",
       "    <tr>\n",
       "      <th>...</th>\n",
       "      <td>...</td>\n",
       "      <td>...</td>\n",
       "    </tr>\n",
       "    <tr>\n",
       "      <th>2450</th>\n",
       "      <td>0.585371</td>\n",
       "      <td>0.414629</td>\n",
       "    </tr>\n",
       "    <tr>\n",
       "      <th>2451</th>\n",
       "      <td>0.583961</td>\n",
       "      <td>0.416039</td>\n",
       "    </tr>\n",
       "    <tr>\n",
       "      <th>2452</th>\n",
       "      <td>0.584786</td>\n",
       "      <td>0.415214</td>\n",
       "    </tr>\n",
       "    <tr>\n",
       "      <th>2453</th>\n",
       "      <td>0.586384</td>\n",
       "      <td>0.413616</td>\n",
       "    </tr>\n",
       "    <tr>\n",
       "      <th>2454</th>\n",
       "      <td>0.585965</td>\n",
       "      <td>0.414035</td>\n",
       "    </tr>\n",
       "  </tbody>\n",
       "</table>\n",
       "<p>2455 rows × 2 columns</p>\n",
       "</div>"
      ],
      "text/plain": [
       "      goes_down   goes_up\n",
       "0      0.495173  0.504827\n",
       "1      0.469550  0.530450\n",
       "2      0.466228  0.533772\n",
       "3      0.628538  0.371462\n",
       "4      0.597909  0.402091\n",
       "...         ...       ...\n",
       "2450   0.585371  0.414629\n",
       "2451   0.583961  0.416039\n",
       "2452   0.584786  0.415214\n",
       "2453   0.586384  0.413616\n",
       "2454   0.585965  0.414035\n",
       "\n",
       "[2455 rows x 2 columns]"
      ]
     },
     "execution_count": 73,
     "metadata": {},
     "output_type": "execute_result"
    }
   ],
   "source": [
    "probas"
   ]
  },
  {
   "cell_type": "code",
   "execution_count": null,
   "metadata": {},
   "outputs": [],
   "source": [
    "plt.figure(figsize=(15, 5))\n",
    "off1 = X_test[60:]\n",
    "plt.plot(off1.index, off1['kline_close_price'])\n",
    "plt.scatter(off1[].index, off1[state == 0]['kline_close_price'])\n",
    "plt.scatter(off1[state == 1].index, off1[state == 1]['kline_close_price'])"
   ]
  }
 ],
 "metadata": {
  "kernelspec": {
   "display_name": "Python 3",
   "language": "python",
   "name": "python3"
  },
  "language_info": {
   "codemirror_mode": {
    "name": "ipython",
    "version": 3
   },
   "file_extension": ".py",
   "mimetype": "text/x-python",
   "name": "python",
   "nbconvert_exporter": "python",
   "pygments_lexer": "ipython3",
   "version": "3.7.3"
  }
 },
 "nbformat": 4,
 "nbformat_minor": 2
}
