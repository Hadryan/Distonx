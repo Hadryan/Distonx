{
 "cells": [
  {
   "cell_type": "code",
   "execution_count": 1,
   "metadata": {},
   "outputs": [],
   "source": [
    "import numpy as np\n",
    "import time\n",
    "from binance.client import Client\n",
    "import multiprocessing\n",
    "import threading\n",
    "import matplotlib.pyplot as plt\n",
    "import time\n",
    "from IPython.display import clear_output\n",
    "import seaborn as sns\n",
    "sns.set()"
   ]
  },
  {
   "cell_type": "code",
   "execution_count": 2,
   "metadata": {},
   "outputs": [
    {
     "data": {
      "text/plain": [
       "{'symbol': 'BTCUSDT', 'price': '8988.01000000'}"
      ]
     },
     "execution_count": 2,
     "metadata": {},
     "output_type": "execute_result"
    }
   ],
   "source": [
    "api_key = 'E5Qcm1IZZHToGacR1W108lpmTTjp5UUiScMJEbN7sgo2f4FYj7QQQkoGvnCYdDaj'\n",
    "api_secret = 'unvyAZ4ary0vCfGRlYHlA0yDRd82N5gzfYKK8J8iqaHdL3aMnKoI9kUZXZrVEZVN'\n",
    "client = Client(api_key, api_secret)\n",
    "client.get_symbol_ticker(symbol='BTCUSDT')"
   ]
  },
  {
   "cell_type": "code",
   "execution_count": 6,
   "metadata": {},
   "outputs": [],
   "source": [
    "from binance.websockets import BinanceSocketManager\n",
    "streams = ['btcusdt@trade']"
   ]
  },
  {
   "cell_type": "code",
   "execution_count": 3,
   "metadata": {},
   "outputs": [],
   "source": [
    "def target(x):\n",
    "    print(x)\n",
    "    time.sleep(2)"
   ]
  },
  {
   "cell_type": "code",
   "execution_count": 4,
   "metadata": {},
   "outputs": [],
   "source": [
    "def slow_callback(x):\n",
    "    proc = threading.Thread(target=target, args=(x,))\n",
    "    proc.start()\n",
    "    proc.join()"
   ]
  },
  {
   "cell_type": "code",
   "execution_count": null,
   "metadata": {},
   "outputs": [
    {
     "name": "stdout",
     "output_type": "stream",
     "text": [
      "{'stream': 'btcusdt@trade', 'data': {'e': 'trade', 'E': 1580204421210, 's': 'BTCUSDT', 't': 235517966, 'p': '8991.44000000', 'q': '0.00917100', 'b': 1089762054, 'a': 1089762056, 'T': 1580204421209, 'm': True, 'M': True}}\n",
      "{'stream': 'btcusdt@trade', 'data': {'e': 'trade', 'E': 1580204421306, 's': 'BTCUSDT', 't': 235517967, 'p': '8991.91000000', 'q': '0.05102700', 'b': 1089762069, 'a': 1089762074, 'T': 1580204421305, 'm': True, 'M': True}}\n",
      "{'stream': 'btcusdt@trade', 'data': {'e': 'trade', 'E': 1580204421309, 's': 'BTCUSDT', 't': 235517968, 'p': '8991.91000000', 'q': '0.01113700', 'b': 1089762069, 'a': 1089762077, 'T': 1580204421308, 'm': True, 'M': True}}\n",
      "{'stream': 'btcusdt@trade', 'data': {'e': 'trade', 'E': 1580204421490, 's': 'BTCUSDT', 't': 235517969, 'p': '8992.17000000', 'q': '0.10000000', 'b': 1089762087, 'a': 1089762095, 'T': 1580204421488, 'm': True, 'M': True}}\n",
      "{'stream': 'btcusdt@trade', 'data': {'e': 'trade', 'E': 1580204421619, 's': 'BTCUSDT', 't': 235517970, 'p': '8992.24000000', 'q': '0.27800900', 'b': 1089762114, 'a': 1089762116, 'T': 1580204421618, 'm': True, 'M': True}}\n",
      "{'stream': 'btcusdt@trade', 'data': {'e': 'trade', 'E': 1580204421619, 's': 'BTCUSDT', 't': 235517971, 'p': '8992.21000000', 'q': '0.00000100', 'b': 1089762097, 'a': 1089762116, 'T': 1580204421618, 'm': True, 'M': True}}\n",
      "{'stream': 'btcusdt@trade', 'data': {'e': 'trade', 'E': 1580204421634, 's': 'BTCUSDT', 't': 235517972, 'p': '8992.81000000', 'q': '0.12406600', 'b': 1089762120, 'a': 1089762096, 'T': 1580204421633, 'm': False, 'M': True}}\n",
      "{'stream': 'btcusdt@trade', 'data': {'e': 'trade', 'E': 1580204421714, 's': 'BTCUSDT', 't': 235517973, 'p': '8993.66000000', 'q': '0.00196200', 'b': 1089762135, 'a': 1089762133, 'T': 1580204421712, 'm': False, 'M': True}}\n",
      "{'stream': 'btcusdt@trade', 'data': {'e': 'trade', 'E': 1580204421840, 's': 'BTCUSDT', 't': 235517974, 'p': '8992.10000000', 'q': '0.00974500', 'b': 1089762140, 'a': 1089762149, 'T': 1580204421839, 'm': True, 'M': True}}\n"
     ]
    }
   ],
   "source": [
    "manager = BinanceSocketManager(client)\n",
    "manager.start_multiplex_socket(streams, slow_callback)\n",
    "manager.run()"
   ]
  }
 ],
 "metadata": {
  "kernelspec": {
   "display_name": "Python 3",
   "language": "python",
   "name": "python3"
  },
  "language_info": {
   "codemirror_mode": {
    "name": "ipython",
    "version": 3
   },
   "file_extension": ".py",
   "mimetype": "text/x-python",
   "name": "python",
   "nbconvert_exporter": "python",
   "pygments_lexer": "ipython3",
   "version": "3.7.3"
  }
 },
 "nbformat": 4,
 "nbformat_minor": 2
}
