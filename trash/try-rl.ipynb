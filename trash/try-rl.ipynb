{
 "cells": [
  {
   "cell_type": "code",
   "execution_count": 1,
   "metadata": {},
   "outputs": [],
   "source": [
    "import numpy as np\n",
    "import pandas as pd\n",
    "import tensorflow as tf\n",
    "import tf_agents as tfa"
   ]
  },
  {
   "cell_type": "code",
   "execution_count": 2,
   "metadata": {},
   "outputs": [],
   "source": [
    "import sys\n",
    "sys.path.append('..')"
   ]
  },
  {
   "cell_type": "code",
   "execution_count": 3,
   "metadata": {},
   "outputs": [],
   "source": [
    "from stonks.DataCatcher import DB"
   ]
  },
  {
   "cell_type": "code",
   "execution_count": 4,
   "metadata": {},
   "outputs": [],
   "source": [
    "db = DB()"
   ]
  },
  {
   "cell_type": "code",
   "execution_count": 5,
   "metadata": {},
   "outputs": [],
   "source": [
    "test_time = 3600 * 3\n",
    "start_time = 1581434096\n",
    "indent = 3600\n",
    "data = db.fetch_pandas(start_time - indent, start_time + test_time, pair_names={'btcusdt'})"
   ]
  },
  {
   "cell_type": "code",
   "execution_count": 6,
   "metadata": {},
   "outputs": [
    {
     "data": {
      "text/html": [
       "<div>\n",
       "<style scoped>\n",
       "    .dataframe tbody tr th:only-of-type {\n",
       "        vertical-align: middle;\n",
       "    }\n",
       "\n",
       "    .dataframe tbody tr th {\n",
       "        vertical-align: top;\n",
       "    }\n",
       "\n",
       "    .dataframe thead th {\n",
       "        text-align: right;\n",
       "    }\n",
       "</style>\n",
       "<table border=\"1\" class=\"dataframe\">\n",
       "  <thead>\n",
       "    <tr style=\"text-align: right;\">\n",
       "      <th></th>\n",
       "      <th>id</th>\n",
       "      <th>time</th>\n",
       "      <th>currency_pair</th>\n",
       "      <th>kline_trade_number</th>\n",
       "      <th>kline_open_price</th>\n",
       "      <th>kline_close_price</th>\n",
       "      <th>kline_high_price</th>\n",
       "      <th>kline_low_price</th>\n",
       "      <th>kline_base_volume</th>\n",
       "      <th>kline_quote_volume</th>\n",
       "      <th>...</th>\n",
       "      <th>depth_ask_quantity_11</th>\n",
       "      <th>depth_ask_quantity_12</th>\n",
       "      <th>depth_ask_quantity_13</th>\n",
       "      <th>depth_ask_quantity_14</th>\n",
       "      <th>depth_ask_quantity_15</th>\n",
       "      <th>depth_ask_quantity_16</th>\n",
       "      <th>depth_ask_quantity_17</th>\n",
       "      <th>depth_ask_quantity_18</th>\n",
       "      <th>depth_ask_quantity_19</th>\n",
       "      <th>depth_ask_quantity_20</th>\n",
       "    </tr>\n",
       "  </thead>\n",
       "  <tbody>\n",
       "    <tr>\n",
       "      <th>0</th>\n",
       "      <td>18143</td>\n",
       "      <td>1.581430e+09</td>\n",
       "      <td>btcusdt</td>\n",
       "      <td>751</td>\n",
       "      <td>9892.75</td>\n",
       "      <td>9898.27</td>\n",
       "      <td>9899.0</td>\n",
       "      <td>9890.51</td>\n",
       "      <td>37.334362</td>\n",
       "      <td>3.694741e+05</td>\n",
       "      <td>...</td>\n",
       "      <td>0.300202</td>\n",
       "      <td>0.200000</td>\n",
       "      <td>0.211924</td>\n",
       "      <td>3.250000</td>\n",
       "      <td>0.076492</td>\n",
       "      <td>0.029076</td>\n",
       "      <td>0.200000</td>\n",
       "      <td>0.405080</td>\n",
       "      <td>1.624372</td>\n",
       "      <td>0.300000</td>\n",
       "    </tr>\n",
       "    <tr>\n",
       "      <th>1</th>\n",
       "      <td>18154</td>\n",
       "      <td>1.581430e+09</td>\n",
       "      <td>btcusdt</td>\n",
       "      <td>751</td>\n",
       "      <td>9892.75</td>\n",
       "      <td>9898.27</td>\n",
       "      <td>9899.0</td>\n",
       "      <td>9890.51</td>\n",
       "      <td>37.334362</td>\n",
       "      <td>3.694741e+05</td>\n",
       "      <td>...</td>\n",
       "      <td>0.300202</td>\n",
       "      <td>1.636193</td>\n",
       "      <td>0.200000</td>\n",
       "      <td>0.211924</td>\n",
       "      <td>3.250000</td>\n",
       "      <td>0.076492</td>\n",
       "      <td>0.029076</td>\n",
       "      <td>0.200000</td>\n",
       "      <td>0.405080</td>\n",
       "      <td>1.624372</td>\n",
       "    </tr>\n",
       "    <tr>\n",
       "      <th>2</th>\n",
       "      <td>18165</td>\n",
       "      <td>1.581430e+09</td>\n",
       "      <td>btcusdt</td>\n",
       "      <td>751</td>\n",
       "      <td>9892.75</td>\n",
       "      <td>9898.27</td>\n",
       "      <td>9899.0</td>\n",
       "      <td>9890.51</td>\n",
       "      <td>37.334362</td>\n",
       "      <td>3.694741e+05</td>\n",
       "      <td>...</td>\n",
       "      <td>0.238931</td>\n",
       "      <td>0.300202</td>\n",
       "      <td>1.636193</td>\n",
       "      <td>0.200000</td>\n",
       "      <td>0.211924</td>\n",
       "      <td>3.250000</td>\n",
       "      <td>0.076492</td>\n",
       "      <td>0.029076</td>\n",
       "      <td>0.200000</td>\n",
       "      <td>0.405080</td>\n",
       "    </tr>\n",
       "    <tr>\n",
       "      <th>3</th>\n",
       "      <td>18176</td>\n",
       "      <td>1.581431e+09</td>\n",
       "      <td>btcusdt</td>\n",
       "      <td>658</td>\n",
       "      <td>9896.91</td>\n",
       "      <td>9892.23</td>\n",
       "      <td>9899.0</td>\n",
       "      <td>9890.00</td>\n",
       "      <td>113.940025</td>\n",
       "      <td>1.127307e+06</td>\n",
       "      <td>...</td>\n",
       "      <td>0.072047</td>\n",
       "      <td>0.240000</td>\n",
       "      <td>0.238931</td>\n",
       "      <td>1.636193</td>\n",
       "      <td>0.200000</td>\n",
       "      <td>3.250000</td>\n",
       "      <td>0.200000</td>\n",
       "      <td>0.076492</td>\n",
       "      <td>0.029076</td>\n",
       "      <td>0.200000</td>\n",
       "    </tr>\n",
       "    <tr>\n",
       "      <th>4</th>\n",
       "      <td>18187</td>\n",
       "      <td>1.581431e+09</td>\n",
       "      <td>btcusdt</td>\n",
       "      <td>658</td>\n",
       "      <td>9896.91</td>\n",
       "      <td>9892.23</td>\n",
       "      <td>9899.0</td>\n",
       "      <td>9890.00</td>\n",
       "      <td>113.940025</td>\n",
       "      <td>1.127307e+06</td>\n",
       "      <td>...</td>\n",
       "      <td>1.624652</td>\n",
       "      <td>0.240000</td>\n",
       "      <td>0.238931</td>\n",
       "      <td>0.202197</td>\n",
       "      <td>0.338345</td>\n",
       "      <td>1.636193</td>\n",
       "      <td>0.200000</td>\n",
       "      <td>3.250000</td>\n",
       "      <td>0.200000</td>\n",
       "      <td>0.076492</td>\n",
       "    </tr>\n",
       "  </tbody>\n",
       "</table>\n",
       "<p>5 rows × 94 columns</p>\n",
       "</div>"
      ],
      "text/plain": [
       "      id          time currency_pair  kline_trade_number  kline_open_price  \\\n",
       "0  18143  1.581430e+09       btcusdt                 751           9892.75   \n",
       "1  18154  1.581430e+09       btcusdt                 751           9892.75   \n",
       "2  18165  1.581430e+09       btcusdt                 751           9892.75   \n",
       "3  18176  1.581431e+09       btcusdt                 658           9896.91   \n",
       "4  18187  1.581431e+09       btcusdt                 658           9896.91   \n",
       "\n",
       "   kline_close_price  kline_high_price  kline_low_price  kline_base_volume  \\\n",
       "0            9898.27            9899.0          9890.51          37.334362   \n",
       "1            9898.27            9899.0          9890.51          37.334362   \n",
       "2            9898.27            9899.0          9890.51          37.334362   \n",
       "3            9892.23            9899.0          9890.00         113.940025   \n",
       "4            9892.23            9899.0          9890.00         113.940025   \n",
       "\n",
       "   kline_quote_volume  ...  depth_ask_quantity_11  depth_ask_quantity_12  \\\n",
       "0        3.694741e+05  ...               0.300202               0.200000   \n",
       "1        3.694741e+05  ...               0.300202               1.636193   \n",
       "2        3.694741e+05  ...               0.238931               0.300202   \n",
       "3        1.127307e+06  ...               0.072047               0.240000   \n",
       "4        1.127307e+06  ...               1.624652               0.240000   \n",
       "\n",
       "   depth_ask_quantity_13  depth_ask_quantity_14  depth_ask_quantity_15  \\\n",
       "0               0.211924               3.250000               0.076492   \n",
       "1               0.200000               0.211924               3.250000   \n",
       "2               1.636193               0.200000               0.211924   \n",
       "3               0.238931               1.636193               0.200000   \n",
       "4               0.238931               0.202197               0.338345   \n",
       "\n",
       "   depth_ask_quantity_16  depth_ask_quantity_17  depth_ask_quantity_18  \\\n",
       "0               0.029076               0.200000               0.405080   \n",
       "1               0.076492               0.029076               0.200000   \n",
       "2               3.250000               0.076492               0.029076   \n",
       "3               3.250000               0.200000               0.076492   \n",
       "4               1.636193               0.200000               3.250000   \n",
       "\n",
       "   depth_ask_quantity_19  depth_ask_quantity_20  \n",
       "0               1.624372               0.300000  \n",
       "1               0.405080               1.624372  \n",
       "2               0.200000               0.405080  \n",
       "3               0.029076               0.200000  \n",
       "4               0.200000               0.076492  \n",
       "\n",
       "[5 rows x 94 columns]"
      ]
     },
     "execution_count": 6,
     "metadata": {},
     "output_type": "execute_result"
    }
   ],
   "source": [
    "backup = data.copy()\n",
    "data.head()"
   ]
  },
  {
   "cell_type": "code",
   "execution_count": 7,
   "metadata": {},
   "outputs": [],
   "source": [
    "import stonks.auxiliary.data_preprocessing as dp"
   ]
  },
  {
   "cell_type": "code",
   "execution_count": 8,
   "metadata": {},
   "outputs": [
    {
     "data": {
      "text/html": [
       "<div>\n",
       "<style scoped>\n",
       "    .dataframe tbody tr th:only-of-type {\n",
       "        vertical-align: middle;\n",
       "    }\n",
       "\n",
       "    .dataframe tbody tr th {\n",
       "        vertical-align: top;\n",
       "    }\n",
       "\n",
       "    .dataframe thead th {\n",
       "        text-align: right;\n",
       "    }\n",
       "</style>\n",
       "<table border=\"1\" class=\"dataframe\">\n",
       "  <thead>\n",
       "    <tr style=\"text-align: right;\">\n",
       "      <th></th>\n",
       "      <th>kline_trade_number</th>\n",
       "      <th>kline_open_price</th>\n",
       "      <th>kline_close_price</th>\n",
       "      <th>kline_high_price</th>\n",
       "      <th>kline_low_price</th>\n",
       "      <th>kline_base_volume</th>\n",
       "      <th>kline_quote_volume</th>\n",
       "      <th>kline_taker_base_volume</th>\n",
       "      <th>kline_taker_quote_volume</th>\n",
       "      <th>kline_time_since_update</th>\n",
       "      <th>...</th>\n",
       "      <th>depth_ask_quantity_11</th>\n",
       "      <th>depth_ask_quantity_12</th>\n",
       "      <th>depth_ask_quantity_13</th>\n",
       "      <th>depth_ask_quantity_14</th>\n",
       "      <th>depth_ask_quantity_15</th>\n",
       "      <th>depth_ask_quantity_16</th>\n",
       "      <th>depth_ask_quantity_17</th>\n",
       "      <th>depth_ask_quantity_18</th>\n",
       "      <th>depth_ask_quantity_19</th>\n",
       "      <th>depth_ask_quantity_20</th>\n",
       "    </tr>\n",
       "    <tr>\n",
       "      <th>normal_time</th>\n",
       "      <th></th>\n",
       "      <th></th>\n",
       "      <th></th>\n",
       "      <th></th>\n",
       "      <th></th>\n",
       "      <th></th>\n",
       "      <th></th>\n",
       "      <th></th>\n",
       "      <th></th>\n",
       "      <th></th>\n",
       "      <th></th>\n",
       "      <th></th>\n",
       "      <th></th>\n",
       "      <th></th>\n",
       "      <th></th>\n",
       "      <th></th>\n",
       "      <th></th>\n",
       "      <th></th>\n",
       "      <th></th>\n",
       "      <th></th>\n",
       "      <th></th>\n",
       "    </tr>\n",
       "  </thead>\n",
       "  <tbody>\n",
       "    <tr>\n",
       "      <th>2020-02-11 17:14:56.493912</th>\n",
       "      <td>751</td>\n",
       "      <td>9892.75</td>\n",
       "      <td>9898.27</td>\n",
       "      <td>9899.0</td>\n",
       "      <td>9890.51</td>\n",
       "      <td>37.334362</td>\n",
       "      <td>3.694741e+05</td>\n",
       "      <td>20.694046</td>\n",
       "      <td>204800.953949</td>\n",
       "      <td>56492.987549</td>\n",
       "      <td>...</td>\n",
       "      <td>0.300202</td>\n",
       "      <td>0.200000</td>\n",
       "      <td>0.211924</td>\n",
       "      <td>3.250000</td>\n",
       "      <td>0.076492</td>\n",
       "      <td>0.029076</td>\n",
       "      <td>0.200000</td>\n",
       "      <td>0.405080</td>\n",
       "      <td>1.624372</td>\n",
       "      <td>0.300000</td>\n",
       "    </tr>\n",
       "    <tr>\n",
       "      <th>2020-02-11 17:14:57.716687</th>\n",
       "      <td>751</td>\n",
       "      <td>9892.75</td>\n",
       "      <td>9898.27</td>\n",
       "      <td>9899.0</td>\n",
       "      <td>9890.51</td>\n",
       "      <td>37.334362</td>\n",
       "      <td>3.694741e+05</td>\n",
       "      <td>20.694046</td>\n",
       "      <td>204800.953949</td>\n",
       "      <td>57714.942871</td>\n",
       "      <td>...</td>\n",
       "      <td>0.300202</td>\n",
       "      <td>1.636193</td>\n",
       "      <td>0.200000</td>\n",
       "      <td>0.211924</td>\n",
       "      <td>3.250000</td>\n",
       "      <td>0.076492</td>\n",
       "      <td>0.029076</td>\n",
       "      <td>0.200000</td>\n",
       "      <td>0.405080</td>\n",
       "      <td>1.624372</td>\n",
       "    </tr>\n",
       "    <tr>\n",
       "      <th>2020-02-11 17:14:58.946222</th>\n",
       "      <td>751</td>\n",
       "      <td>9892.75</td>\n",
       "      <td>9898.27</td>\n",
       "      <td>9899.0</td>\n",
       "      <td>9890.51</td>\n",
       "      <td>37.334362</td>\n",
       "      <td>3.694741e+05</td>\n",
       "      <td>20.694046</td>\n",
       "      <td>204800.953949</td>\n",
       "      <td>58945.212891</td>\n",
       "      <td>...</td>\n",
       "      <td>0.238931</td>\n",
       "      <td>0.300202</td>\n",
       "      <td>1.636193</td>\n",
       "      <td>0.200000</td>\n",
       "      <td>0.211924</td>\n",
       "      <td>3.250000</td>\n",
       "      <td>0.076492</td>\n",
       "      <td>0.029076</td>\n",
       "      <td>0.200000</td>\n",
       "      <td>0.405080</td>\n",
       "    </tr>\n",
       "    <tr>\n",
       "      <th>2020-02-11 17:15:00.174831</th>\n",
       "      <td>658</td>\n",
       "      <td>9896.91</td>\n",
       "      <td>9892.23</td>\n",
       "      <td>9899.0</td>\n",
       "      <td>9890.00</td>\n",
       "      <td>113.940025</td>\n",
       "      <td>1.127307e+06</td>\n",
       "      <td>59.674289</td>\n",
       "      <td>590407.202867</td>\n",
       "      <td>173.825195</td>\n",
       "      <td>...</td>\n",
       "      <td>0.072047</td>\n",
       "      <td>0.240000</td>\n",
       "      <td>0.238931</td>\n",
       "      <td>1.636193</td>\n",
       "      <td>0.200000</td>\n",
       "      <td>3.250000</td>\n",
       "      <td>0.200000</td>\n",
       "      <td>0.076492</td>\n",
       "      <td>0.029076</td>\n",
       "      <td>0.200000</td>\n",
       "    </tr>\n",
       "    <tr>\n",
       "      <th>2020-02-11 17:15:01.394274</th>\n",
       "      <td>658</td>\n",
       "      <td>9896.91</td>\n",
       "      <td>9892.23</td>\n",
       "      <td>9899.0</td>\n",
       "      <td>9890.00</td>\n",
       "      <td>113.940025</td>\n",
       "      <td>1.127307e+06</td>\n",
       "      <td>59.674289</td>\n",
       "      <td>590407.202867</td>\n",
       "      <td>1386.189209</td>\n",
       "      <td>...</td>\n",
       "      <td>1.624652</td>\n",
       "      <td>0.240000</td>\n",
       "      <td>0.238931</td>\n",
       "      <td>0.202197</td>\n",
       "      <td>0.338345</td>\n",
       "      <td>1.636193</td>\n",
       "      <td>0.200000</td>\n",
       "      <td>3.250000</td>\n",
       "      <td>0.200000</td>\n",
       "      <td>0.076492</td>\n",
       "    </tr>\n",
       "  </tbody>\n",
       "</table>\n",
       "<p>5 rows × 91 columns</p>\n",
       "</div>"
      ],
      "text/plain": [
       "                            kline_trade_number  kline_open_price  \\\n",
       "normal_time                                                        \n",
       "2020-02-11 17:14:56.493912                 751           9892.75   \n",
       "2020-02-11 17:14:57.716687                 751           9892.75   \n",
       "2020-02-11 17:14:58.946222                 751           9892.75   \n",
       "2020-02-11 17:15:00.174831                 658           9896.91   \n",
       "2020-02-11 17:15:01.394274                 658           9896.91   \n",
       "\n",
       "                            kline_close_price  kline_high_price  \\\n",
       "normal_time                                                       \n",
       "2020-02-11 17:14:56.493912            9898.27            9899.0   \n",
       "2020-02-11 17:14:57.716687            9898.27            9899.0   \n",
       "2020-02-11 17:14:58.946222            9898.27            9899.0   \n",
       "2020-02-11 17:15:00.174831            9892.23            9899.0   \n",
       "2020-02-11 17:15:01.394274            9892.23            9899.0   \n",
       "\n",
       "                            kline_low_price  kline_base_volume  \\\n",
       "normal_time                                                      \n",
       "2020-02-11 17:14:56.493912          9890.51          37.334362   \n",
       "2020-02-11 17:14:57.716687          9890.51          37.334362   \n",
       "2020-02-11 17:14:58.946222          9890.51          37.334362   \n",
       "2020-02-11 17:15:00.174831          9890.00         113.940025   \n",
       "2020-02-11 17:15:01.394274          9890.00         113.940025   \n",
       "\n",
       "                            kline_quote_volume  kline_taker_base_volume  \\\n",
       "normal_time                                                               \n",
       "2020-02-11 17:14:56.493912        3.694741e+05                20.694046   \n",
       "2020-02-11 17:14:57.716687        3.694741e+05                20.694046   \n",
       "2020-02-11 17:14:58.946222        3.694741e+05                20.694046   \n",
       "2020-02-11 17:15:00.174831        1.127307e+06                59.674289   \n",
       "2020-02-11 17:15:01.394274        1.127307e+06                59.674289   \n",
       "\n",
       "                            kline_taker_quote_volume  kline_time_since_update  \\\n",
       "normal_time                                                                     \n",
       "2020-02-11 17:14:56.493912             204800.953949             56492.987549   \n",
       "2020-02-11 17:14:57.716687             204800.953949             57714.942871   \n",
       "2020-02-11 17:14:58.946222             204800.953949             58945.212891   \n",
       "2020-02-11 17:15:00.174831             590407.202867               173.825195   \n",
       "2020-02-11 17:15:01.394274             590407.202867              1386.189209   \n",
       "\n",
       "                            ...  depth_ask_quantity_11  depth_ask_quantity_12  \\\n",
       "normal_time                 ...                                                 \n",
       "2020-02-11 17:14:56.493912  ...               0.300202               0.200000   \n",
       "2020-02-11 17:14:57.716687  ...               0.300202               1.636193   \n",
       "2020-02-11 17:14:58.946222  ...               0.238931               0.300202   \n",
       "2020-02-11 17:15:00.174831  ...               0.072047               0.240000   \n",
       "2020-02-11 17:15:01.394274  ...               1.624652               0.240000   \n",
       "\n",
       "                            depth_ask_quantity_13  depth_ask_quantity_14  \\\n",
       "normal_time                                                                \n",
       "2020-02-11 17:14:56.493912               0.211924               3.250000   \n",
       "2020-02-11 17:14:57.716687               0.200000               0.211924   \n",
       "2020-02-11 17:14:58.946222               1.636193               0.200000   \n",
       "2020-02-11 17:15:00.174831               0.238931               1.636193   \n",
       "2020-02-11 17:15:01.394274               0.238931               0.202197   \n",
       "\n",
       "                            depth_ask_quantity_15  depth_ask_quantity_16  \\\n",
       "normal_time                                                                \n",
       "2020-02-11 17:14:56.493912               0.076492               0.029076   \n",
       "2020-02-11 17:14:57.716687               3.250000               0.076492   \n",
       "2020-02-11 17:14:58.946222               0.211924               3.250000   \n",
       "2020-02-11 17:15:00.174831               0.200000               3.250000   \n",
       "2020-02-11 17:15:01.394274               0.338345               1.636193   \n",
       "\n",
       "                            depth_ask_quantity_17  depth_ask_quantity_18  \\\n",
       "normal_time                                                                \n",
       "2020-02-11 17:14:56.493912               0.200000               0.405080   \n",
       "2020-02-11 17:14:57.716687               0.029076               0.200000   \n",
       "2020-02-11 17:14:58.946222               0.076492               0.029076   \n",
       "2020-02-11 17:15:00.174831               0.200000               0.076492   \n",
       "2020-02-11 17:15:01.394274               0.200000               3.250000   \n",
       "\n",
       "                            depth_ask_quantity_19  depth_ask_quantity_20  \n",
       "normal_time                                                               \n",
       "2020-02-11 17:14:56.493912               1.624372               0.300000  \n",
       "2020-02-11 17:14:57.716687               0.405080               1.624372  \n",
       "2020-02-11 17:14:58.946222               0.200000               0.405080  \n",
       "2020-02-11 17:15:00.174831               0.029076               0.200000  \n",
       "2020-02-11 17:15:01.394274               0.200000               0.076492  \n",
       "\n",
       "[5 rows x 91 columns]"
      ]
     },
     "execution_count": 8,
     "metadata": {},
     "output_type": "execute_result"
    }
   ],
   "source": [
    "data = dp.basic_clean(data)\n",
    "data.head()"
   ]
  },
  {
   "cell_type": "code",
   "execution_count": 9,
   "metadata": {},
   "outputs": [],
   "source": [
    "import warnings\n",
    "warnings.filterwarnings('ignore')"
   ]
  },
  {
   "cell_type": "code",
   "execution_count": 10,
   "metadata": {},
   "outputs": [],
   "source": [
    "from sklearn.preprocessing import StandardScaler\n",
    "\n",
    "copy = data.copy()\n",
    "some = dp.make_x(copy)"
   ]
  },
  {
   "cell_type": "code",
   "execution_count": 11,
   "metadata": {},
   "outputs": [
    {
     "data": {
      "text/html": [
       "<div>\n",
       "<style scoped>\n",
       "    .dataframe tbody tr th:only-of-type {\n",
       "        vertical-align: middle;\n",
       "    }\n",
       "\n",
       "    .dataframe tbody tr th {\n",
       "        vertical-align: top;\n",
       "    }\n",
       "\n",
       "    .dataframe thead th {\n",
       "        text-align: right;\n",
       "    }\n",
       "</style>\n",
       "<table border=\"1\" class=\"dataframe\">\n",
       "  <thead>\n",
       "    <tr style=\"text-align: right;\">\n",
       "      <th></th>\n",
       "      <th>kline_trade_number</th>\n",
       "      <th>kline_base_volume</th>\n",
       "      <th>kline_quote_volume</th>\n",
       "      <th>kline_taker_base_volume</th>\n",
       "      <th>kline_taker_quote_volume</th>\n",
       "      <th>kline_time_since_update</th>\n",
       "      <th>volume_adi</th>\n",
       "      <th>volume_obv</th>\n",
       "      <th>volume_cmf</th>\n",
       "      <th>volume_fi</th>\n",
       "      <th>...</th>\n",
       "      <th>imbalance_2</th>\n",
       "      <th>imbalance_3</th>\n",
       "      <th>imbalance_4</th>\n",
       "      <th>imbalance_5</th>\n",
       "      <th>spread</th>\n",
       "      <th>rolling_5s</th>\n",
       "      <th>rolling_15s</th>\n",
       "      <th>rolling_30s</th>\n",
       "      <th>rolling_1min</th>\n",
       "      <th>rolling_5min</th>\n",
       "    </tr>\n",
       "    <tr>\n",
       "      <th>normal_time</th>\n",
       "      <th></th>\n",
       "      <th></th>\n",
       "      <th></th>\n",
       "      <th></th>\n",
       "      <th></th>\n",
       "      <th></th>\n",
       "      <th></th>\n",
       "      <th></th>\n",
       "      <th></th>\n",
       "      <th></th>\n",
       "      <th></th>\n",
       "      <th></th>\n",
       "      <th></th>\n",
       "      <th></th>\n",
       "      <th></th>\n",
       "      <th></th>\n",
       "      <th></th>\n",
       "      <th></th>\n",
       "      <th></th>\n",
       "      <th></th>\n",
       "      <th></th>\n",
       "    </tr>\n",
       "  </thead>\n",
       "  <tbody>\n",
       "    <tr>\n",
       "      <th>2020-02-11 17:15:00.174831</th>\n",
       "      <td>657.14</td>\n",
       "      <td>112.359097</td>\n",
       "      <td>1.111663e+06</td>\n",
       "      <td>58.696918</td>\n",
       "      <td>580736.734845</td>\n",
       "      <td>31175.225361</td>\n",
       "      <td>-56.599606</td>\n",
       "      <td>112.359097</td>\n",
       "      <td>-0.503739</td>\n",
       "      <td>0.0</td>\n",
       "      <td>...</td>\n",
       "      <td>0.698215</td>\n",
       "      <td>0.723431</td>\n",
       "      <td>0.609812</td>\n",
       "      <td>0.667221</td>\n",
       "      <td>1.62</td>\n",
       "      <td>1.000000</td>\n",
       "      <td>1.000000</td>\n",
       "      <td>1.000000</td>\n",
       "      <td>1.000000</td>\n",
       "      <td>1.000000</td>\n",
       "    </tr>\n",
       "    <tr>\n",
       "      <th>2020-02-11 17:15:01.394274</th>\n",
       "      <td>657.14</td>\n",
       "      <td>112.359097</td>\n",
       "      <td>1.111663e+06</td>\n",
       "      <td>58.696918</td>\n",
       "      <td>580736.734845</td>\n",
       "      <td>31175.225361</td>\n",
       "      <td>-56.599606</td>\n",
       "      <td>112.359097</td>\n",
       "      <td>-0.503739</td>\n",
       "      <td>0.0</td>\n",
       "      <td>...</td>\n",
       "      <td>-0.182113</td>\n",
       "      <td>0.895913</td>\n",
       "      <td>0.319028</td>\n",
       "      <td>0.330439</td>\n",
       "      <td>1.41</td>\n",
       "      <td>0.999994</td>\n",
       "      <td>0.999994</td>\n",
       "      <td>0.999994</td>\n",
       "      <td>0.999994</td>\n",
       "      <td>0.999994</td>\n",
       "    </tr>\n",
       "    <tr>\n",
       "      <th>2020-02-11 17:15:03.317110</th>\n",
       "      <td>657.14</td>\n",
       "      <td>112.359097</td>\n",
       "      <td>1.111663e+06</td>\n",
       "      <td>58.696918</td>\n",
       "      <td>580736.734845</td>\n",
       "      <td>31175.225361</td>\n",
       "      <td>-56.599606</td>\n",
       "      <td>112.359097</td>\n",
       "      <td>-0.503739</td>\n",
       "      <td>0.0</td>\n",
       "      <td>...</td>\n",
       "      <td>0.786535</td>\n",
       "      <td>0.342554</td>\n",
       "      <td>0.347343</td>\n",
       "      <td>0.094887</td>\n",
       "      <td>1.18</td>\n",
       "      <td>0.999999</td>\n",
       "      <td>0.999999</td>\n",
       "      <td>0.999999</td>\n",
       "      <td>0.999999</td>\n",
       "      <td>0.999999</td>\n",
       "    </tr>\n",
       "    <tr>\n",
       "      <th>2020-02-11 17:15:05.348821</th>\n",
       "      <td>657.14</td>\n",
       "      <td>112.359097</td>\n",
       "      <td>1.111663e+06</td>\n",
       "      <td>58.696918</td>\n",
       "      <td>580736.734845</td>\n",
       "      <td>31175.225361</td>\n",
       "      <td>-56.599606</td>\n",
       "      <td>112.359097</td>\n",
       "      <td>-0.503739</td>\n",
       "      <td>0.0</td>\n",
       "      <td>...</td>\n",
       "      <td>0.707409</td>\n",
       "      <td>0.566383</td>\n",
       "      <td>0.832700</td>\n",
       "      <td>0.789351</td>\n",
       "      <td>0.29</td>\n",
       "      <td>0.999941</td>\n",
       "      <td>0.999931</td>\n",
       "      <td>0.999931</td>\n",
       "      <td>0.999931</td>\n",
       "      <td>0.999931</td>\n",
       "    </tr>\n",
       "    <tr>\n",
       "      <th>2020-02-11 17:15:06.640317</th>\n",
       "      <td>657.14</td>\n",
       "      <td>112.359097</td>\n",
       "      <td>1.111663e+06</td>\n",
       "      <td>58.696918</td>\n",
       "      <td>580736.734845</td>\n",
       "      <td>31175.225361</td>\n",
       "      <td>-56.599606</td>\n",
       "      <td>112.359097</td>\n",
       "      <td>-0.503739</td>\n",
       "      <td>0.0</td>\n",
       "      <td>...</td>\n",
       "      <td>-0.998998</td>\n",
       "      <td>-0.993568</td>\n",
       "      <td>-0.971755</td>\n",
       "      <td>-0.971032</td>\n",
       "      <td>0.01</td>\n",
       "      <td>0.999978</td>\n",
       "      <td>0.999955</td>\n",
       "      <td>0.999955</td>\n",
       "      <td>0.999955</td>\n",
       "      <td>0.999955</td>\n",
       "    </tr>\n",
       "  </tbody>\n",
       "</table>\n",
       "<p>5 rows × 109 columns</p>\n",
       "</div>"
      ],
      "text/plain": [
       "                            kline_trade_number  kline_base_volume  \\\n",
       "normal_time                                                         \n",
       "2020-02-11 17:15:00.174831              657.14         112.359097   \n",
       "2020-02-11 17:15:01.394274              657.14         112.359097   \n",
       "2020-02-11 17:15:03.317110              657.14         112.359097   \n",
       "2020-02-11 17:15:05.348821              657.14         112.359097   \n",
       "2020-02-11 17:15:06.640317              657.14         112.359097   \n",
       "\n",
       "                            kline_quote_volume  kline_taker_base_volume  \\\n",
       "normal_time                                                               \n",
       "2020-02-11 17:15:00.174831        1.111663e+06                58.696918   \n",
       "2020-02-11 17:15:01.394274        1.111663e+06                58.696918   \n",
       "2020-02-11 17:15:03.317110        1.111663e+06                58.696918   \n",
       "2020-02-11 17:15:05.348821        1.111663e+06                58.696918   \n",
       "2020-02-11 17:15:06.640317        1.111663e+06                58.696918   \n",
       "\n",
       "                            kline_taker_quote_volume  kline_time_since_update  \\\n",
       "normal_time                                                                     \n",
       "2020-02-11 17:15:00.174831             580736.734845             31175.225361   \n",
       "2020-02-11 17:15:01.394274             580736.734845             31175.225361   \n",
       "2020-02-11 17:15:03.317110             580736.734845             31175.225361   \n",
       "2020-02-11 17:15:05.348821             580736.734845             31175.225361   \n",
       "2020-02-11 17:15:06.640317             580736.734845             31175.225361   \n",
       "\n",
       "                            volume_adi  volume_obv  volume_cmf  volume_fi  \\\n",
       "normal_time                                                                 \n",
       "2020-02-11 17:15:00.174831  -56.599606  112.359097   -0.503739        0.0   \n",
       "2020-02-11 17:15:01.394274  -56.599606  112.359097   -0.503739        0.0   \n",
       "2020-02-11 17:15:03.317110  -56.599606  112.359097   -0.503739        0.0   \n",
       "2020-02-11 17:15:05.348821  -56.599606  112.359097   -0.503739        0.0   \n",
       "2020-02-11 17:15:06.640317  -56.599606  112.359097   -0.503739        0.0   \n",
       "\n",
       "                            ...  imbalance_2  imbalance_3  imbalance_4  \\\n",
       "normal_time                 ...                                          \n",
       "2020-02-11 17:15:00.174831  ...     0.698215     0.723431     0.609812   \n",
       "2020-02-11 17:15:01.394274  ...    -0.182113     0.895913     0.319028   \n",
       "2020-02-11 17:15:03.317110  ...     0.786535     0.342554     0.347343   \n",
       "2020-02-11 17:15:05.348821  ...     0.707409     0.566383     0.832700   \n",
       "2020-02-11 17:15:06.640317  ...    -0.998998    -0.993568    -0.971755   \n",
       "\n",
       "                            imbalance_5  spread  rolling_5s  rolling_15s  \\\n",
       "normal_time                                                                \n",
       "2020-02-11 17:15:00.174831     0.667221    1.62    1.000000     1.000000   \n",
       "2020-02-11 17:15:01.394274     0.330439    1.41    0.999994     0.999994   \n",
       "2020-02-11 17:15:03.317110     0.094887    1.18    0.999999     0.999999   \n",
       "2020-02-11 17:15:05.348821     0.789351    0.29    0.999941     0.999931   \n",
       "2020-02-11 17:15:06.640317    -0.971032    0.01    0.999978     0.999955   \n",
       "\n",
       "                            rolling_30s  rolling_1min  rolling_5min  \n",
       "normal_time                                                          \n",
       "2020-02-11 17:15:00.174831     1.000000      1.000000      1.000000  \n",
       "2020-02-11 17:15:01.394274     0.999994      0.999994      0.999994  \n",
       "2020-02-11 17:15:03.317110     0.999999      0.999999      0.999999  \n",
       "2020-02-11 17:15:05.348821     0.999931      0.999931      0.999931  \n",
       "2020-02-11 17:15:06.640317     0.999955      0.999955      0.999955  \n",
       "\n",
       "[5 rows x 109 columns]"
      ]
     },
     "execution_count": 11,
     "metadata": {},
     "output_type": "execute_result"
    }
   ],
   "source": [
    "some.head()"
   ]
  },
  {
   "cell_type": "code",
   "execution_count": 12,
   "metadata": {},
   "outputs": [
    {
     "name": "stdout",
     "output_type": "stream",
     "text": [
      "float64\n"
     ]
    },
    {
     "data": {
      "text/plain": [
       "(11748, 109)"
      ]
     },
     "execution_count": 12,
     "metadata": {},
     "output_type": "execute_result"
    }
   ],
   "source": [
    "final = StandardScaler().fit_transform(some)\n",
    "print(final.dtype)\n",
    "final.shape"
   ]
  },
  {
   "cell_type": "code",
   "execution_count": 27,
   "metadata": {},
   "outputs": [
    {
     "data": {
      "text/html": [
       "<div>\n",
       "<style scoped>\n",
       "    .dataframe tbody tr th:only-of-type {\n",
       "        vertical-align: middle;\n",
       "    }\n",
       "\n",
       "    .dataframe tbody tr th {\n",
       "        vertical-align: top;\n",
       "    }\n",
       "\n",
       "    .dataframe thead th {\n",
       "        text-align: right;\n",
       "    }\n",
       "</style>\n",
       "<table border=\"1\" class=\"dataframe\">\n",
       "  <thead>\n",
       "    <tr style=\"text-align: right;\">\n",
       "      <th></th>\n",
       "      <th>kline_trade_number</th>\n",
       "      <th>kline_base_volume</th>\n",
       "      <th>kline_quote_volume</th>\n",
       "      <th>kline_taker_base_volume</th>\n",
       "      <th>kline_taker_quote_volume</th>\n",
       "      <th>kline_time_since_update</th>\n",
       "      <th>volume_adi</th>\n",
       "      <th>volume_obv</th>\n",
       "      <th>volume_cmf</th>\n",
       "      <th>volume_fi</th>\n",
       "      <th>...</th>\n",
       "      <th>imbalance_2</th>\n",
       "      <th>imbalance_3</th>\n",
       "      <th>imbalance_4</th>\n",
       "      <th>imbalance_5</th>\n",
       "      <th>spread</th>\n",
       "      <th>rolling_5s</th>\n",
       "      <th>rolling_15s</th>\n",
       "      <th>rolling_30s</th>\n",
       "      <th>rolling_1min</th>\n",
       "      <th>rolling_5min</th>\n",
       "    </tr>\n",
       "    <tr>\n",
       "      <th>normal_time</th>\n",
       "      <th></th>\n",
       "      <th></th>\n",
       "      <th></th>\n",
       "      <th></th>\n",
       "      <th></th>\n",
       "      <th></th>\n",
       "      <th></th>\n",
       "      <th></th>\n",
       "      <th></th>\n",
       "      <th></th>\n",
       "      <th></th>\n",
       "      <th></th>\n",
       "      <th></th>\n",
       "      <th></th>\n",
       "      <th></th>\n",
       "      <th></th>\n",
       "      <th></th>\n",
       "      <th></th>\n",
       "      <th></th>\n",
       "      <th></th>\n",
       "      <th></th>\n",
       "    </tr>\n",
       "  </thead>\n",
       "  <tbody>\n",
       "    <tr>\n",
       "      <th>2020-02-11 17:15:00.174831</th>\n",
       "      <td>657.14</td>\n",
       "      <td>112.359097</td>\n",
       "      <td>1.111663e+06</td>\n",
       "      <td>58.696918</td>\n",
       "      <td>580736.734845</td>\n",
       "      <td>31175.225361</td>\n",
       "      <td>-56.599606</td>\n",
       "      <td>112.359097</td>\n",
       "      <td>-0.503739</td>\n",
       "      <td>0.0</td>\n",
       "      <td>...</td>\n",
       "      <td>0.698215</td>\n",
       "      <td>0.723431</td>\n",
       "      <td>0.609812</td>\n",
       "      <td>0.667221</td>\n",
       "      <td>1.62</td>\n",
       "      <td>1.000000</td>\n",
       "      <td>1.000000</td>\n",
       "      <td>1.000000</td>\n",
       "      <td>1.000000</td>\n",
       "      <td>1.000000</td>\n",
       "    </tr>\n",
       "    <tr>\n",
       "      <th>2020-02-11 17:15:01.394274</th>\n",
       "      <td>657.14</td>\n",
       "      <td>112.359097</td>\n",
       "      <td>1.111663e+06</td>\n",
       "      <td>58.696918</td>\n",
       "      <td>580736.734845</td>\n",
       "      <td>31175.225361</td>\n",
       "      <td>-56.599606</td>\n",
       "      <td>112.359097</td>\n",
       "      <td>-0.503739</td>\n",
       "      <td>0.0</td>\n",
       "      <td>...</td>\n",
       "      <td>-0.182113</td>\n",
       "      <td>0.895913</td>\n",
       "      <td>0.319028</td>\n",
       "      <td>0.330439</td>\n",
       "      <td>1.41</td>\n",
       "      <td>0.999994</td>\n",
       "      <td>0.999994</td>\n",
       "      <td>0.999994</td>\n",
       "      <td>0.999994</td>\n",
       "      <td>0.999994</td>\n",
       "    </tr>\n",
       "    <tr>\n",
       "      <th>2020-02-11 17:15:03.317110</th>\n",
       "      <td>657.14</td>\n",
       "      <td>112.359097</td>\n",
       "      <td>1.111663e+06</td>\n",
       "      <td>58.696918</td>\n",
       "      <td>580736.734845</td>\n",
       "      <td>31175.225361</td>\n",
       "      <td>-56.599606</td>\n",
       "      <td>112.359097</td>\n",
       "      <td>-0.503739</td>\n",
       "      <td>0.0</td>\n",
       "      <td>...</td>\n",
       "      <td>0.786535</td>\n",
       "      <td>0.342554</td>\n",
       "      <td>0.347343</td>\n",
       "      <td>0.094887</td>\n",
       "      <td>1.18</td>\n",
       "      <td>0.999999</td>\n",
       "      <td>0.999999</td>\n",
       "      <td>0.999999</td>\n",
       "      <td>0.999999</td>\n",
       "      <td>0.999999</td>\n",
       "    </tr>\n",
       "    <tr>\n",
       "      <th>2020-02-11 17:15:05.348821</th>\n",
       "      <td>657.14</td>\n",
       "      <td>112.359097</td>\n",
       "      <td>1.111663e+06</td>\n",
       "      <td>58.696918</td>\n",
       "      <td>580736.734845</td>\n",
       "      <td>31175.225361</td>\n",
       "      <td>-56.599606</td>\n",
       "      <td>112.359097</td>\n",
       "      <td>-0.503739</td>\n",
       "      <td>0.0</td>\n",
       "      <td>...</td>\n",
       "      <td>0.707409</td>\n",
       "      <td>0.566383</td>\n",
       "      <td>0.832700</td>\n",
       "      <td>0.789351</td>\n",
       "      <td>0.29</td>\n",
       "      <td>0.999941</td>\n",
       "      <td>0.999931</td>\n",
       "      <td>0.999931</td>\n",
       "      <td>0.999931</td>\n",
       "      <td>0.999931</td>\n",
       "    </tr>\n",
       "    <tr>\n",
       "      <th>2020-02-11 17:15:06.640317</th>\n",
       "      <td>657.14</td>\n",
       "      <td>112.359097</td>\n",
       "      <td>1.111663e+06</td>\n",
       "      <td>58.696918</td>\n",
       "      <td>580736.734845</td>\n",
       "      <td>31175.225361</td>\n",
       "      <td>-56.599606</td>\n",
       "      <td>112.359097</td>\n",
       "      <td>-0.503739</td>\n",
       "      <td>0.0</td>\n",
       "      <td>...</td>\n",
       "      <td>-0.998998</td>\n",
       "      <td>-0.993568</td>\n",
       "      <td>-0.971755</td>\n",
       "      <td>-0.971032</td>\n",
       "      <td>0.01</td>\n",
       "      <td>0.999978</td>\n",
       "      <td>0.999955</td>\n",
       "      <td>0.999955</td>\n",
       "      <td>0.999955</td>\n",
       "      <td>0.999955</td>\n",
       "    </tr>\n",
       "  </tbody>\n",
       "</table>\n",
       "<p>5 rows × 109 columns</p>\n",
       "</div>"
      ],
      "text/plain": [
       "                            kline_trade_number  kline_base_volume  \\\n",
       "normal_time                                                         \n",
       "2020-02-11 17:15:00.174831              657.14         112.359097   \n",
       "2020-02-11 17:15:01.394274              657.14         112.359097   \n",
       "2020-02-11 17:15:03.317110              657.14         112.359097   \n",
       "2020-02-11 17:15:05.348821              657.14         112.359097   \n",
       "2020-02-11 17:15:06.640317              657.14         112.359097   \n",
       "\n",
       "                            kline_quote_volume  kline_taker_base_volume  \\\n",
       "normal_time                                                               \n",
       "2020-02-11 17:15:00.174831        1.111663e+06                58.696918   \n",
       "2020-02-11 17:15:01.394274        1.111663e+06                58.696918   \n",
       "2020-02-11 17:15:03.317110        1.111663e+06                58.696918   \n",
       "2020-02-11 17:15:05.348821        1.111663e+06                58.696918   \n",
       "2020-02-11 17:15:06.640317        1.111663e+06                58.696918   \n",
       "\n",
       "                            kline_taker_quote_volume  kline_time_since_update  \\\n",
       "normal_time                                                                     \n",
       "2020-02-11 17:15:00.174831             580736.734845             31175.225361   \n",
       "2020-02-11 17:15:01.394274             580736.734845             31175.225361   \n",
       "2020-02-11 17:15:03.317110             580736.734845             31175.225361   \n",
       "2020-02-11 17:15:05.348821             580736.734845             31175.225361   \n",
       "2020-02-11 17:15:06.640317             580736.734845             31175.225361   \n",
       "\n",
       "                            volume_adi  volume_obv  volume_cmf  volume_fi  \\\n",
       "normal_time                                                                 \n",
       "2020-02-11 17:15:00.174831  -56.599606  112.359097   -0.503739        0.0   \n",
       "2020-02-11 17:15:01.394274  -56.599606  112.359097   -0.503739        0.0   \n",
       "2020-02-11 17:15:03.317110  -56.599606  112.359097   -0.503739        0.0   \n",
       "2020-02-11 17:15:05.348821  -56.599606  112.359097   -0.503739        0.0   \n",
       "2020-02-11 17:15:06.640317  -56.599606  112.359097   -0.503739        0.0   \n",
       "\n",
       "                            ...  imbalance_2  imbalance_3  imbalance_4  \\\n",
       "normal_time                 ...                                          \n",
       "2020-02-11 17:15:00.174831  ...     0.698215     0.723431     0.609812   \n",
       "2020-02-11 17:15:01.394274  ...    -0.182113     0.895913     0.319028   \n",
       "2020-02-11 17:15:03.317110  ...     0.786535     0.342554     0.347343   \n",
       "2020-02-11 17:15:05.348821  ...     0.707409     0.566383     0.832700   \n",
       "2020-02-11 17:15:06.640317  ...    -0.998998    -0.993568    -0.971755   \n",
       "\n",
       "                            imbalance_5  spread  rolling_5s  rolling_15s  \\\n",
       "normal_time                                                                \n",
       "2020-02-11 17:15:00.174831     0.667221    1.62    1.000000     1.000000   \n",
       "2020-02-11 17:15:01.394274     0.330439    1.41    0.999994     0.999994   \n",
       "2020-02-11 17:15:03.317110     0.094887    1.18    0.999999     0.999999   \n",
       "2020-02-11 17:15:05.348821     0.789351    0.29    0.999941     0.999931   \n",
       "2020-02-11 17:15:06.640317    -0.971032    0.01    0.999978     0.999955   \n",
       "\n",
       "                            rolling_30s  rolling_1min  rolling_5min  \n",
       "normal_time                                                          \n",
       "2020-02-11 17:15:00.174831     1.000000      1.000000      1.000000  \n",
       "2020-02-11 17:15:01.394274     0.999994      0.999994      0.999994  \n",
       "2020-02-11 17:15:03.317110     0.999999      0.999999      0.999999  \n",
       "2020-02-11 17:15:05.348821     0.999931      0.999931      0.999931  \n",
       "2020-02-11 17:15:06.640317     0.999955      0.999955      0.999955  \n",
       "\n",
       "[5 rows x 109 columns]"
      ]
     },
     "execution_count": 27,
     "metadata": {},
     "output_type": "execute_result"
    }
   ],
   "source": [
    "some.head()"
   ]
  },
  {
   "cell_type": "code",
   "execution_count": 8,
   "metadata": {},
   "outputs": [],
   "source": [
    "bla = backup['time']"
   ]
  },
  {
   "cell_type": "code",
   "execution_count": 19,
   "metadata": {},
   "outputs": [
    {
     "data": {
      "text/plain": [
       "time\n",
       "2020-02-11 17:14:56.493912    1.581430e+09\n",
       "2020-02-11 17:14:57.716687    1.581430e+09\n",
       "2020-02-11 17:14:58.946222    1.581430e+09\n",
       "2020-02-11 17:15:00.174831    1.581431e+09\n",
       "2020-02-11 17:15:01.394274    1.581431e+09\n",
       "                                  ...     \n",
       "2020-02-12 06:14:50.135892    1.581477e+09\n",
       "2020-02-12 06:14:51.330169    1.581477e+09\n",
       "2020-02-12 06:14:52.502125    1.581477e+09\n",
       "2020-02-12 06:14:53.654346    1.581477e+09\n",
       "2020-02-12 06:14:54.846639    1.581477e+09\n",
       "Name: time, Length: 38525, dtype: float64"
      ]
     },
     "execution_count": 19,
     "metadata": {},
     "output_type": "execute_result"
    }
   ],
   "source": [
    "import datetime\n",
    "bla.index = bla.apply(datetime.datetime.fromtimestamp)\n",
    "bla"
   ]
  },
  {
   "cell_type": "code",
   "execution_count": 17,
   "metadata": {},
   "outputs": [
    {
     "data": {
      "text/plain": [
       "0        1581434096\n",
       "1        1581434097\n",
       "2        1581434098\n",
       "3        1581434099\n",
       "4        1581434100\n",
       "            ...    \n",
       "43195    1581477291\n",
       "43196    1581477292\n",
       "43197    1581477293\n",
       "43198    1581477294\n",
       "43199    1581477295\n",
       "Length: 43200, dtype: int64"
      ]
     },
     "execution_count": 17,
     "metadata": {},
     "output_type": "execute_result"
    }
   ],
   "source": [
    "times = pd.Series(range(start_time, start_time + test_time))"
   ]
  },
  {
   "cell_type": "code",
   "execution_count": 32,
   "metadata": {},
   "outputs": [],
   "source": [
    "bla = bla.reset_index(drop=True)"
   ]
  },
  {
   "cell_type": "code",
   "execution_count": 40,
   "metadata": {},
   "outputs": [
    {
     "data": {
      "text/html": [
       "<div>\n",
       "<style scoped>\n",
       "    .dataframe tbody tr th:only-of-type {\n",
       "        vertical-align: middle;\n",
       "    }\n",
       "\n",
       "    .dataframe tbody tr th {\n",
       "        vertical-align: top;\n",
       "    }\n",
       "\n",
       "    .dataframe thead th {\n",
       "        text-align: right;\n",
       "    }\n",
       "</style>\n",
       "<table border=\"1\" class=\"dataframe\">\n",
       "  <thead>\n",
       "    <tr style=\"text-align: right;\">\n",
       "      <th></th>\n",
       "      <th>time</th>\n",
       "      <th>index</th>\n",
       "    </tr>\n",
       "  </thead>\n",
       "  <tbody>\n",
       "    <tr>\n",
       "      <th>0</th>\n",
       "      <td>1.581430e+09</td>\n",
       "      <td>0</td>\n",
       "    </tr>\n",
       "    <tr>\n",
       "      <th>1</th>\n",
       "      <td>1.581430e+09</td>\n",
       "      <td>1</td>\n",
       "    </tr>\n",
       "    <tr>\n",
       "      <th>2</th>\n",
       "      <td>1.581430e+09</td>\n",
       "      <td>2</td>\n",
       "    </tr>\n",
       "    <tr>\n",
       "      <th>3</th>\n",
       "      <td>1.581431e+09</td>\n",
       "      <td>3</td>\n",
       "    </tr>\n",
       "    <tr>\n",
       "      <th>4</th>\n",
       "      <td>1.581431e+09</td>\n",
       "      <td>4</td>\n",
       "    </tr>\n",
       "  </tbody>\n",
       "</table>\n",
       "</div>"
      ],
      "text/plain": [
       "           time  index\n",
       "0  1.581430e+09      0\n",
       "1  1.581430e+09      1\n",
       "2  1.581430e+09      2\n",
       "3  1.581431e+09      3\n",
       "4  1.581431e+09      4"
      ]
     },
     "execution_count": 40,
     "metadata": {},
     "output_type": "execute_result"
    }
   ],
   "source": [
    "blata = pd.DataFrame(bla)\n",
    "blata['index'] = blata.index\n",
    "blata.head()"
   ]
  },
  {
   "cell_type": "code",
   "execution_count": 42,
   "metadata": {},
   "outputs": [
    {
     "name": "stderr",
     "output_type": "stream",
     "text": [
      "/home/data_sapiens/.local/lib/python3.7/site-packages/pandas/core/reshape/merge.py:1108: UserWarning: You are merging on int and float columns where the float values are not equal to their int representation\n",
      "  UserWarning,\n"
     ]
    }
   ],
   "source": [
    "df = pd.DataFrame(times, columns=['time']).merge(pd.DataFrame(blata), how='outer', sort=True)"
   ]
  },
  {
   "cell_type": "code",
   "execution_count": 43,
   "metadata": {},
   "outputs": [],
   "source": [
    "timeta = pd.DataFrame(times, columns=['time'])"
   ]
  },
  {
   "cell_type": "code",
   "execution_count": 45,
   "metadata": {},
   "outputs": [],
   "source": [
    "df['index'].ffill(inplace=True)"
   ]
  },
  {
   "cell_type": "code",
   "execution_count": 48,
   "metadata": {},
   "outputs": [
    {
     "name": "stderr",
     "output_type": "stream",
     "text": [
      "/home/data_sapiens/.local/lib/python3.7/site-packages/pandas/core/reshape/merge.py:1108: UserWarning: You are merging on int and float columns where the float values are not equal to their int representation\n",
      "  UserWarning,\n"
     ]
    },
    {
     "data": {
      "text/html": [
       "<div>\n",
       "<style scoped>\n",
       "    .dataframe tbody tr th:only-of-type {\n",
       "        vertical-align: middle;\n",
       "    }\n",
       "\n",
       "    .dataframe tbody tr th {\n",
       "        vertical-align: top;\n",
       "    }\n",
       "\n",
       "    .dataframe thead th {\n",
       "        text-align: right;\n",
       "    }\n",
       "</style>\n",
       "<table border=\"1\" class=\"dataframe\">\n",
       "  <thead>\n",
       "    <tr style=\"text-align: right;\">\n",
       "      <th></th>\n",
       "      <th>time</th>\n",
       "      <th>index</th>\n",
       "    </tr>\n",
       "  </thead>\n",
       "  <tbody>\n",
       "    <tr>\n",
       "      <th>0</th>\n",
       "      <td>1581434096</td>\n",
       "      <td>3005.0</td>\n",
       "    </tr>\n",
       "    <tr>\n",
       "      <th>1</th>\n",
       "      <td>1581434097</td>\n",
       "      <td>3006.0</td>\n",
       "    </tr>\n",
       "    <tr>\n",
       "      <th>2</th>\n",
       "      <td>1581434098</td>\n",
       "      <td>3007.0</td>\n",
       "    </tr>\n",
       "    <tr>\n",
       "      <th>3</th>\n",
       "      <td>1581434099</td>\n",
       "      <td>3007.0</td>\n",
       "    </tr>\n",
       "    <tr>\n",
       "      <th>4</th>\n",
       "      <td>1581434100</td>\n",
       "      <td>3008.0</td>\n",
       "    </tr>\n",
       "    <tr>\n",
       "      <th>...</th>\n",
       "      <td>...</td>\n",
       "      <td>...</td>\n",
       "    </tr>\n",
       "    <tr>\n",
       "      <th>43195</th>\n",
       "      <td>1581477291</td>\n",
       "      <td>38520.0</td>\n",
       "    </tr>\n",
       "    <tr>\n",
       "      <th>43196</th>\n",
       "      <td>1581477292</td>\n",
       "      <td>38521.0</td>\n",
       "    </tr>\n",
       "    <tr>\n",
       "      <th>43197</th>\n",
       "      <td>1581477293</td>\n",
       "      <td>38522.0</td>\n",
       "    </tr>\n",
       "    <tr>\n",
       "      <th>43198</th>\n",
       "      <td>1581477294</td>\n",
       "      <td>38523.0</td>\n",
       "    </tr>\n",
       "    <tr>\n",
       "      <th>43199</th>\n",
       "      <td>1581477295</td>\n",
       "      <td>38524.0</td>\n",
       "    </tr>\n",
       "  </tbody>\n",
       "</table>\n",
       "<p>43200 rows × 2 columns</p>\n",
       "</div>"
      ],
      "text/plain": [
       "             time    index\n",
       "0      1581434096   3005.0\n",
       "1      1581434097   3006.0\n",
       "2      1581434098   3007.0\n",
       "3      1581434099   3007.0\n",
       "4      1581434100   3008.0\n",
       "...           ...      ...\n",
       "43195  1581477291  38520.0\n",
       "43196  1581477292  38521.0\n",
       "43197  1581477293  38522.0\n",
       "43198  1581477294  38523.0\n",
       "43199  1581477295  38524.0\n",
       "\n",
       "[43200 rows x 2 columns]"
      ]
     },
     "execution_count": 48,
     "metadata": {},
     "output_type": "execute_result"
    }
   ],
   "source": [
    "timeta.join(df.set_index('time'), on='time')"
   ]
  },
  {
   "cell_type": "code",
   "execution_count": 57,
   "metadata": {},
   "outputs": [],
   "source": [
    "btcdata = db.fetch_pandas(start_time - indent, start_time + test_time, pair_names={'btcusdt'})\n",
    "ethdata = db.fetch_pandas(start_time - indent, start_time + test_time, pair_names={'ethusdt'})"
   ]
  },
  {
   "cell_type": "code",
   "execution_count": 66,
   "metadata": {},
   "outputs": [],
   "source": [
    "btctime = btcdata['time']\n",
    "ethtime = ethdata['time']"
   ]
  },
  {
   "cell_type": "code",
   "execution_count": 62,
   "metadata": {},
   "outputs": [],
   "source": [
    "import stonks.auxiliary.data_preprocessing as dp\n",
    "import warnings\n",
    "warnings.filterwarnings('ignore')"
   ]
  },
  {
   "cell_type": "code",
   "execution_count": 75,
   "metadata": {},
   "outputs": [],
   "source": [
    "data = ethdata.copy()\n",
    "data = dp.basic_clean(data)\n",
    "copy = data.copy()\n",
    "some = dp.make_x(copy)"
   ]
  },
  {
   "cell_type": "code",
   "execution_count": 69,
   "metadata": {},
   "outputs": [],
   "source": [
    "btctime = btctime[some.index]"
   ]
  },
  {
   "cell_type": "code",
   "execution_count": 68,
   "metadata": {},
   "outputs": [],
   "source": [
    "import datetime\n",
    "btctime.index = btctime.apply(datetime.datetime.fromtimestamp)\n",
    "ethtime.index = ethtime.apply(datetime.datetime.fromtimestamp)"
   ]
  },
  {
   "cell_type": "code",
   "execution_count": 76,
   "metadata": {},
   "outputs": [],
   "source": [
    "ethtime = ethtime[some.index]"
   ]
  },
  {
   "cell_type": "code",
   "execution_count": 90,
   "metadata": {},
   "outputs": [],
   "source": [
    "time = btctime.reset_index(drop=True)"
   ]
  },
  {
   "cell_type": "code",
   "execution_count": 91,
   "metadata": {},
   "outputs": [],
   "source": [
    "current = pd.Series(range(start_time, start_time + test_time))"
   ]
  },
  {
   "cell_type": "code",
   "execution_count": 99,
   "metadata": {},
   "outputs": [],
   "source": [
    "timeta = pd.DataFrame(time, columns=['time'])\n",
    "timeta['index'] = timeta.index\n",
    "curta = pd.DataFrame(current, columns=['time'])\n",
    "merged = curta.merge(timeta, how='outer', sort=True)\n",
    "merged.ffill(inplace=True)\n",
    "final = curta.join(merged.set_index('time'), on='time')"
   ]
  },
  {
   "cell_type": "code",
   "execution_count": 106,
   "metadata": {},
   "outputs": [
    {
     "data": {
      "text/plain": [
       "[(3000, 1581434093.2338245),\n",
       " (3001, 1581434094.4145727),\n",
       " (3002, 1581434095.5433743),\n",
       " (3003, 1581434096.7395248),\n",
       " (3004, 1581434097.9707556),\n",
       " (3005, 1581434099.2192307),\n",
       " (3006, 1581434100.4551678),\n",
       " (3007, 1581434101.7774856),\n",
       " (3008, 1581434104.2590535),\n",
       " (3009, 1581434105.5977175)]"
      ]
     },
     "execution_count": 106,
     "metadata": {},
     "output_type": "execute_result"
    }
   ],
   "source": [
    "list(zip(time[3000:3010].index, time[3000:3010]))"
   ]
  },
  {
   "cell_type": "code",
   "execution_count": 120,
   "metadata": {},
   "outputs": [],
   "source": [
    "final = final.set_index('time')"
   ]
  },
  {
   "cell_type": "code",
   "execution_count": 124,
   "metadata": {},
   "outputs": [],
   "source": [
    "final['index'] = final['index'].apply(int)"
   ]
  },
  {
   "cell_type": "code",
   "execution_count": 119,
   "metadata": {},
   "outputs": [
    {
     "data": {
      "text/plain": [
       "datetime.datetime(2020, 2, 11, 23, 48, 16)"
      ]
     },
     "execution_count": 119,
     "metadata": {},
     "output_type": "execute_result"
    }
   ],
   "source": [
    "datetime.datetime.fromtimestamp(1581454096)"
   ]
  },
  {
   "cell_type": "code",
   "execution_count": 129,
   "metadata": {},
   "outputs": [
    {
     "data": {
      "text/plain": [
       "(38521, 109)"
      ]
     },
     "execution_count": 129,
     "metadata": {},
     "output_type": "execute_result"
    }
   ],
   "source": [
    "some.shape"
   ]
  },
  {
   "cell_type": "code",
   "execution_count": 137,
   "metadata": {},
   "outputs": [
    {
     "name": "stdout",
     "output_type": "stream",
     "text": [
      "index    3011\n",
      "Name: 1581434108, dtype: int64 2020-02-11 18:15:08\n"
     ]
    },
    {
     "data": {
      "text/plain": [
       "DatetimeIndex(['2020-02-11 18:15:09.283350'], dtype='datetime64[ns]', name='normal_time', freq=None)"
      ]
     },
     "execution_count": 137,
     "metadata": {},
     "output_type": "execute_result"
    }
   ],
   "source": [
    "i = 12\n",
    "print(final.iloc[i], datetime.datetime.fromtimestamp(final.index[i]))\n",
    "some.iloc[final.iloc[i]].index"
   ]
  },
  {
   "cell_type": "code",
   "execution_count": 15,
   "metadata": {},
   "outputs": [],
   "source": [
    "toy = {'btcusdt': final[0], 'ethusdt': final[1], 'bchusdt': final[2]}\n",
    "balance = {'usdt': 200, 'btc': 0}"
   ]
  },
  {
   "cell_type": "code",
   "execution_count": 24,
   "metadata": {},
   "outputs": [
    {
     "data": {
      "text/plain": [
       "(329,)"
      ]
     },
     "execution_count": 24,
     "metadata": {},
     "output_type": "execute_result"
    }
   ],
   "source": [
    "npbalance = np.array(list(balance.values()))\n",
    "np.hstack(list(toy.values()) + [npbalance]).shape"
   ]
  },
  {
   "cell_type": "code",
   "execution_count": 276,
   "metadata": {},
   "outputs": [
    {
     "data": {
      "text/plain": [
       "<module 'stonks.paper_testing' from '../stonks/paper_testing/__init__.py'>"
      ]
     },
     "execution_count": 276,
     "metadata": {},
     "output_type": "execute_result"
    }
   ],
   "source": [
    "from importlib import reload\n",
    "\n",
    "import stonks.paper_testing\n",
    "reload(stonks.paper_testing.LearningEnvironment)\n",
    "reload(stonks.paper_testing)"
   ]
  },
  {
   "cell_type": "code",
   "execution_count": 2,
   "metadata": {},
   "outputs": [],
   "source": [
    "import numpy as np\n",
    "import pandas as pd\n",
    "\n",
    "import sys\n",
    "sys.path.append('..')\n",
    "\n",
    "import warnings\n",
    "warnings.filterwarnings('ignore')"
   ]
  },
  {
   "cell_type": "code",
   "execution_count": 277,
   "metadata": {},
   "outputs": [],
   "source": [
    "from stonks.paper_testing.LearningEnvironment import LearningEnvironment\n",
    "from stonks.paper_testing import Emulator"
   ]
  },
  {
   "cell_type": "markdown",
   "metadata": {},
   "source": [
    "195.14.105.89"
   ]
  },
  {
   "cell_type": "code",
   "execution_count": 278,
   "metadata": {},
   "outputs": [],
   "source": [
    "balance = {'usdt': 100, 'btc': 0, 'eth': 0, 'bch': 0, 'bnb': 0, 'ltc': 0}\n",
    "\n",
    "emu = Emulator(string_start='../')\n",
    "env = LearningEnvironment(emu, balance, string_start='../', test_time=3600, orderbook_depth=5)"
   ]
  },
  {
   "cell_type": "code",
   "execution_count": 231,
   "metadata": {},
   "outputs": [],
   "source": [
    "import abc\n",
    "import tensorflow as tf\n",
    "import numpy as np\n",
    "\n",
    "from tf_agents.environments import py_environment\n",
    "from tf_agents.environments import tf_environment\n",
    "from tf_agents.environments import tf_py_environment\n",
    "from tf_agents.environments import utils\n",
    "from tf_agents.specs import array_spec\n",
    "from tf_agents.environments import wrappers\n",
    "from tf_agents.environments import suite_gym\n",
    "from tf_agents.trajectories import time_step as ts"
   ]
  },
  {
   "cell_type": "code",
   "execution_count": 262,
   "metadata": {},
   "outputs": [
    {
     "name": "stdout",
     "output_type": "stream",
     "text": [
      "CPU times: user 5.42 s, sys: 3.53 ms, total: 5.42 s\n",
      "Wall time: 5.42 s\n"
     ]
    }
   ],
   "source": [
    "%time utils.validate_py_environment(env, episodes=1)"
   ]
  },
  {
   "cell_type": "code",
   "execution_count": 244,
   "metadata": {},
   "outputs": [],
   "source": [
    "import random\n",
    "\n",
    "def validate_me():\n",
    "    env.reset()\n",
    "    while not env._episode_ended:\n",
    "        env.step(random.randint(0, 22))"
   ]
  },
  {
   "cell_type": "code",
   "execution_count": 249,
   "metadata": {},
   "outputs": [
    {
     "name": "stdout",
     "output_type": "stream",
     "text": [
      "CPU times: user 130 ms, sys: 3.92 ms, total: 134 ms\n",
      "Wall time: 131 ms\n"
     ]
    }
   ],
   "source": [
    "%time validate_me()"
   ]
  },
  {
   "cell_type": "code",
   "execution_count": 252,
   "metadata": {},
   "outputs": [],
   "source": [
    "a = {'a': 1, 'b': 2}"
   ]
  },
  {
   "cell_type": "code",
   "execution_count": 254,
   "metadata": {},
   "outputs": [],
   "source": [
    "b = a\n",
    "c = a\n",
    "b['a'] = 3"
   ]
  },
  {
   "cell_type": "code",
   "execution_count": 267,
   "metadata": {},
   "outputs": [
    {
     "data": {
      "text/plain": [
       "TimeStep(step_type=array(1, dtype=int32), reward=array(88.01928, dtype=float32), discount=array(1., dtype=float32), observation=array([-0.49953203, -0.53997724, -0.54172936, ...,  0.02666904,\n",
       "        0.001     ,  0.44984808]))"
      ]
     },
     "execution_count": 267,
     "metadata": {},
     "output_type": "execute_result"
    }
   ],
   "source": [
    "a = env.step(2)\n",
    "a"
   ]
  },
  {
   "cell_type": "code",
   "execution_count": 279,
   "metadata": {},
   "outputs": [],
   "source": [
    "rewards = []\n",
    "env.reset()\n",
    "\n",
    "while not env._episode_ended:\n",
    "    step = env.step(random.randint(0, 22))\n",
    "    rewards.append(step.reward.item())"
   ]
  },
  {
   "cell_type": "code",
   "execution_count": 280,
   "metadata": {},
   "outputs": [
    {
     "data": {
      "text/plain": [
       "[<matplotlib.lines.Line2D at 0x7f14e0a8f320>]"
      ]
     },
     "execution_count": 280,
     "metadata": {},
     "output_type": "execute_result"
    },
    {
     "data": {
      "image/png": "[encoded data removed]",
      "text/plain": [
       "<Figure size 432x288 with 1 Axes>"
      ]
     },
     "metadata": {
      "needs_background": "light"
     },
     "output_type": "display_data"
    }
   ],
   "source": [
    "import matplotlib.pyplot as plt\n",
    "plt.plot(range(len(rewards)), rewards)"
   ]
  },
  {
   "cell_type": "code",
   "execution_count": 283,
   "metadata": {},
   "outputs": [],
   "source": [
    "import base64\n",
    "import imageio\n",
    "import IPython\n",
    "import matplotlib\n",
    "import matplotlib.pyplot as plt\n",
    "import numpy as np\n",
    "import PIL.Image\n",
    "\n",
    "import tensorflow as tf\n",
    "\n",
    "from tf_agents.agents.dqn import dqn_agent\n",
    "from tf_agents.drivers import dynamic_step_driver\n",
    "from tf_agents.environments import suite_gym\n",
    "from tf_agents.environments import tf_py_environment\n",
    "from tf_agents.eval import metric_utils\n",
    "from tf_agents.metrics import tf_metrics\n",
    "from tf_agents.networks import q_network\n",
    "from tf_agents.policies import random_tf_policy\n",
    "from tf_agents.replay_buffers import tf_uniform_replay_buffer\n",
    "from tf_agents.trajectories import trajectory\n",
    "from tf_agents.utils import common"
   ]
  },
  {
   "cell_type": "code",
   "execution_count": 284,
   "metadata": {},
   "outputs": [],
   "source": [
    "balance = {'usdt': 100, 'btc': 0, 'eth': 0, 'bch': 0, 'bnb': 0, 'ltc': 0}\n",
    "\n",
    "emu = Emulator(string_start='../')\n",
    "\n",
    "train_py_env = LearningEnvironment(emu, balance, string_start='../', test_time=3600, orderbook_depth=5)\n",
    "eval_py_env = LearningEnvironment(emu, balance, string_start='../', test_time=3600, orderbook_depth=5)"
   ]
  },
  {
   "cell_type": "code",
   "execution_count": 285,
   "metadata": {},
   "outputs": [],
   "source": [
    "train_env = tf_py_environment.TFPyEnvironment(train_py_env)\n",
    "eval_env = tf_py_environment.TFPyEnvironment(eval_py_env)"
   ]
  },
  {
   "cell_type": "code",
   "execution_count": 287,
   "metadata": {},
   "outputs": [],
   "source": [
    "fc_layer_params = (128, 32)\n",
    "\n",
    "q_net = q_network.QNetwork(\n",
    "    train_env.observation_spec(),\n",
    "    train_env.action_spec(),\n",
    "    fc_layer_params=fc_layer_params)"
   ]
  },
  {
   "cell_type": "code",
   "execution_count": 289,
   "metadata": {},
   "outputs": [
    {
     "name": "stderr",
     "output_type": "stream",
     "text": [
      "WARNING: Logging before flag parsing goes to stderr.\n",
      "W0501 20:22:21.765276 139730524723008 base_layer.py:1790] Layer QNetwork is casting an input tensor from dtype float64 to the layer's dtype of float32, which is new behavior in TensorFlow 2.  The layer has dtype float32 because it's dtype defaults to floatx.\n",
      "\n",
      "If you intended to run this layer in float32, you can safely ignore this warning. If in doubt, this warning is likely only an issue if you are porting a TensorFlow 1.X model to TensorFlow 2.\n",
      "\n",
      "To change all layers to have dtype float64 by default, call `tf.keras.backend.set_floatx('float64')`. To change just this layer, pass dtype='float64' to the layer constructor. If you are the author of this layer, you can disable autocasting by passing autocast=False to the base Layer constructor.\n",
      "\n",
      "W0501 20:22:21.784115 139730524723008 base_layer.py:1790] Layer TargetQNetwork is casting an input tensor from dtype float64 to the layer's dtype of float32, which is new behavior in TensorFlow 2.  The layer has dtype float32 because it's dtype defaults to floatx.\n",
      "\n",
      "If you intended to run this layer in float32, you can safely ignore this warning. If in doubt, this warning is likely only an issue if you are porting a TensorFlow 1.X model to TensorFlow 2.\n",
      "\n",
      "To change all layers to have dtype float64 by default, call `tf.keras.backend.set_floatx('float64')`. To change just this layer, pass dtype='float64' to the layer constructor. If you are the author of this layer, you can disable autocasting by passing autocast=False to the base Layer constructor.\n",
      "\n"
     ]
    }
   ],
   "source": [
    "optimizer = tf.compat.v1.train.AdamOptimizer(learning_rate=1e-3)\n",
    "\n",
    "train_step_counter = tf.Variable(0)\n",
    "\n",
    "agent = dqn_agent.DqnAgent(\n",
    "    train_env.time_step_spec(),\n",
    "    train_env.action_spec(),\n",
    "    q_network=q_net,\n",
    "    optimizer=optimizer,\n",
    "    td_errors_loss_fn=common.element_wise_squared_loss,\n",
    "    train_step_counter=train_step_counter)\n",
    "\n",
    "agent.initialize()"
   ]
  },
  {
   "cell_type": "code",
   "execution_count": 290,
   "metadata": {},
   "outputs": [],
   "source": [
    "eval_policy = agent.policy\n",
    "collect_policy = agent.collect_policy"
   ]
  },
  {
   "cell_type": "code",
   "execution_count": 291,
   "metadata": {},
   "outputs": [],
   "source": [
    "random_policy = random_tf_policy.RandomTFPolicy(train_env.time_step_spec(),\n",
    "                                                train_env.action_spec())"
   ]
  },
  {
   "cell_type": "code",
   "execution_count": 299,
   "metadata": {},
   "outputs": [],
   "source": [
    "def compute_avg_return(environment, policy, num_episodes=5):\n",
    "\n",
    "    total_return = 0.0\n",
    "    for _ in range(num_episodes):\n",
    "\n",
    "        time_step = environment.reset()\n",
    "        episode_return = 0.0\n",
    "\n",
    "        while not time_step.is_last():\n",
    "            action_step = policy.action(time_step)\n",
    "            time_step = environment.step(action_step.action)\n",
    "            episode_return += time_step.reward\n",
    "        total_return += episode_return\n",
    "\n",
    "    avg_return = total_return / num_episodes\n",
    "    return avg_return.numpy()[0]"
   ]
  },
  {
   "cell_type": "code",
   "execution_count": 300,
   "metadata": {},
   "outputs": [
    {
     "data": {
      "text/plain": [
       "337646.12"
      ]
     },
     "execution_count": 300,
     "metadata": {},
     "output_type": "execute_result"
    }
   ],
   "source": [
    "compute_avg_return(eval_env, random_policy, 2)"
   ]
  },
  {
   "cell_type": "code",
   "execution_count": 303,
   "metadata": {},
   "outputs": [],
   "source": [
    "replay_buffer = tf_uniform_replay_buffer.TFUniformReplayBuffer(\n",
    "    data_spec=agent.collect_data_spec,\n",
    "    batch_size=train_env.batch_size,\n",
    "    max_length=1000)"
   ]
  },
  {
   "cell_type": "code",
   "execution_count": 304,
   "metadata": {},
   "outputs": [],
   "source": [
    "def collect_step(environment, policy, buffer):\n",
    "    time_step = environment.current_time_step()\n",
    "    action_step = policy.action(time_step)\n",
    "    next_time_step = environment.step(action_step.action)\n",
    "    traj = trajectory.from_transition(time_step, action_step, next_time_step)\n",
    "\n",
    "  # Add trajectory to the replay buffer\n",
    "    buffer.add_batch(traj)\n",
    "\n",
    "def collect_data(env, policy, buffer, steps):\n",
    "    for _ in range(steps):\n",
    "        collect_step(env, policy, buffer)\n",
    "\n",
    "collect_data(train_env, random_policy, replay_buffer, steps=100)"
   ]
  },
  {
   "cell_type": "code",
   "execution_count": 307,
   "metadata": {},
   "outputs": [
    {
     "data": {
      "text/plain": [
       "<PrefetchDataset shapes: (Trajectory(step_type=(10, 2), observation=(10, 2, 1205), action=(10, 2), policy_info=(), next_step_type=(10, 2), reward=(10, 2), discount=(10, 2)), BufferInfo(ids=(10, 2), probabilities=(10,))), types: (Trajectory(step_type=tf.int32, observation=tf.float64, action=tf.int32, policy_info=(), next_step_type=tf.int32, reward=tf.float32, discount=tf.float32), BufferInfo(ids=tf.int64, probabilities=tf.float32))>"
      ]
     },
     "execution_count": 307,
     "metadata": {},
     "output_type": "execute_result"
    }
   ],
   "source": [
    "\n",
    "# Dataset generates trajectories with shape [Bx2x...]\n",
    "dataset = replay_buffer.as_dataset(\n",
    "    num_parallel_calls=3, \n",
    "    sample_batch_size=10, \n",
    "    num_steps=2).prefetch(3)\n",
    "\n",
    "\n",
    "dataset"
   ]
  },
  {
   "cell_type": "code",
   "execution_count": 312,
   "metadata": {},
   "outputs": [],
   "source": [
    "iterator = iter(dataset)"
   ]
  },
  {
   "cell_type": "code",
   "execution_count": 316,
   "metadata": {},
   "outputs": [
    {
     "name": "stdout",
     "output_type": "stream",
     "text": [
      "step = 1: loss = 10028.9091796875\n",
      "step = 1: Average Return = 359804.71875\n",
      "step = 2: loss = 10032.7529296875\n",
      "step = 2: Average Return = 360415.71875\n",
      "step = 3: loss = 10062.697265625\n",
      "step = 3: Average Return = 360415.71875\n",
      "step = 4: loss = 10009.5234375\n",
      "step = 4: Average Return = 360662.03125\n",
      "step = 5: loss = 9999.8154296875\n",
      "step = 5: Average Return = 360662.03125\n",
      "step = 6: loss = 10102.326171875\n",
      "step = 6: Average Return = 361374.84375\n",
      "step = 7: loss = 10120.482421875\n",
      "step = 7: Average Return = 361618.5625\n",
      "step = 8: loss = 10166.802734375\n",
      "step = 8: Average Return = 361636.3125\n",
      "step = 9: loss = 10187.3349609375\n",
      "step = 9: Average Return = 361636.3125\n",
      "step = 10: loss = 10180.458984375\n",
      "step = 10: Average Return = 361570.9375\n"
     ]
    }
   ],
   "source": [
    "# (Optional) Optimize by wrapping some of the code in a graph using TF function.\n",
    "agent.train = common.function(agent.train)\n",
    "\n",
    "# Reset the train step\n",
    "agent.train_step_counter.assign(0)\n",
    "\n",
    "# Evaluate the agent's policy once before training.\n",
    "avg_return = compute_avg_return(eval_env, agent.policy, 2)\n",
    "returns = [avg_return]\n",
    "\n",
    "for _ in range(10):\n",
    "\n",
    "  # Collect a few steps using collect_policy and save to the replay buffer.\n",
    "    for _ in range(1):\n",
    "        collect_step(train_env, agent.collect_policy, replay_buffer)\n",
    "\n",
    "  # Sample a batch of data from the buffer and update the agent's network.\n",
    "    experience, unused_info = next(iterator)\n",
    "    train_loss = agent.train(experience).loss\n",
    "\n",
    "    step = agent.train_step_counter.numpy()\n",
    "\n",
    "    print('step = {0}: loss = {1}'.format(step, train_loss))\n",
    "\n",
    "    avg_return = compute_avg_return(eval_env, agent.policy, 2)\n",
    "    print('step = {0}: Average Return = {1}'.format(step, avg_return))\n",
    "    returns.append(avg_return)"
   ]
  },
  {
   "cell_type": "code",
   "execution_count": 8,
   "metadata": {},
   "outputs": [
    {
     "ename": "ModuleNotFoundError",
     "evalue": "No module named 'tqdm.notebook'",
     "output_type": "error",
     "traceback": [
      "\u001b[0;31m---------------------------------------------------------------------------\u001b[0m",
      "\u001b[0;31mModuleNotFoundError\u001b[0m                       Traceback (most recent call last)",
      "\u001b[0;32m<ipython-input-8-b876013dd374>\u001b[0m in \u001b[0;36m<module>\u001b[0;34m\u001b[0m\n\u001b[0;32m----> 1\u001b[0;31m \u001b[0;32mfrom\u001b[0m \u001b[0mtqdm\u001b[0m\u001b[0;34m.\u001b[0m\u001b[0mnotebook\u001b[0m \u001b[0;32mimport\u001b[0m \u001b[0mtqdm\u001b[0m\u001b[0;34m\u001b[0m\u001b[0;34m\u001b[0m\u001b[0m\n\u001b[0m\u001b[1;32m      2\u001b[0m \u001b[0;32mimport\u001b[0m \u001b[0mtime\u001b[0m\u001b[0;34m\u001b[0m\u001b[0;34m\u001b[0m\u001b[0m\n\u001b[1;32m      3\u001b[0m \u001b[0;32mfrom\u001b[0m \u001b[0mIPython\u001b[0m\u001b[0;34m.\u001b[0m\u001b[0mdisplay\u001b[0m \u001b[0;32mimport\u001b[0m \u001b[0mclear_output\u001b[0m\u001b[0;34m\u001b[0m\u001b[0;34m\u001b[0m\u001b[0m\n\u001b[1;32m      4\u001b[0m \u001b[0;34m\u001b[0m\u001b[0m\n\u001b[1;32m      5\u001b[0m \u001b[0;32mfor\u001b[0m \u001b[0mi\u001b[0m \u001b[0;32min\u001b[0m \u001b[0mtqdm\u001b[0m\u001b[0;34m.\u001b[0m\u001b[0mnotebook\u001b[0m\u001b[0;34m.\u001b[0m\u001b[0mtqdm\u001b[0m\u001b[0;34m(\u001b[0m\u001b[0mrange\u001b[0m\u001b[0;34m(\u001b[0m\u001b[0;36m100\u001b[0m\u001b[0;34m)\u001b[0m\u001b[0;34m)\u001b[0m\u001b[0;34m:\u001b[0m\u001b[0;34m\u001b[0m\u001b[0;34m\u001b[0m\u001b[0m\n",
      "\u001b[0;31mModuleNotFoundError\u001b[0m: No module named 'tqdm.notebook'"
     ]
    }
   ],
   "source": [
    "from tqdm.notebook import tqdm\n",
    "import time\n",
    "from IPython.display import clear_output\n",
    "\n",
    "for i in tqdm.notebook.tqdm(range(100)):\n",
    "    if i % 10 == 0:\n",
    "        print(i)\n",
    "    time.sleep(0.1)"
   ]
  }
 ],
 "metadata": {
  "kernelspec": {
   "display_name": "Python 3",
   "language": "python",
   "name": "python3"
  },
  "language_info": {
   "codemirror_mode": {
    "name": "ipython",
    "version": 3
   },
   "file_extension": ".py",
   "mimetype": "text/x-python",
   "name": "python",
   "nbconvert_exporter": "python",
   "pygments_lexer": "ipython3",
   "version": "3.7.3"
  }
 },
 "nbformat": 4,
 "nbformat_minor": 2
}
