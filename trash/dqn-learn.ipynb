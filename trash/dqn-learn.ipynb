{
 "cells": [
  {
   "cell_type": "markdown",
   "metadata": {},
   "source": [
    "## Подготовка и среда"
   ]
  },
  {
   "cell_type": "code",
   "execution_count": 1,
   "metadata": {},
   "outputs": [],
   "source": [
    "import numpy as np\n",
    "import pandas as pd\n",
    "import matplotlib.pyplot as plt\n",
    "from IPython.display import clear_output\n",
    "\n",
    "import sys\n",
    "sys.path.append('..')\n",
    "\n",
    "import warnings\n",
    "warnings.filterwarnings('ignore')\n",
    "\n",
    "from stonks.paper_testing.LearningEnvironment import LearningEnvironment\n",
    "from stonks.paper_testing import Emulator\n",
    "\n",
    "import abc\n",
    "import tensorflow as tf\n",
    "\n",
    "from tf_agents.agents.dqn import dqn_agent\n",
    "from tf_agents.drivers import dynamic_step_driver, dynamic_episode_driver\n",
    "from tf_agents.environments import suite_gym\n",
    "from tf_agents.environments import tf_py_environment\n",
    "from tf_agents.eval import metric_utils\n",
    "from tf_agents.metrics import tf_metrics\n",
    "from tf_agents.networks import q_network\n",
    "from tf_agents.policies import random_tf_policy\n",
    "from tf_agents.replay_buffers import tf_uniform_replay_buffer\n",
    "from tf_agents.trajectories import trajectory\n",
    "from tf_agents.utils import common"
   ]
  },
  {
   "cell_type": "code",
   "execution_count": 2,
   "metadata": {},
   "outputs": [],
   "source": [
    "balance = {'usdt': 100, 'btc': 0, 'eth': 0, 'bch': 0, 'bnb': 0, 'ltc': 0}\n",
    "\n",
    "emu = Emulator(string_start='../', fee=0.0)\n",
    "\n",
    "train_py_env = LearningEnvironment(emu, balance, string_start='../', test_time=3600, orderbook_depth=1)\n",
    "train_env = tf_py_environment.TFPyEnvironment(train_py_env)\n",
    "\n",
    "eval_py_env = LearningEnvironment(emu, balance, string_start='../', test_time=3600, orderbook_depth=1,\n",
    "                                 start_time=1581434096 + 3600, reset=False)\n",
    "eval_env = tf_py_environment.TFPyEnvironment(eval_py_env)"
   ]
  },
  {
   "cell_type": "markdown",
   "metadata": {},
   "source": [
    "## Модель"
   ]
  },
  {
   "cell_type": "code",
   "execution_count": 3,
   "metadata": {},
   "outputs": [
    {
     "name": "stderr",
     "output_type": "stream",
     "text": [
      "WARNING: Logging before flag parsing goes to stderr.\n",
      "W0503 18:12:48.048802 140613020428096 base_layer.py:1790] Layer QNetwork is casting an input tensor from dtype float64 to the layer's dtype of float32, which is new behavior in TensorFlow 2.  The layer has dtype float32 because it's dtype defaults to floatx.\n",
      "\n",
      "If you intended to run this layer in float32, you can safely ignore this warning. If in doubt, this warning is likely only an issue if you are porting a TensorFlow 1.X model to TensorFlow 2.\n",
      "\n",
      "To change all layers to have dtype float64 by default, call `tf.keras.backend.set_floatx('float64')`. To change just this layer, pass dtype='float64' to the layer constructor. If you are the author of this layer, you can disable autocasting by passing autocast=False to the base Layer constructor.\n",
      "\n",
      "W0503 18:12:48.062997 140613020428096 base_layer.py:1790] Layer TargetQNetwork is casting an input tensor from dtype float64 to the layer's dtype of float32, which is new behavior in TensorFlow 2.  The layer has dtype float32 because it's dtype defaults to floatx.\n",
      "\n",
      "If you intended to run this layer in float32, you can safely ignore this warning. If in doubt, this warning is likely only an issue if you are porting a TensorFlow 1.X model to TensorFlow 2.\n",
      "\n",
      "To change all layers to have dtype float64 by default, call `tf.keras.backend.set_floatx('float64')`. To change just this layer, pass dtype='float64' to the layer constructor. If you are the author of this layer, you can disable autocasting by passing autocast=False to the base Layer constructor.\n",
      "\n"
     ]
    }
   ],
   "source": [
    "fc_layer_params = (128, 32)\n",
    "\n",
    "q_net = q_network.QNetwork(\n",
    "    train_env.observation_spec(),\n",
    "    train_env.action_spec(),\n",
    "    fc_layer_params=fc_layer_params)\n",
    "\n",
    "optimizer = tf.compat.v1.train.AdamOptimizer(learning_rate=1e-3)\n",
    "\n",
    "train_step_counter = tf.Variable(0)\n",
    "\n",
    "agent = dqn_agent.DqnAgent(\n",
    "    train_env.time_step_spec(),\n",
    "    train_env.action_spec(),\n",
    "    q_network=q_net,\n",
    "    optimizer=optimizer,\n",
    "    td_errors_loss_fn=common.element_wise_squared_loss,\n",
    "    train_step_counter=train_step_counter)\n",
    "\n",
    "agent.initialize()"
   ]
  },
  {
   "cell_type": "code",
   "execution_count": 4,
   "metadata": {},
   "outputs": [],
   "source": [
    "eval_policy = agent.policy\n",
    "collect_policy = agent.collect_policy\n",
    "random_policy = random_tf_policy.RandomTFPolicy(train_env.time_step_spec(),\n",
    "                                                train_env.action_spec())"
   ]
  },
  {
   "cell_type": "markdown",
   "metadata": {},
   "source": [
    "## Replay buffer и драйвер"
   ]
  },
  {
   "cell_type": "code",
   "execution_count": 5,
   "metadata": {},
   "outputs": [],
   "source": [
    "replay_buffer_capacity = 100000\n",
    "\n",
    "replay_buffer = tf_uniform_replay_buffer.TFUniformReplayBuffer(\n",
    "        data_spec=agent.collect_data_spec,\n",
    "        batch_size=train_env.batch_size,\n",
    "        max_length=replay_buffer_capacity)\n",
    "\n",
    "replay_observer = [replay_buffer.add_batch]"
   ]
  },
  {
   "cell_type": "code",
   "execution_count": 6,
   "metadata": {},
   "outputs": [],
   "source": [
    "batch_size = 32\n",
    "\n",
    "dataset = replay_buffer.as_dataset(\n",
    "            num_parallel_calls=3,\n",
    "            sample_batch_size=batch_size,\n",
    "            num_steps=2).prefetch(3)\n",
    "    \n",
    "iterator = iter(dataset)"
   ]
  },
  {
   "cell_type": "code",
   "execution_count": 7,
   "metadata": {},
   "outputs": [],
   "source": [
    "train_metrics = [tf_metrics.AverageReturnMetric(), tf_metrics.EnvironmentSteps(), tf_metrics.NumberOfEpisodes()]\n",
    "\n",
    "driver = dynamic_step_driver.DynamicStepDriver(\n",
    "            train_env,\n",
    "            collect_policy,\n",
    "            observers=replay_observer + train_metrics,\n",
    "            num_steps=1)"
   ]
  },
  {
   "cell_type": "markdown",
   "metadata": {},
   "source": [
    "Тест на случайной модели:"
   ]
  },
  {
   "cell_type": "code",
   "execution_count": 8,
   "metadata": {},
   "outputs": [
    {
     "name": "stdout",
     "output_type": "stream",
     "text": [
      "Изменение баланса: -4.897261619567871\n",
      "Число шагов: 3599\n"
     ]
    }
   ],
   "source": [
    "train_env.reset()\n",
    "try_metrics = [tf_metrics.AverageReturnMetric(), tf_metrics.EnvironmentSteps()]\n",
    "try_driver = dynamic_episode_driver.DynamicEpisodeDriver(train_env, random_policy, observers=try_metrics)\n",
    "\n",
    "_ = try_driver.run()\n",
    "print(f'Изменение баланса: {try_metrics[0].result().numpy()}')\n",
    "print(f'Число шагов: {try_metrics[1].result().numpy()}')"
   ]
  },
  {
   "cell_type": "code",
   "execution_count": 9,
   "metadata": {},
   "outputs": [
    {
     "name": "stdout",
     "output_type": "stream",
     "text": [
      "Изменение баланса: -4.208261966705322\n",
      "Число шагов: 3599\n"
     ]
    }
   ],
   "source": [
    "eval_env.reset()\n",
    "try_metrics = [tf_metrics.AverageReturnMetric(), tf_metrics.EnvironmentSteps()]\n",
    "try_driver = dynamic_episode_driver.DynamicEpisodeDriver(eval_env, random_policy, observers=try_metrics)\n",
    "\n",
    "_ = try_driver.run()\n",
    "print(f'Изменение баланса: {try_metrics[0].result().numpy()}')\n",
    "print(f'Число шагов: {try_metrics[1].result().numpy()}')"
   ]
  },
  {
   "cell_type": "markdown",
   "metadata": {},
   "source": [
    "## Обучение"
   ]
  },
  {
   "cell_type": "code",
   "execution_count": 10,
   "metadata": {},
   "outputs": [],
   "source": [
    "# Сразу насыпем в буфер немного всего\n",
    "\n",
    "init_driver = dynamic_episode_driver.DynamicEpisodeDriver(\n",
    "            train_env,\n",
    "            collect_policy,\n",
    "            observers=replay_observer)\n",
    "_ = init_driver.run()"
   ]
  },
  {
   "cell_type": "code",
   "execution_count": 11,
   "metadata": {},
   "outputs": [
    {
     "data": {
      "application/vnd.jupyter.widget-view+json": {
       "model_id": "642cc1a645324391bf7a5a8b3cf51af8",
       "version_major": 2,
       "version_minor": 0
      },
      "text/plain": [
       "HBox(children=(IntProgress(value=0, max=1000000), HTML(value='')))"
      ]
     },
     "metadata": {},
     "output_type": "display_data"
    },
    {
     "name": "stdout",
     "output_type": "stream",
     "text": [
      "10000 - Return на обучении: 0.0, на валидации: 0.0\n",
      "20000 - Return на обучении: 0.0, на валидации: 0.0\n",
      "30000 - Return на обучении: 0.0, на валидации: 0.0\n",
      "40000 - Return на обучении: 0.0, на валидации: 0.0\n",
      "50000 - Return на обучении: 0.0, на валидации: 0.0\n",
      "60000 - Return на обучении: 0.0, на валидации: 0.0\n",
      "70000 - Return на обучении: 0.0, на валидации: 0.0\n",
      "80000 - Return на обучении: 0.0, на валидации: 0.0\n",
      "90000 - Return на обучении: 0.0, на валидации: 0.0\n",
      "100000 - Return на обучении: 0.0, на валидации: 0.0\n",
      "Interruption!\n"
     ]
    }
   ],
   "source": [
    "from tqdm import tqdm_notebook\n",
    "\n",
    "num_iterations = 1000000\n",
    "log_interval = 10000\n",
    "\n",
    "losses = []\n",
    "train_returns = []\n",
    "eval_returns = []\n",
    "eval_metrics = [tf_metrics.AverageReturnMetric()]\n",
    "\n",
    "train_driver = dynamic_episode_driver.DynamicEpisodeDriver(\n",
    "            train_env,\n",
    "            agent.policy,\n",
    "            observers=eval_metrics)\n",
    "\n",
    "eval_driver = dynamic_episode_driver.DynamicEpisodeDriver(\n",
    "            eval_env,\n",
    "            agent.policy,\n",
    "            observers=eval_metrics)\n",
    "\n",
    "agent.train_step_counter.assign(0)\n",
    "\n",
    "for metric in train_metrics:\n",
    "    metric.reset()\n",
    "\n",
    "try:\n",
    "    for _ in tqdm_notebook(range(num_iterations)):\n",
    "        time_step, _ = driver.run()\n",
    "        experience, _ = next(iterator)\n",
    "\n",
    "        train_loss = agent.train(experience)\n",
    "        step = agent.train_step_counter.numpy()\n",
    "\n",
    "        if step % log_interval == 0:\n",
    "            losses.append(train_loss.loss.numpy())\n",
    "            train_env.reset()\n",
    "            eval_env.reset()\n",
    "            eval_metrics[0].reset()\n",
    "            _ = train_driver.run()\n",
    "            train_return = eval_metrics[0].result().numpy()\n",
    "            eval_metrics[0].reset()\n",
    "            _ = eval_driver.run()\n",
    "            eval_return = eval_metrics[0].result().numpy()\n",
    "\n",
    "            train_returns.append(train_return)\n",
    "            eval_returns.append(eval_return)\n",
    "\n",
    "            print(f'{step} - Return на обучении: {train_return}, на валидации: {eval_return}')\n",
    "except KeyboardInterrupt:\n",
    "    print('Interruption!')"
   ]
  },
  {
   "cell_type": "code",
   "execution_count": 13,
   "metadata": {},
   "outputs": [],
   "source": [
    "checkpoint_dir = './checkpoint'\n",
    "train_checkpointer = common.Checkpointer(\n",
    "    ckpt_dir=checkpoint_dir,\n",
    "    max_to_keep=1,\n",
    "    agent=agent,\n",
    "    policy=agent.policy,\n",
    "    replay_buffer=replay_buffer\n",
    ")"
   ]
  },
  {
   "cell_type": "markdown",
   "metadata": {},
   "source": [
    "## Сравнение со случайной моделью"
   ]
  },
  {
   "cell_type": "code",
   "execution_count": 14,
   "metadata": {},
   "outputs": [],
   "source": [
    "def custom_driver(policy, env):\n",
    "    step = env.reset()\n",
    "    actions = []\n",
    "\n",
    "    while not step.is_last():\n",
    "        action = policy.action(step)\n",
    "        actions.append(action)\n",
    "        step = env.step(action)\n",
    "    history = env.pyenv.envs[0].history\n",
    "    print(f'Итоговый баланс: {history[-1][1]}')\n",
    "    plt.plot(range(len(history)), [el[1] for el in history])\n",
    "    return actions"
   ]
  },
  {
   "cell_type": "code",
   "execution_count": 16,
   "metadata": {},
   "outputs": [
    {
     "name": "stdout",
     "output_type": "stream",
     "text": [
      "Итоговый баланс: 94.56067206729409\n"
     ]
    },
    {
     "data": {
      "image/png": "[encoded data removed]",
      "text/plain": [
       "<Figure size 432x288 with 1 Axes>"
      ]
     },
     "metadata": {
      "needs_background": "light"
     },
     "output_type": "display_data"
    }
   ],
   "source": [
    "actions = custom_driver(random_policy, train_env)"
   ]
  },
  {
   "cell_type": "code",
   "execution_count": 19,
   "metadata": {},
   "outputs": [
    {
     "name": "stdout",
     "output_type": "stream",
     "text": [
      "Итоговый баланс: 99.71178324589997\n"
     ]
    },
    {
     "data": {
      "image/png": "[encoded data removed]",
      "text/plain": [
       "<Figure size 432x288 with 1 Axes>"
      ]
     },
     "metadata": {
      "needs_background": "light"
     },
     "output_type": "display_data"
    }
   ],
   "source": [
    "actions = custom_driver(collect_policy, train_env)"
   ]
  },
  {
   "cell_type": "code",
   "execution_count": 16,
   "metadata": {},
   "outputs": [
    {
     "name": "stdout",
     "output_type": "stream",
     "text": [
      "Итоговый баланс: 103.23685119999999\n"
     ]
    },
    {
     "data": {
      "image/png": "[encoded data removed]",
      "text/plain": [
       "<Figure size 432x288 with 1 Axes>"
      ]
     },
     "metadata": {
      "needs_background": "light"
     },
     "output_type": "display_data"
    }
   ],
   "source": [
    "class BtcPolicy:\n",
    "    def __init__(self):\n",
    "        pass\n",
    "    def action(self, step):\n",
    "        return 0\n",
    "\n",
    "    \n",
    "btc = BtcPolicy()\n",
    "custom_driver(btc, train_env)"
   ]
  }
 ],
 "metadata": {
  "kernelspec": {
   "display_name": "Python 3",
   "language": "python",
   "name": "python3"
  },
  "language_info": {
   "codemirror_mode": {
    "name": "ipython",
    "version": 3
   },
   "file_extension": ".py",
   "mimetype": "text/x-python",
   "name": "python",
   "nbconvert_exporter": "python",
   "pygments_lexer": "ipython3",
   "version": "3.7.3"
  }
 },
 "nbformat": 4,
 "nbformat_minor": 2
}
