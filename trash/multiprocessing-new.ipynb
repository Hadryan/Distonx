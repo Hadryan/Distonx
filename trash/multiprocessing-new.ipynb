{
 "cells": [
  {
   "cell_type": "code",
   "execution_count": 1,
   "metadata": {},
   "outputs": [],
   "source": [
    "import numpy as np\n",
    "import time\n",
    "from binance.client import Client\n",
    "import multiprocessing\n",
    "import threading\n",
    "import matplotlib.pyplot as plt\n",
    "import time\n",
    "from IPython.display import clear_output\n",
    "import seaborn as sns\n",
    "sns.set()"
   ]
  },
  {
   "cell_type": "code",
   "execution_count": 6,
   "metadata": {},
   "outputs": [
    {
     "data": {
      "text/plain": [
       "['@trade', '@kline_1m', '@ticker', '@depth20@100ms']"
      ]
     },
     "execution_count": 6,
     "metadata": {},
     "output_type": "execute_result"
    }
   ],
   "source": [
    "with open('../settings/streams.txt') as file:\n",
    "    strs = file.readlines()\n",
    "strs = [el[:-1] for el in strs]\n",
    "strs"
   ]
  },
  {
   "cell_type": "code",
   "execution_count": 7,
   "metadata": {},
   "outputs": [
    {
     "data": {
      "text/plain": [
       "1580211081.2036269"
      ]
     },
     "execution_count": 7,
     "metadata": {},
     "output_type": "execute_result"
    }
   ],
   "source": [
    "time.time()"
   ]
  },
  {
   "cell_type": "code",
   "execution_count": 3,
   "metadata": {},
   "outputs": [
    {
     "data": {
      "text/plain": [
       "{'symbol': 'BTCUSDT', 'price': '8996.33000000'}"
      ]
     },
     "execution_count": 3,
     "metadata": {},
     "output_type": "execute_result"
    }
   ],
   "source": [
    "api_key = ''\n",
    "api_secret = ''\n",
    "client = Client(api_key, api_secret)\n",
    "client.get_symbol_ticker(symbol='BTCUSDT')"
   ]
  },
  {
   "cell_type": "code",
   "execution_count": 4,
   "metadata": {},
   "outputs": [],
   "source": [
    "from binance.websockets import BinanceSocketManager\n",
    "streams = ['btcusdt@trade']"
   ]
  },
  {
   "cell_type": "code",
   "execution_count": 5,
   "metadata": {},
   "outputs": [],
   "source": [
    "def target(x):\n",
    "    print(x)\n",
    "    time.sleep(2)"
   ]
  },
  {
   "cell_type": "code",
   "execution_count": 6,
   "metadata": {},
   "outputs": [],
   "source": [
    "def slow_callback(x):\n",
    "    proc = threading.Thread(target=target, args=(x,))\n",
    "    proc.start()\n",
    "    #proc.join()"
   ]
  },
  {
   "cell_type": "code",
   "execution_count": null,
   "metadata": {},
   "outputs": [
    {
     "name": "stdout",
     "output_type": "stream",
     "text": [
      "{'stream': 'btcusdt@trade', 'data': {'e': 'trade', 'E': 1580204486424, 's': 'BTCUSDT', 't': 235518178, 'p': '8992.99000000', 'q': '0.00128100', 'b': 1089765110, 'a': 1089765072, 'T': 1580204486421, 'm': False, 'M': True}}\n",
      "{'stream': 'btcusdt@trade', 'data': {'e': 'trade', 'E': 1580204486469, 's': 'BTCUSDT', 't': 235518179, 'p': '8992.99000000', 'q': '0.01199900', 'b': 1089765113, 'a': 1089765072, 'T': 1580204486468, 'm': False, 'M': True}}\n",
      "{'stream': 'btcusdt@trade', 'data': {'e': 'trade', 'E': 1580204486817, 's': 'BTCUSDT', 't': 235518180, 'p': '8992.99000000', 'q': '0.01199900', 'b': 1089765120, 'a': 1089765072, 'T': 1580204486816, 'm': False, 'M': True}}\n",
      "{'stream': 'btcusdt@trade', 'data': {'e': 'trade', 'E': 1580204487256, 's': 'BTCUSDT', 't': 235518181, 'p': '8992.99000000', 'q': '0.00112000', 'b': 1089765128, 'a': 1089765072, 'T': 1580204487255, 'm': False, 'M': True}}\n",
      "{'stream': 'btcusdt@trade', 'data': {'e': 'trade', 'E': 1580204489480, 's': 'BTCUSDT', 't': 235518182, 'p': '8992.99000000', 'q': '0.01199900', 'b': 1089765184, 'a': 1089765072, 'T': 1580204489477, 'm': False, 'M': True}}\n",
      "{'stream': 'btcusdt@trade', 'data': {'e': 'trade', 'E': 1580204490529, 's': 'BTCUSDT', 't': 235518183, 'p': '8992.98000000', 'q': '0.00001400', 'b': 1089764921, 'a': 1089765200, 'T': 1580204490527, 'm': True, 'M': True}}\n",
      "{'stream': 'btcusdt@trade', 'data': {'e': 'trade', 'E': 1580204490529, 's': 'BTCUSDT', 't': 235518184, 'p': '8992.98000000', 'q': '0.04739900', 'b': 1089765190, 'a': 1089765200, 'T': 1580204490527, 'm': True, 'M': True}}\n",
      "{'stream': 'btcusdt@trade', 'data': {'e': 'trade', 'E': 1580204491711, 's': 'BTCUSDT', 't': 235518185, 'p': '8992.19000000', 'q': '0.05000000', 'b': 1089765261, 'a': 1089765262, 'T': 1580204491710, 'm': True, 'M': True}}\n",
      "{'stream': 'btcusdt@trade', 'data': {'e': 'trade', 'E': 1580204492387, 's': 'BTCUSDT', 't': 235518186, 'p': '8992.20000000', 'q': '0.12133200', 'b': 1089765288, 'a': 1089765287, 'T': 1580204492384, 'm': False, 'M': True}}\n",
      "{'stream': 'btcusdt@trade', 'data': {'e': 'trade', 'E': 1580204492435, 's': 'BTCUSDT', 't': 235518187, 'p': '8992.19000000', 'q': '0.00316100', 'b': 1089765290, 'a': 1089765289, 'T': 1580204492434, 'm': False, 'M': True}}\n",
      "{'stream': 'btcusdt@trade', 'data': {'e': 'trade', 'E': 1580204492484, 's': 'BTCUSDT', 't': 235518188, 'p': '8992.19000000', 'q': '0.01199900', 'b': 1089765292, 'a': 1089765289, 'T': 1580204492483, 'm': False, 'M': True}}\n",
      "{'stream': 'btcusdt@trade', 'data': {'e': 'trade', 'E': 1580204493089, 's': 'BTCUSDT', 't': 235518189, 'p': '8992.75000000', 'q': '0.00147700', 'b': 1089765314, 'a': 1089765310, 'T': 1580204493086, 'm': False, 'M': True}}\n",
      "{'stream': 'btcusdt@trade', 'data': {'e': 'trade', 'E': 1580204493584, 's': 'BTCUSDT', 't': 235518190, 'p': '8992.75000000', 'q': '0.02496900', 'b': 1089765337, 'a': 1089765310, 'T': 1580204493582, 'm': False, 'M': True}}{'stream': 'btcusdt@trade', 'data': {'e': 'trade', 'E': 1580204493588, 's': 'BTCUSDT', 't': 235518191, 'p': '8992.60000000', 'q': '0.07740500', 'b': 1089765339, 'a': 1089765338, 'T': 1580204493586, 'm': False, 'M': True}}\n",
      "\n",
      "{'stream': 'btcusdt@trade', 'data': {'e': 'trade', 'E': 1580204495115, 's': 'BTCUSDT', 't': 235518192, 'p': '8992.78000000', 'q': '0.27800300', 'b': 1089765379, 'a': 1089765373, 'T': 1580204495112, 'm': False, 'M': True}}\n",
      "{'stream': 'btcusdt@trade', 'data': {'e': 'trade', 'E': 1580204495115, 's': 'BTCUSDT', 't': 235518193, 'p': '8992.79000000', 'q': '0.22199700', 'b': 1089765379, 'a': 1089765374, 'T': 1580204495112, 'm': False, 'M': True}}\n",
      "{'stream': 'btcusdt@trade', 'data': {'e': 'trade', 'E': 1580204495495, 's': 'BTCUSDT', 't': 235518194, 'p': '8992.78000000', 'q': '0.01199900', 'b': 1089765384, 'a': 1089765380, 'T': 1580204495493, 'm': False, 'M': True}}\n",
      "{'stream': 'btcusdt@trade', 'data': {'e': 'trade', 'E': 1580204498497, 's': 'BTCUSDT', 't': 235518195, 'p': '8992.69000000', 'q': '0.01199900', 'b': 1089765436, 'a': 1089765430, 'T': 1580204498496, 'm': False, 'M': True}}\n",
      "{'stream': 'btcusdt@trade', 'data': {'e': 'trade', 'E': 1580204499013, 's': 'BTCUSDT', 't': 235518196, 'p': '8992.69000000', 'q': '0.08448700', 'b': 1089765441, 'a': 1089765430, 'T': 1580204499009, 'm': False, 'M': True}}\n",
      "{'stream': 'btcusdt@trade', 'data': {'e': 'trade', 'E': 1580204499400, 's': 'BTCUSDT', 't': 235518197, 'p': '8992.70000000', 'q': '0.03259000', 'b': 1089765442, 'a': 1089765448, 'T': 1580204499396, 'm': True, 'M': True}}\n",
      "{'stream': 'btcusdt@trade', 'data': {'e': 'trade', 'E': 1580204501410, 's': 'BTCUSDT', 't': 235518198, 'p': '8992.69000000', 'q': '0.09301100', 'b': 1089765514, 'a': 1089765484, 'T': 1580204501409, 'm': False, 'M': True}}\n",
      "{'stream': 'btcusdt@trade', 'data': {'e': 'trade', 'E': 1580204501497, 's': 'BTCUSDT', 't': 235518199, 'p': '8992.71000000', 'q': '0.00118400', 'b': 1089765520, 'a': 1089765473, 'T': 1580204501494, 'm': False, 'M': True}}\n",
      "{'stream': 'btcusdt@trade', 'data': {'e': 'trade', 'E': 1580204501497, 's': 'BTCUSDT', 't': 235518200, 'p': '8992.77000000', 'q': '0.01081500', 'b': 1089765520, 'a': 1089765439, 'T': 1580204501494, 'm': False, 'M': True}}\n",
      "{'stream': 'btcusdt@trade', 'data': {'e': 'trade', 'E': 1580204502129, 's': 'BTCUSDT', 't': 235518201, 'p': '8992.75000000', 'q': '0.02830500', 'b': 1089765546, 'a': 1089765539, 'T': 1580204502126, 'm': False, 'M': True}}\n",
      "{'stream': 'btcusdt@trade', 'data': {'e': 'trade', 'E': 1580204502285, 's': 'BTCUSDT', 't': 235518202, 'p': '8992.74000000', 'q': '0.00488800', 'b': 1089765555, 'a': 1089765557, 'T': 1580204502283, 'm': True, 'M': True}}\n",
      "{'stream': 'btcusdt@trade', 'data': {'e': 'trade', 'E': 1580204503709, 's': 'BTCUSDT', 't': 235518203, 'p': '8992.73000000', 'q': '0.00805400', 'b': 1089765589, 'a': 1089765587, 'T': 1580204503708, 'm': False, 'M': True}}\n",
      "{'stream': 'btcusdt@trade', 'data': {'e': 'trade', 'E': 1580204503814, 's': 'BTCUSDT', 't': 235518204, 'p': '8992.73000000', 'q': '0.03032700', 'b': 1089765593, 'a': 1089765587, 'T': 1580204503812, 'm': False, 'M': True}}\n",
      "{'stream': 'btcusdt@trade', 'data': {'e': 'trade', 'E': 1580204504262, 's': 'BTCUSDT', 't': 235518205, 'p': '8992.66000000', 'q': '0.05448700', 'b': 1089765594, 'a': 1089765604, 'T': 1580204504260, 'm': True, 'M': True}}\n",
      "{'stream': 'btcusdt@trade', 'data': {'e': 'trade', 'E': 1580204504327, 's': 'BTCUSDT', 't': 235518206, 'p': '8992.71000000', 'q': '0.17493600', 'b': 1089765606, 'a': 1089765607, 'T': 1580204504325, 'm': True, 'M': True}}\n",
      "{'stream': 'btcusdt@trade', 'data': {'e': 'trade', 'E': 1580204504332, 's': 'BTCUSDT', 't': 235518207, 'p': '8992.73000000', 'q': '0.05757000', 'b': 1089765609, 'a': 1089765587, 'T': 1580204504329, 'm': False, 'M': True}}\n",
      "{'stream': 'btcusdt@trade', 'data': {'e': 'trade', 'E': 1580204504375, 's': 'BTCUSDT', 't': 235518208, 'p': '8992.72000000', 'q': '0.00408700', 'b': 1089765611, 'a': 1089765614, 'T': 1580204504374, 'm': True, 'M': True}}\n",
      "{'stream': 'btcusdt@trade', 'data': {'e': 'trade', 'E': 1580204504514, 's': 'BTCUSDT', 't': 235518209, 'p': '8992.76000000', 'q': '0.01199900', 'b': 1089765623, 'a': 1089765619, 'T': 1580204504513, 'm': False, 'M': True}}\n",
      "{'stream': 'btcusdt@trade', 'data': {'e': 'trade', 'E': 1580204506351, 's': 'BTCUSDT', 't': 235518210, 'p': '8992.57000000', 'q': '0.31320400', 'b': 1089765666, 'a': 1089765665, 'T': 1580204506348, 'm': False, 'M': True}}\n",
      "{'stream': 'btcusdt@trade', 'data': {'e': 'trade', 'E': 1580204506359, 's': 'BTCUSDT', 't': 235518211, 'p': '8992.74000000', 'q': '0.04520400', 'b': 1089765668, 'a': 1089765649, 'T': 1580204506357, 'm': False, 'M': True}}\n",
      "{'stream': 'btcusdt@trade', 'data': {'e': 'trade', 'E': 1580204506455, 's': 'BTCUSDT', 't': 235518212, 'p': '8992.77000000', 'q': '0.00222100', 'b': 1089765676, 'a': 1089765439, 'T': 1580204506452, 'm': False, 'M': True}}\n",
      "{'stream': 'btcusdt@trade', 'data': {'e': 'trade', 'E': 1580204507096, 's': 'BTCUSDT', 't': 235518213, 'p': '8992.50000000', 'q': '0.03377100', 'b': 1089765688, 'a': 1089765694, 'T': 1580204507094, 'm': True, 'M': True}}\n",
      "{'stream': 'btcusdt@trade', 'data': {'e': 'trade', 'E': 1580204507384, 's': 'BTCUSDT', 't': 235518214, 'p': '8992.48000000', 'q': '0.00334400', 'b': 1089765693, 'a': 1089765701, 'T': 1580204507382, 'm': True, 'M': True}}\n"
     ]
    },
    {
     "name": "stdout",
     "output_type": "stream",
     "text": [
      "{'stream': 'btcusdt@trade', 'data': {'e': 'trade', 'E': 1580204507598, 's': 'BTCUSDT', 't': 235518215, 'p': '8992.49000000', 'q': '0.00244700', 'b': 1089765702, 'a': 1089765705, 'T': 1580204507597, 'm': True, 'M': True}}\n",
      "{'stream': 'btcusdt@trade', 'data': {'e': 'trade', 'E': 1580204508800, 's': 'BTCUSDT', 't': 235518216, 'p': '8992.75000000', 'q': '0.10702600', 'b': 1089765724, 'a': 1089765703, 'T': 1580204508799, 'm': False, 'M': True}}\n",
      "{'stream': 'btcusdt@trade', 'data': {'e': 'trade', 'E': 1580204508960, 's': 'BTCUSDT', 't': 235518217, 'p': '8992.56000000', 'q': '0.16671700', 'b': 1089765728, 'a': 1089765729, 'T': 1580204508957, 'm': True, 'M': True}}\n",
      "{'stream': 'btcusdt@trade', 'data': {'e': 'trade', 'E': 1580204510695, 's': 'BTCUSDT', 't': 235518218, 'p': '8992.52000000', 'q': '0.20830000', 'b': 1089765762, 'a': 1089765763, 'T': 1580204510694, 'm': True, 'M': True}}\n",
      "{'stream': 'btcusdt@trade', 'data': {'e': 'trade', 'E': 1580204510955, 's': 'BTCUSDT', 't': 235518219, 'p': '8992.48000000', 'q': '0.05800900', 'b': 1089765772, 'a': 1089765771, 'T': 1580204510954, 'm': False, 'M': True}}\n",
      "{'stream': 'btcusdt@trade', 'data': {'e': 'trade', 'E': 1580204510960, 's': 'BTCUSDT', 't': 235518220, 'p': '8992.44000000', 'q': '0.00118500', 'b': 1089765691, 'a': 1089765773, 'T': 1580204510959, 'm': True, 'M': True}}\n",
      "{'stream': 'btcusdt@trade', 'data': {'e': 'trade', 'E': 1580204510960, 's': 'BTCUSDT', 't': 235518221, 'p': '8992.18000000', 'q': '0.00862800', 'b': 1089765161, 'a': 1089765773, 'T': 1580204510959, 'm': True, 'M': True}}\n",
      "{'stream': 'btcusdt@trade', 'data': {'e': 'trade', 'E': 1580204511097, 's': 'BTCUSDT', 't': 235518222, 'p': '8992.48000000', 'q': '0.03005900', 'b': 1089765779, 'a': 1089765771, 'T': 1580204511093, 'm': False, 'M': True}}\n",
      "{'stream': 'btcusdt@trade', 'data': {'e': 'trade', 'E': 1580204511707, 's': 'BTCUSDT', 't': 235518223, 'p': '8992.18000000', 'q': '0.00714300', 'b': 1089765161, 'a': 1089765805, 'T': 1580204511704, 'm': True, 'M': True}}\n",
      "{'stream': 'btcusdt@trade', 'data': {'e': 'trade', 'E': 1580204511842, 's': 'BTCUSDT', 't': 235518224, 'p': '8992.18000000', 'q': '0.01022000', 'b': 1089765161, 'a': 1089765815, 'T': 1580204511839, 'm': True, 'M': True}}\n",
      "{'stream': 'btcusdt@trade', 'data': {'e': 'trade', 'E': 1580204511920, 's': 'BTCUSDT', 't': 235518225, 'p': '8992.18000000', 'q': '0.02446900', 'b': 1089765161, 'a': 1089765822, 'T': 1580204511918, 'm': True, 'M': True}}\n",
      "{'stream': 'btcusdt@trade', 'data': {'e': 'trade', 'E': 1580204511922, 's': 'BTCUSDT', 't': 235518226, 'p': '8992.35000000', 'q': '0.00744700', 'b': 1089765823, 'a': 1089765821, 'T': 1580204511920, 'm': False, 'M': True}}\n",
      "{'stream': 'btcusdt@trade', 'data': {'e': 'trade', 'E': 1580204512032, 's': 'BTCUSDT', 't': 235518227, 'p': '8992.18000000', 'q': '0.00873300', 'b': 1089765161, 'a': 1089765833, 'T': 1580204512030, 'm': True, 'M': True}}\n",
      "{'stream': 'btcusdt@trade', 'data': {'e': 'trade', 'E': 1580204512124, 's': 'BTCUSDT', 't': 235518228, 'p': '8992.18000000', 'q': '0.00148700', 'b': 1089765161, 'a': 1089765840, 'T': 1580204512123, 'm': True, 'M': True}}\n",
      "{'stream': 'btcusdt@trade', 'data': {'e': 'trade', 'E': 1580204512141, 's': 'BTCUSDT', 't': 235518229, 'p': '8992.25000000', 'q': '0.00232400', 'b': 1089765841, 'a': 1089765838, 'T': 1580204512140, 'm': False, 'M': True}}\n",
      "{'stream': 'btcusdt@trade', 'data': {'e': 'trade', 'E': 1580204512222, 's': 'BTCUSDT', 't': 235518230, 'p': '8992.19000000', 'q': '0.01421400', 'b': 1089765855, 'a': 1089765851, 'T': 1580204512221, 'm': False, 'M': True}}\n",
      "{'stream': 'btcusdt@trade', 'data': {'e': 'trade', 'E': 1580204512599, 's': 'BTCUSDT', 't': 235518231, 'p': '8992.17000000', 'q': '0.10000000', 'b': 1089765077, 'a': 1089765883, 'T': 1580204512596, 'm': True, 'M': True}}\n",
      "{'stream': 'btcusdt@trade', 'data': {'e': 'trade', 'E': 1580204512712, 's': 'BTCUSDT', 't': 235518232, 'p': '8990.68000000', 'q': '0.05661800', 'b': 1089765901, 'a': 1089765900, 'T': 1580204512710, 'm': False, 'M': True}}\n",
      "{'stream': 'btcusdt@trade', 'data': {'e': 'trade', 'E': 1580204512842, 's': 'BTCUSDT', 't': 235518233, 'p': '8990.63000000', 'q': '0.07069100', 'b': 1089765918, 'a': 1089765913, 'T': 1580204512839, 'm': False, 'M': True}}\n",
      "{'stream': 'btcusdt@trade', 'data': {'e': 'trade', 'E': 1580204512954, 's': 'BTCUSDT', 't': 235518234, 'p': '8990.56000000', 'q': '0.11637000', 'b': 1089765933, 'a': 1089765931, 'T': 1580204512952, 'm': False, 'M': True}}\n",
      "{'stream': 'btcusdt@trade', 'data': {'e': 'trade', 'E': 1580204513028, 's': 'BTCUSDT', 't': 235518235, 'p': '8990.56000000', 'q': '0.02800000', 'b': 1089765940, 'a': 1089765931, 'T': 1580204513027, 'm': False, 'M': True}}\n",
      "{'stream': 'btcusdt@trade', 'data': {'e': 'trade', 'E': 1580204513050, 's': 'BTCUSDT', 't': 235518236, 'p': '8990.56000000', 'q': '0.13371400', 'b': 1089765942, 'a': 1089765931, 'T': 1580204513048, 'm': False, 'M': True}}\n",
      "{'stream': 'btcusdt@trade', 'data': {'e': 'trade', 'E': 1580204513196, 's': 'BTCUSDT', 't': 235518237, 'p': '8990.56000000', 'q': '0.00200000', 'b': 1089765949, 'a': 1089765945, 'T': 1580204513192, 'm': False, 'M': True}}\n",
      "{'stream': 'btcusdt@trade', 'data': {'e': 'trade', 'E': 1580204513394, 's': 'BTCUSDT', 't': 235518238, 'p': '8990.56000000', 'q': '0.00914300', 'b': 1089765958, 'a': 1089765945, 'T': 1580204513392, 'm': False, 'M': True}}\n",
      "{'stream': 'btcusdt@trade', 'data': {'e': 'trade', 'E': 1580204514060, 's': 'BTCUSDT', 't': 235518239, 'p': '8990.43000000', 'q': '0.01505600', 'b': 1089765979, 'a': 1089765975, 'T': 1580204514059, 'm': False, 'M': True}}\n",
      "{'stream': 'btcusdt@trade', 'data': {'e': 'trade', 'E': 1580204514148, 's': 'BTCUSDT', 't': 235518240, 'p': '8990.40000000', 'q': '0.01158100', 'b': 1089765985, 'a': 1089765980, 'T': 1580204514146, 'm': False, 'M': True}}\n",
      "{'stream': 'btcusdt@trade', 'data': {'e': 'trade', 'E': 1580204514260, 's': 'BTCUSDT', 't': 235518241, 'p': '8990.35000000', 'q': '0.01505600', 'b': 1089765994, 'a': 1089765993, 'T': 1580204514258, 'm': False, 'M': True}}{'stream': 'btcusdt@trade', 'data': {'e': 'trade', 'E': 1580204514381, 's': 'BTCUSDT', 't': 235518242, 'p': '8990.32000000', 'q': '0.01505600', 'b': 1089766000, 'a': 1089765998, 'T': 1580204514379, 'm': False, 'M': True}}\n",
      "{'stream': 'btcusdt@trade', 'data': {'e': 'trade', 'E': 1580204514471, 's': 'BTCUSDT', 't': 235518243, 'p': '8990.32000000', 'q': '0.01505600', 'b': 1089766007, 'a': 1089765998, 'T': 1580204514470, 'm': False, 'M': True}}\n",
      "\n",
      "{'stream': 'btcusdt@trade', 'data': {'e': 'trade', 'E': 1580204514585, 's': 'BTCUSDT', 't': 235518244, 'p': '8990.32000000', 'q': '0.01505600', 'b': 1089766015, 'a': 1089765998, 'T': 1580204514583, 'm': False, 'M': True}}\n",
      "{'stream': 'btcusdt@trade', 'data': {'e': 'trade', 'E': 1580204514609, 's': 'BTCUSDT', 't': 235518245, 'p': '8990.26000000', 'q': '0.22604000', 'b': 1089766017, 'a': 1089766016, 'T': 1580204514606, 'm': False, 'M': True}}\n",
      "{'stream': 'btcusdt@trade', 'data': {'e': 'trade', 'E': 1580204515416, 's': 'BTCUSDT', 't': 235518246, 'p': '8990.53000000', 'q': '0.00133600', 'b': 1089766065, 'a': 1089766061, 'T': 1580204515415, 'm': False, 'M': True}}\n",
      "{'stream': 'btcusdt@trade', 'data': {'e': 'trade', 'E': 1580204516154, 's': 'BTCUSDT', 't': 235518247, 'p': '8990.53000000', 'q': '0.00129000', 'b': 1089766085, 'a': 1089766061, 'T': 1580204516152, 'm': False, 'M': True}}\n",
      "{'stream': 'btcusdt@trade', 'data': {'e': 'trade', 'E': 1580204516763, 's': 'BTCUSDT', 't': 235518248, 'p': '8990.53000000', 'q': '0.01059100', 'b': 1089766094, 'a': 1089766061, 'T': 1580204516762, 'm': False, 'M': True}}\n",
      "{'stream': 'btcusdt@trade', 'data': {'e': 'trade', 'E': 1580204516768, 's': 'BTCUSDT', 't': 235518249, 'p': '8990.49000000', 'q': '0.17421400', 'b': 1089766096, 'a': 1089766095, 'T': 1580204516767, 'm': False, 'M': True}}\n",
      "{'stream': 'btcusdt@trade', 'data': {'e': 'trade', 'E': 1580204517883, 's': 'BTCUSDT', 't': 235518250, 'p': '8990.89000000', 'q': '0.01600600', 'b': 1089766119, 'a': 1089766118, 'T': 1580204517882, 'm': False, 'M': True}}\n",
      "{'stream': 'btcusdt@trade', 'data': {'e': 'trade', 'E': 1580204517891, 's': 'BTCUSDT', 't': 235518251, 'p': '8991.03000000', 'q': '0.06124400', 'b': 1089766120, 'a': 1089766110, 'T': 1580204517890, 'm': False, 'M': True}}\n",
      "{'stream': 'btcusdt@trade', 'data': {'e': 'trade', 'E': 1580204517942, 's': 'BTCUSDT', 't': 235518252, 'p': '8990.63000000', 'q': '0.00661900', 'b': 1089766122, 'a': 1089766123, 'T': 1580204517938, 'm': True, 'M': True}}\n"
     ]
    },
    {
     "name": "stdout",
     "output_type": "stream",
     "text": [
      "{'stream': 'btcusdt@trade', 'data': {'e': 'trade', 'E': 1580204518351, 's': 'BTCUSDT', 't': 235518253, 'p': '8991.05000000', 'q': '0.01949800', 'b': 1089766133, 'a': 1089765926, 'T': 1580204518349, 'm': False, 'M': True}}{'stream': 'btcusdt@trade', 'data': {'e': 'trade', 'E': 1580204518407, 's': 'BTCUSDT', 't': 235518254, 'p': '8991.05000000', 'q': '0.01913100', 'b': 1089766136, 'a': 1089765926, 'T': 1580204518404, 'm': False, 'M': True}}\n",
      "\n",
      "{'stream': 'btcusdt@trade', 'data': {'e': 'trade', 'E': 1580204518408, 's': 'BTCUSDT', 't': 235518255, 'p': '8991.05000000', 'q': '0.03826300', 'b': 1089766137, 'a': 1089765926, 'T': 1580204518406, 'm': False, 'M': True}}\n",
      "{'stream': 'btcusdt@trade', 'data': {'e': 'trade', 'E': 1580204518454, 's': 'BTCUSDT', 't': 235518256, 'p': '8991.05000000', 'q': '0.00233400', 'b': 1089766141, 'a': 1089765926, 'T': 1580204518452, 'm': False, 'M': True}}\n",
      "{'stream': 'btcusdt@trade', 'data': {'e': 'trade', 'E': 1580204518566, 's': 'BTCUSDT', 't': 235518257, 'p': '8991.05000000', 'q': '0.01303700', 'b': 1089766146, 'a': 1089765926, 'T': 1580204518564, 'm': False, 'M': True}}\n",
      "{'stream': 'btcusdt@trade', 'data': {'e': 'trade', 'E': 1580204518649, 's': 'BTCUSDT', 't': 235518258, 'p': '8991.05000000', 'q': '0.01670800', 'b': 1089766149, 'a': 1089765926, 'T': 1580204518647, 'm': False, 'M': True}}\n",
      "{'stream': 'btcusdt@trade', 'data': {'e': 'trade', 'E': 1580204518774, 's': 'BTCUSDT', 't': 235518259, 'p': '8991.05000000', 'q': '0.01303700', 'b': 1089766155, 'a': 1089765926, 'T': 1580204518773, 'm': False, 'M': True}}\n",
      "{'stream': 'btcusdt@trade', 'data': {'e': 'trade', 'E': 1580204518876, 's': 'BTCUSDT', 't': 235518260, 'p': '8991.05000000', 'q': '0.01303700', 'b': 1089766159, 'a': 1089765926, 'T': 1580204518874, 'm': False, 'M': True}}\n",
      "{'stream': 'btcusdt@trade', 'data': {'e': 'trade', 'E': 1580204518988, 's': 'BTCUSDT', 't': 235518261, 'p': '8991.05000000', 'q': '0.01303700', 'b': 1089766163, 'a': 1089765926, 'T': 1580204518987, 'm': False, 'M': True}}\n",
      "{'stream': 'btcusdt@trade', 'data': {'e': 'trade', 'E': 1580204519072, 's': 'BTCUSDT', 't': 235518262, 'p': '8991.05000000', 'q': '0.01303700', 'b': 1089766167, 'a': 1089765926, 'T': 1580204519070, 'm': False, 'M': True}}\n",
      "{'stream': 'btcusdt@trade', 'data': {'e': 'trade', 'E': 1580204519179, 's': 'BTCUSDT', 't': 235518263, 'p': '8991.05000000', 'q': '0.01211100', 'b': 1089766172, 'a': 1089765926, 'T': 1580204519177, 'm': False, 'M': True}}\n",
      "{'stream': 'btcusdt@trade', 'data': {'e': 'trade', 'E': 1580204519918, 's': 'BTCUSDT', 't': 235518264, 'p': '8991.03000000', 'q': '0.02412300', 'b': 1089766190, 'a': 1089766173, 'T': 1580204519916, 'm': False, 'M': True}}\n",
      "{'stream': 'btcusdt@trade', 'data': {'e': 'trade', 'E': 1580204520411, 's': 'BTCUSDT', 't': 235518265, 'p': '8991.02000000', 'q': '0.05000000', 'b': 1089766181, 'a': 1089766206, 'T': 1580204520409, 'm': True, 'M': True}}\n",
      "{'stream': 'btcusdt@trade', 'data': {'e': 'trade', 'E': 1580204523290, 's': 'BTCUSDT', 't': 235518266, 'p': '8991.70000000', 'q': '0.02605500', 'b': 1089766295, 'a': 1089766285, 'T': 1580204523288, 'm': False, 'M': True}}\n",
      "{'stream': 'btcusdt@trade', 'data': {'e': 'trade', 'E': 1580204523540, 's': 'BTCUSDT', 't': 235518267, 'p': '8991.37000000', 'q': '0.13877200', 'b': 1089766312, 'a': 1089766311, 'T': 1580204523536, 'm': False, 'M': True}}\n",
      "{'stream': 'btcusdt@trade', 'data': {'e': 'trade', 'E': 1580204523686, 's': 'BTCUSDT', 't': 235518268, 'p': '8991.22000000', 'q': '0.00732600', 'b': 1089766315, 'a': 1089766316, 'T': 1580204523683, 'm': True, 'M': True}}\n",
      "{'stream': 'btcusdt@trade', 'data': {'e': 'trade', 'E': 1580204523792, 's': 'BTCUSDT', 't': 235518269, 'p': '8991.25000000', 'q': '0.01118100', 'b': 1089766319, 'a': 1089766321, 'T': 1580204523790, 'm': True, 'M': True}}\n",
      "{'stream': 'btcusdt@trade', 'data': {'e': 'trade', 'E': 1580204524330, 's': 'BTCUSDT', 't': 235518270, 'p': '8991.18000000', 'q': '0.07547000', 'b': 1089766298, 'a': 1089766337, 'T': 1580204524327, 'm': True, 'M': True}}\n",
      "{'stream': 'btcusdt@trade', 'data': {'e': 'trade', 'E': 1580204525143, 's': 'BTCUSDT', 't': 235518271, 'p': '8991.48000000', 'q': '0.00164900', 'b': 1089766363, 'a': 1089766359, 'T': 1580204525142, 'm': False, 'M': True}}\n",
      "{'stream': 'btcusdt@trade', 'data': {'e': 'trade', 'E': 1580204525214, 's': 'BTCUSDT', 't': 235518272, 'p': '8991.51000000', 'q': '0.11684900', 'b': 1089766365, 'a': 1089766358, 'T': 1580204525212, 'm': False, 'M': True}}\n",
      "{'stream': 'btcusdt@trade', 'data': {'e': 'trade', 'E': 1580204525214, 's': 'BTCUSDT', 't': 235518273, 'p': '8991.52000000', 'q': '0.02426300', 'b': 1089766365, 'a': 1089766356, 'T': 1580204525212, 'm': False, 'M': True}}\n",
      "{'stream': 'btcusdt@trade', 'data': {'e': 'trade', 'E': 1580204525214, 's': 'BTCUSDT', 't': 235518274, 'p': '8991.72000000', 'q': '0.30000000', 'b': 1089766365, 'a': 1089766341, 'T': 1580204525212, 'm': False, 'M': True}}\n",
      "{'stream': 'btcusdt@trade', 'data': {'e': 'trade', 'E': 1580204525494, 's': 'BTCUSDT', 't': 235518275, 'p': '8992.05000000', 'q': '0.01111200', 'b': 1089766398, 'a': 1089765906, 'T': 1580204525492, 'm': False, 'M': True}}\n",
      "{'stream': 'btcusdt@trade', 'data': {'e': 'trade', 'E': 1580204525494, 's': 'BTCUSDT', 't': 235518276, 'p': '8992.07000000', 'q': '0.04000000', 'b': 1089766398, 'a': 1089766195, 'T': 1580204525492, 'm': False, 'M': True}}\n",
      "{'stream': 'btcusdt@trade', 'data': {'e': 'trade', 'E': 1580204525547, 's': 'BTCUSDT', 't': 235518277, 'p': '8992.27000000', 'q': '0.18967000', 'b': 1089766408, 'a': 1089766409, 'T': 1580204525546, 'm': True, 'M': True}}\n",
      "{'stream': 'btcusdt@trade', 'data': {'e': 'trade', 'E': 1580204525631, 's': 'BTCUSDT', 't': 235518278, 'p': '8992.28000000', 'q': '0.04000000', 'b': 1089766413, 'a': 1089766420, 'T': 1580204525628, 'm': True, 'M': True}}\n",
      "{'stream': 'btcusdt@trade', 'data': {'e': 'trade', 'E': 1580204525638, 's': 'BTCUSDT', 't': 235518279, 'p': '8992.77000000', 'q': '0.08696400', 'b': 1089766421, 'a': 1089765439, 'T': 1580204525635, 'm': False, 'M': True}}\n",
      "{'stream': 'btcusdt@trade', 'data': {'e': 'trade', 'E': 1580204525638, 's': 'BTCUSDT', 't': 235518280, 'p': '8992.78000000', 'q': '0.00252400', 'b': 1089766421, 'a': 1089765789, 'T': 1580204525635, 'm': False, 'M': True}}\n",
      "{'stream': 'btcusdt@trade', 'data': {'e': 'trade', 'E': 1580204525659, 's': 'BTCUSDT', 't': 235518281, 'p': '8992.78000000', 'q': '0.72867800', 'b': 1089766424, 'a': 1089765789, 'T': 1580204525657, 'm': False, 'M': True}}\n",
      "{'stream': 'btcusdt@trade', 'data': {'e': 'trade', 'E': 1580204525659, 's': 'BTCUSDT', 't': 235518282, 'p': '8992.99000000', 'q': '0.00465100', 'b': 1089766424, 'a': 1089765411, 'T': 1580204525657, 'm': False, 'M': True}}\n",
      "{'stream': 'btcusdt@trade', 'data': {'e': 'trade', 'E': 1580204525698, 's': 'BTCUSDT', 't': 235518283, 'p': '8992.33000000', 'q': '0.01113200', 'b': 1089766427, 'a': 1089766432, 'T': 1580204525696, 'm': True, 'M': True}}\n",
      "{'stream': 'btcusdt@trade', 'data': {'e': 'trade', 'E': 1580204525791, 's': 'BTCUSDT', 't': 235518284, 'p': '8992.42000000', 'q': '0.00164600', 'b': 1089766452, 'a': 1089766455, 'T': 1580204525790, 'm': True, 'M': True}}\n",
      "{'stream': 'btcusdt@trade', 'data': {'e': 'trade', 'E': 1580204526716, 's': 'BTCUSDT', 't': 235518285, 'p': '8993.00000000', 'q': '0.00144700', 'b': 1089766530, 'a': 1089766539, 'T': 1580204526714, 'm': True, 'M': True}}\n",
      "{'stream': 'btcusdt@trade', 'data': {'e': 'trade', 'E': 1580204526819, 's': 'BTCUSDT', 't': 235518286, 'p': '8993.00000000', 'q': '0.04736600', 'b': 1089766530, 'a': 1089766542, 'T': 1580204526818, 'm': True, 'M': True}}\n",
      "{'stream': 'btcusdt@trade', 'data': {'e': 'trade', 'E': 1580204526930, 's': 'BTCUSDT', 't': 235518287, 'p': '8993.00000000', 'q': '0.02938900', 'b': 1089766530, 'a': 1089766545, 'T': 1580204526928, 'm': True, 'M': True}}\n",
      "{'stream': 'btcusdt@trade', 'data': {'e': 'trade', 'E': 1580204527039, 's': 'BTCUSDT', 't': 235518288, 'p': '8993.00000000', 'q': '0.00444600', 'b': 1089766530, 'a': 1089766549, 'T': 1580204527038, 'm': True, 'M': True}}\n",
      "{'stream': 'btcusdt@trade', 'data': {'e': 'trade', 'E': 1580204527274, 's': 'BTCUSDT', 't': 235518289, 'p': '8993.00000000', 'q': '0.00786800', 'b': 1089766530, 'a': 1089766560, 'T': 1580204527273, 'm': True, 'M': True}}\n"
     ]
    },
    {
     "name": "stdout",
     "output_type": "stream",
     "text": [
      "{'stream': 'btcusdt@trade', 'data': {'e': 'trade', 'E': 1580204527674, 's': 'BTCUSDT', 't': 235518290, 'p': '8993.01000000', 'q': '0.00818900', 'b': 1089766571, 'a': 1089765048, 'T': 1580204527672, 'm': False, 'M': True}}\n"
     ]
    }
   ],
   "source": [
    "manager = BinanceSocketManager(client)\n",
    "manager.start_multiplex_socket(streams, slow_callback)\n",
    "manager.run()"
   ]
  }
 ],
 "metadata": {
  "kernelspec": {
   "display_name": "Python 3",
   "language": "python",
   "name": "python3"
  },
  "language_info": {
   "codemirror_mode": {
    "name": "ipython",
    "version": 3
   },
   "file_extension": ".py",
   "mimetype": "text/x-python",
   "name": "python",
   "nbconvert_exporter": "python",
   "pygments_lexer": "ipython3",
   "version": "3.7.3"
  }
 },
 "nbformat": 4,
 "nbformat_minor": 2
}
