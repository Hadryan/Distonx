{
 "cells": [
  {
   "cell_type": "code",
   "execution_count": 10,
   "metadata": {},
   "outputs": [],
   "source": [
    "import numpy as np\n",
    "import pandas as pd\n",
    "import heapq as hp\n",
    "import multiprocessing as mp\n",
    "from time import sleep\n",
    "from binance.client import Client"
   ]
  },
  {
   "cell_type": "code",
   "execution_count": 19,
   "metadata": {},
   "outputs": [],
   "source": [
    "class StockMarket:\n",
    "\n",
    "    \n",
    "    # эта функция вызывается когда мы хотим купить amount монеток по текущей цене\n",
    "    def make_buy_order(self, currency_pair, amount):\n",
    "        amount *= (1 + self.fee)\n",
    "        if not self.spend_till_end and self.balance[0] < amount:\n",
    "            return [0, self.balance[0]]\n",
    "        spent = 0\n",
    "        amount = min(amount, self.balance[0])\n",
    "        res_amount = amount\n",
    "        for idx in range(len(self.orders['asks'])):\n",
    "            if self.orders['asks'][idx][1] > amount:\n",
    "                spent += self.orders['asks'][idx][0] * amount\n",
    "                amount = 0\n",
    "                break\n",
    "            else:\n",
    "                amount -= self.orders['asks'][idx][1]\n",
    "                spent += self.orders['asks'][idx][1] * self.orders['asks'][idx][0]\n",
    "        return [res_amount, -spent]\n",
    "\n",
    "    \n",
    "    # если хотим продать amount монеток по рыночной цене - нам сюда\n",
    "    def make_sell_order(self, currency_pair, amount):\n",
    "        amount \n",
    "        if not self.spend_till_end and self.balance[1] < amount:\n",
    "            return [0, self.balance[1]]\n",
    "        capital = 0\n",
    "        amount = min(amount, self.balance[1])\n",
    "        res_amount = amount\n",
    "        for idx in range(len(self.orders['bids'])):\n",
    "            if self.orders['bids'][idx][1] > amount:\n",
    "                capital += self.orders['bids'][idx][0] * amount\n",
    "                amount = 0\n",
    "                break\n",
    "            else:\n",
    "                amount -= self.orders['bids'][idx][1]\n",
    "                capital += self.orders['bids'][idx][1] * self.orders['bids'][idx][0]\n",
    "        return [-res_amount, capital]\n",
    "               \n",
    "        \n",
    "    # на вход поступает словарик {валютная пара: сколько хотим купить(если число отрицательное - продать)}\n",
    "    # словарик с балансом {валюта: количество, которым мы располагаем}, словарик-стакан по всем нужным валютным \n",
    "    # парам и флаг - что мы делаем, если у нас не хватает баланса для покупки желаемого количества валюты\n",
    "    # по умолчанию мы покупаем столько, сколько позволяют наши средства\n",
    "    def query(self, query_dict, balance, orders, spend_till_end=True): \n",
    "        self.spend_till_end = spend_till_end\n",
    "        result = dict()\n",
    "        for pair in query_dict:\n",
    "            self.orders = orders[pair]\n",
    "            self.balance = balance[pair]\n",
    "            if query_dict[pair] > 0:\n",
    "                result[pair] = self.make_buy_order(pair, query_dict[pair])\n",
    "            elif query_dict[pair] < 0:\n",
    "                result[pair] = self.make_sell_order(pair, -query_dict[pair])\n",
    "        return result # возвращаем словарик с изменениями в количестве валюты А и В\n",
    "    \n",
    "    \n",
    "    def __init__ (self, ):\n",
    "        self.bnb_fee = 0.00075\n",
    "        self.fee = 0.001\n",
    "        self.orders = []"
   ]
  },
  {
   "cell_type": "code",
   "execution_count": 20,
   "metadata": {},
   "outputs": [],
   "source": [
    "market = StockMarket()"
   ]
  },
  {
   "cell_type": "code",
   "execution_count": 21,
   "metadata": {},
   "outputs": [],
   "source": [
    "# это для тестирования, на самом деле словарик {ваоютная пара: {bids : [[price1, quantity1], ...],\n",
    "# asks: [[...]]}, ...} должен предоставлять DataCather\n",
    "\n",
    "def get_orderbook(): \n",
    "    api_key = 'E5Qcm1IZZHToGacR1W108lpmTTjp5UUiScMJEbN7sgo2f4FYj7QQQkoGvnCYdDaj'\n",
    "    api_secret = 'unvyAZ4ary0vCfGRlYHlA0yDRd82N5gzfYKK8J8iqaHdL3aMnKoI9kUZXZrVEZVN'\n",
    "    client = Client(api_key, api_secret)\n",
    "    orders = {'btcusdt': client.get_order_book(symbol='BTCUSDT'),\n",
    "                          'ltcbtc': client.get_order_book(symbol='LTCBTC')}\n",
    "    for pair in orders:\n",
    "        orders[pair]['bids'] = [[float(orders[pair]['bids'][i][0]),\n",
    "                                 float(orders[pair]['bids'][i][1])]for i in range(len(orders[pair]['bids']))]\n",
    "        orders[pair]['asks'] = [[float(orders[pair]['asks'][i][0]),\n",
    "                                 float(orders[pair]['asks'][i][1])]for i in range(len(orders[pair]['asks']))]\n",
    "    return orders"
   ]
  },
  {
   "cell_type": "code",
   "execution_count": 22,
   "metadata": {},
   "outputs": [
    {
     "data": {
      "text/plain": [
       "{'btcusdt': [2, -19285.48667128], 'ltcbtc': [-2, 0.015742]}"
      ]
     },
     "execution_count": 22,
     "metadata": {},
     "output_type": "execute_result"
    }
   ],
   "source": [
    "market.query({'btcusdt': 3, 'ltcbtc': -5}, {'btcusdt':[2, 1e4], 'ltcbtc':[4, 2]}, get_orderbook())"
   ]
  },
  {
   "cell_type": "code",
   "execution_count": null,
   "metadata": {},
   "outputs": [],
   "source": []
  }
 ],
 "metadata": {
  "kernelspec": {
   "display_name": "Python 3",
   "language": "python",
   "name": "python3"
  },
  "language_info": {
   "codemirror_mode": {
    "name": "ipython",
    "version": 3
   },
   "file_extension": ".py",
   "mimetype": "text/x-python",
   "name": "python",
   "nbconvert_exporter": "python",
   "pygments_lexer": "ipython3",
   "version": "3.7.5"
  }
 },
 "nbformat": 4,
 "nbformat_minor": 2
}
