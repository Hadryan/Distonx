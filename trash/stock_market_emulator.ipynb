{
 "cells": [
  {
   "cell_type": "code",
   "execution_count": 1,
   "metadata": {},
   "outputs": [],
   "source": [
    "import numpy as np\n",
    "import pandas as pd\n",
    "import heapq as hp\n",
    "import multiprocessing as mp\n",
    "from time import sleep\n",
    "from binance.client import Client"
   ]
  },
  {
   "cell_type": "code",
   "execution_count": 81,
   "metadata": {},
   "outputs": [],
   "source": [
    "class StockMarket:\n",
    "    # эта функция вызывается когда мы хотим купить amount монеток по текущей цене\n",
    "    def make_buy_order(self, currency_pair, amount):\n",
    "        amount *= (1 + self.fee)\n",
    "        spent = 0\n",
    "        res_amount = amount\n",
    "        for idx in range(len(self.orders['asks'])):\n",
    "            if self.balance[1] <= 0 or amount <= 0:\n",
    "                break\n",
    "            can_afford = self.balance[1] / self.orders['asks'][idx][0] # сколько можем купить исходя из баланса\n",
    "            spent_on_cur_iter = min(self.orders['asks'][idx][1], amount, can_afford) * self.orders['asks'][idx][0]\n",
    "            spent += spent_on_cur_iter\n",
    "            self.balance[1] -= spent_on_cur_iter\n",
    "            amount -= spent_on_cur_iter / self.orders['asks'][idx][0]\n",
    "        if not self.spend_till_end and amount > 0:\n",
    "            return [0, self.balance[1]]\n",
    "        return [res_amount - amount, -spent]\n",
    "\n",
    "    \n",
    "    # если хотим продать amount монеток по рыночной цене - нам сюда\n",
    "    def make_sell_order(self, currency_pair, amount):\n",
    "        amount *= (1 - self.fee)\n",
    "        if not self.spend_till_end and self.balance[0] < amount:\n",
    "            return [0, self.balance[0]]\n",
    "        capital = 0\n",
    "        amount = min(amount, self.balance[0])\n",
    "        res_amount = amount\n",
    "        for idx in range(len(self.orders['bids'])):\n",
    "            if amount <= 0:\n",
    "                break\n",
    "            can_afford = min(amount, self.orders['bids'][idx][1])\n",
    "            amount -= can_afford\n",
    "            capital += can_afford * self.orders['bids'][idx][0]\n",
    "        return [-res_amount, capital]\n",
    "               \n",
    "        \n",
    "    # на вход поступает словарик {валютная пара: сколько хотим купить(если число отрицательное - продать)}\n",
    "    # словарик с балансом {валюта: количество, которым мы располагаем}, словарик-стакан по всем нужным валютным \n",
    "    # парам и флаг - что мы делаем, если у нас не хватает баланса для покупки желаемого количества валюты\n",
    "    # по умолчанию мы покупаем столько, сколько позволяют наши средства\n",
    "    def query(self, query_dict, balance, orders, spend_till_end=True): \n",
    "        self.spend_till_end = spend_till_end\n",
    "        result = dict()\n",
    "        for pair in query_dict:\n",
    "            self.orders = orders[pair]\n",
    "            self.balance = [balance[pair[:3]], balance[pair[3:]]]\n",
    "            print(self.balance)\n",
    "            if query_dict[pair] > 0:\n",
    "                result[pair] = self.make_buy_order(pair, query_dict[pair])\n",
    "            elif query_dict[pair] < 0:\n",
    "                result[pair] = self.make_sell_order(pair, -query_dict[pair])\n",
    "            balance[pair[:3]] += result[pair][0]\n",
    "            balance[pair[3:]] += result[pair][1]\n",
    "        return result # возвращаем словарик с изменениями в количестве валюты А и В\n",
    "    \n",
    "    \n",
    "    def __init__ (self, ):\n",
    "        self.bnb_fee = 0.00075\n",
    "        self.fee = 0.001\n",
    "        self.orders = []\n",
    "        with open('min_order_size_and_step.txt', 'r') as f:\n",
    "            self.min_order_size = eval(f.read())"
   ]
  },
  {
   "cell_type": "code",
   "execution_count": 82,
   "metadata": {},
   "outputs": [],
   "source": [
    "market = StockMarket()"
   ]
  },
  {
   "cell_type": "code",
   "execution_count": 83,
   "metadata": {},
   "outputs": [],
   "source": [
    "# это для тестирования, на самом деле словарик {ваоютная пара: {bids : [[price1, quantity1], ...],\n",
    "# asks: [[...]]}, ...} должен предоставлять DataCather\n",
    "\n",
    "def get_orderbook(): \n",
    "    api_key = 'E5Qcm1IZZHToGacR1W108lpmTTjp5UUiScMJEbN7sgo2f4FYj7QQQkoGvnCYdDaj'\n",
    "    api_secret = 'unvyAZ4ary0vCfGRlYHlA0yDRd82N5gzfYKK8J8iqaHdL3aMnKoI9kUZXZrVEZVN'\n",
    "    client = Client(api_key, api_secret)\n",
    "    orders = {'btcusdt': client.get_order_book(symbol='BTCUSDT'),\n",
    "                          'ltcbtc': client.get_order_book(symbol='LTCBTC')}\n",
    "    for pair in orders:\n",
    "        orders[pair]['bids'] = [[float(orders[pair]['bids'][i][0]),\n",
    "                                 float(orders[pair]['bids'][i][1])]for i in range(len(orders[pair]['bids']))]\n",
    "        orders[pair]['asks'] = [[float(orders[pair]['asks'][i][0]),\n",
    "                                 float(orders[pair]['asks'][i][1])]for i in range(len(orders[pair]['asks']))]\n",
    "    return orders"
   ]
  },
  {
   "cell_type": "code",
   "execution_count": 84,
   "metadata": {},
   "outputs": [
    {
     "name": "stdout",
     "output_type": "stream",
     "text": [
      "[2, 20000.0]\n",
      "[3, 4.034160491003993]\n"
     ]
    },
    {
     "data": {
      "text/plain": [
       "{'btcusdt': [2.034160491003993, -20000.0],\n",
       " 'ltcbtc': [-3, 0.023918999999999996]}"
      ]
     },
     "execution_count": 84,
     "metadata": {},
     "output_type": "execute_result"
    }
   ],
   "source": [
    "market.query({'btcusdt': 3, 'ltcbtc': -5}, {'btc': 2, 'ltc': 3, 'usdt': 2e4}, get_orderbook())"
   ]
  },
  {
   "cell_type": "code",
   "execution_count": 52,
   "metadata": {},
   "outputs": [],
   "source": [
    "min_order_size = {\n",
    " 'btcusdt': [0.000001, 10, 0.01],\n",
    " 'ethusdt': [0.00001, 10, 0.01],\n",
    " 'bchusdt': [0.00001, 10, 0.01],\n",
    " 'bnbusdt': [0.01, 10, 0.0001],\n",
    " 'ltcusdt': [0.00001, 10, 0.01],\n",
    " 'ethbtc': [0.001, 0.0001, 0.000001],\n",
    " 'bchbtc': [0.001, 0.0001, 0.000001],\n",
    " 'bnbbtc': [0.01, 0.0001, 0.0000001],\n",
    " 'ltcbtc': [0.01, 0.0001, 0.000001],\n",
    " 'bchbnb': [0.001, 0.1, 0.001],\n",
    " 'ltcbnb': [0.001, 0.1, 0.001]\n",
    "}"
   ]
  },
  {
   "cell_type": "code",
   "execution_count": 57,
   "metadata": {},
   "outputs": [
    {
     "name": "stdout",
     "output_type": "stream",
     "text": [
      "{'btcusdt': [1e-06, 10, 0.01], 'ethusdt': [1e-05, 10, 0.01], 'bchusdt': [1e-05, 10, 0.01], 'bnbusdt': [0.01, 10, 0.0001], 'ltcusdt': [1e-05, 10, 0.01], 'ethbtc': [0.001, 0.0001, 1e-06], 'bchbtc': [0.001, 0.0001, 1e-06], 'bnbbtc': [0.01, 0.0001, 1e-07], 'ltcbtc': [0.01, 0.0001, 1e-06], 'bchbnb': [0.001, 0.1, 0.001], 'ltcbnb': [0.001, 0.1, 0.001]}\n"
     ]
    }
   ],
   "source": [
    "\n",
    "print(d)"
   ]
  },
  {
   "cell_type": "code",
   "execution_count": null,
   "metadata": {},
   "outputs": [],
   "source": []
  }
 ],
 "metadata": {
  "kernelspec": {
   "display_name": "Python 3",
   "language": "python",
   "name": "python3"
  },
  "language_info": {
   "codemirror_mode": {
    "name": "ipython",
    "version": 3
   },
   "file_extension": ".py",
   "mimetype": "text/x-python",
   "name": "python",
   "nbconvert_exporter": "python",
   "pygments_lexer": "ipython3",
   "version": "3.7.5"
  }
 },
 "nbformat": 4,
 "nbformat_minor": 2
}
