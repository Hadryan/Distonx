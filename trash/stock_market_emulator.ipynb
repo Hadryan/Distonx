{
 "cells": [
  {
   "cell_type": "code",
   "execution_count": 3,
   "metadata": {},
   "outputs": [],
   "source": [
    "import numpy as np\n",
    "import pandas as pd\n",
    "import heapq as hp\n",
    "import multiprocessing as mp\n",
    "from time import sleep\n",
    "from binance.client import Client"
   ]
  },
  {
   "cell_type": "code",
   "execution_count": 35,
   "metadata": {},
   "outputs": [],
   "source": [
    "class StockMarket:\n",
    "    # Потом сюда прикручу получение данных онлайн \n",
    "    currency_pair = 'btcusdt'\n",
    "    \n",
    "    \n",
    "    def initialize_client(self): # тут мы инициализируем наш клиент чтобы он умел посылать запросики\n",
    "        api_key = 'E5Qcm1IZZHToGacR1W108lpmTTjp5UUiScMJEbN7sgo2f4FYj7QQQkoGvnCYdDaj'\n",
    "        api_secret = 'unvyAZ4ary0vCfGRlYHlA0yDRd82N5gzfYKK8J8iqaHdL3aMnKoI9kUZXZrVEZVN'\n",
    "        self.client = Client(api_key, api_secret)\n",
    "    \n",
    "    \n",
    "    def renew(self): # обновляем наш ордербук - на деле это будет происходить за счет DataCather, сейчас просто тест\n",
    "        self.orders = client.get_order_book(symbol=self.currency_pair.upper())\n",
    "        length = len(self.orders['asks'])\n",
    "        self.orders['asks'] = [[float(self.orders['asks'][i][0]),\n",
    "                                float(self.orders['asks'][i][1])]for i in range(length)]\n",
    "        self.orders['bids'] = [[float(self.orders['bids'][i][0]),\n",
    "                                float(self.orders['bids'][i][1])]for i in range(length)]\n",
    "    \n",
    "    def make_buy_order(self, amount): # эта функция вызывается когда мы хотим купить amount монеток по текущей цене\n",
    "        if amount > self.stored_number_of_currency:\n",
    "            return -1\n",
    "        spent = 0\n",
    "        self.renew()\n",
    "        for idx in range(len(self.orders['asks'])):\n",
    "            if self.orders['asks'][idx][1] > amount:\n",
    "                spent += self.orders['asks'][idx][0] * amount\n",
    "                amount = 0\n",
    "                break\n",
    "            else:\n",
    "                amount -= self.orders['asks'][idx][1]\n",
    "                spent += self.orders['asks'][idx][1] * self.orders['asks'][idx][0]\n",
    "        return spent\n",
    "\n",
    "    \n",
    "    def make_sell_order(self, amount): # если хотим продать amount монеток по рыночной цене - нам сюда\n",
    "        if amount > self.stored_number_of_currency:\n",
    "            return -1\n",
    "        capital = 0\n",
    "        self.renew()\n",
    "        for idx in range(len(self.orders['bids'])):\n",
    "            if self.orders['bids'][idx][1] > amount:\n",
    "                capital += self.orders['bids'][idx][0] * amount\n",
    "                amount = 0\n",
    "                break\n",
    "            else:\n",
    "                amount -= self.orders['bids'][idx][1]\n",
    "                capital += self.orders['bids'][idx][1] * self.orders['bids'][idx][0]\n",
    "        return capital\n",
    "               \n",
    "        \n",
    "    def predict_price_movement(self, goes_up):\n",
    "        # прогнозирование движения цены на следующей итерации стакана\n",
    "        return\n",
    "\n",
    "    \n",
    "    def __init__ (self, cur_pair = 'btcusdt'):\n",
    "        self.currency_pair = cur_pair\n",
    "        self.stored_number_of_currency = 5\n",
    "        \n",
    "        self.initialize_client()\n",
    "        \n",
    "# Потсупает словарик с ключом - валютной парой и значением - сколько купить. Возвращаем словарик пар - на сколько\n",
    "# изменилось количество первой и второй валюты. Напишу завтра"
   ]
  },
  {
   "cell_type": "code",
   "execution_count": 36,
   "metadata": {},
   "outputs": [],
   "source": [
    "bitcoin = StockMarket()"
   ]
  },
  {
   "cell_type": "code",
   "execution_count": 38,
   "metadata": {},
   "outputs": [
    {
     "data": {
      "text/plain": [
       "9636.55"
      ]
     },
     "execution_count": 38,
     "metadata": {},
     "output_type": "execute_result"
    }
   ],
   "source": [
    "bitcoin.make_buy_order(1)"
   ]
  }
 ],
 "metadata": {
  "kernelspec": {
   "display_name": "Python 3",
   "language": "python",
   "name": "python3"
  },
  "language_info": {
   "codemirror_mode": {
    "name": "ipython",
    "version": 3
   },
   "file_extension": ".py",
   "mimetype": "text/x-python",
   "name": "python",
   "nbconvert_exporter": "python",
   "pygments_lexer": "ipython3",
   "version": "3.7.5"
  }
 },
 "nbformat": 4,
 "nbformat_minor": 2
}
